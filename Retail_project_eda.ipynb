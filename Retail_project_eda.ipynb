{
 "cells": [
  {
   "cell_type": "markdown",
   "id": "aee61d8b",
   "metadata": {},
   "source": [
    "## Installations required for project:\n",
    "\n",
    "### pip install snowflake-connector-python\n",
    "### pip install pandas-profiling\n",
    "### pip install snowflake-sqlalchemy\n",
    "### pip install \"snowflake-connector-python[pandas]\""
   ]
  },
  {
   "cell_type": "code",
   "execution_count": null,
   "id": "c8034b29-1d6b-4b92-a0d2-f554d0efcb1c",
   "metadata": {},
   "outputs": [],
   "source": [
    "\n"
   ]
  },
  {
   "cell_type": "code",
   "execution_count": 1,
   "id": "3d0a96db",
   "metadata": {},
   "outputs": [],
   "source": [
    "import numpy as np\n",
    "import pandas as pd\n",
    "import matplotlib.pyplot as plt\n",
    "import getpass\n",
    "import seaborn as sns\n",
    "%matplotlib inline\n",
    "import snowflake.connector\n"
   ]
  },
  {
   "cell_type": "code",
   "execution_count": 2,
   "id": "cb4316cb",
   "metadata": {},
   "outputs": [],
   "source": [
    "conn = snowflake.connector.connect(\n",
    "    user = 'GAURAVMISHRAGM14',\n",
    "    password = getpass.getpass(\"Your Snowflake password: \\n\"),\n",
    "    account = 'ITBLSIZ-DM68127',\n",
    "    warehouse = 'GAURAV',\n",
    "    database = 'RETAIL_PROJECT',\n",
    "    schema = 'PUBLIC'\n",
    ")\n"
   ]
  },
  {
   "cell_type": "code",
   "execution_count": 3,
   "id": "29f79d26",
   "metadata": {},
   "outputs": [],
   "source": [
    "cur = conn.cursor()"
   ]
  },
  {
   "cell_type": "code",
   "execution_count": 4,
   "id": "a6ef3a2d",
   "metadata": {},
   "outputs": [],
   "source": [
    "sel_campaign_desc = \" select * from CAMPAIGN_DESC_RAW ;\"\n",
    "sel_campaign = \" select * from CAMPAIGN_RAW ;\"\n",
    "sel_coupon = \" select * from COUPON_RAW ;\"\n",
    "sel_coupon_redempt = \" select * from COUPON_REDEMPT_RAW ;\"\n",
    "sel_demographic = \" select * from HH_DEMOGRAPHIC_RAW ;\"\n",
    "sel_product = \" select * from PRODUCT_RAW ;\"\n",
    "sel_transactions = \" select * from TRANSACTIONS_RAW ;\""
   ]
  },
  {
   "cell_type": "code",
   "execution_count": 5,
   "id": "4e84090a",
   "metadata": {},
   "outputs": [],
   "source": [
    "cur.execute(sel_campaign_desc)\n",
    "CAMPAIGN_DESC_RAW = cur.fetch_pandas_all()"
   ]
  },
  {
   "cell_type": "code",
   "execution_count": 6,
   "id": "7e726b5d",
   "metadata": {},
   "outputs": [],
   "source": [
    "cur.execute(sel_campaign)\n",
    "CAMPAIGN_RAW = cur.fetch_pandas_all()"
   ]
  },
  {
   "cell_type": "code",
   "execution_count": 7,
   "id": "af85cc3d",
   "metadata": {},
   "outputs": [],
   "source": [
    "cur.execute(sel_coupon)\n",
    "COUPON_RAW = cur.fetch_pandas_all()"
   ]
  },
  {
   "cell_type": "code",
   "execution_count": 8,
   "id": "d4aee6a1",
   "metadata": {},
   "outputs": [],
   "source": [
    "cur.execute(sel_coupon_redempt)\n",
    "COUPON_REDEMPT_RAW = cur.fetch_pandas_all()"
   ]
  },
  {
   "cell_type": "code",
   "execution_count": 9,
   "id": "1b0c7df0",
   "metadata": {},
   "outputs": [],
   "source": [
    "cur.execute(sel_demographic)\n",
    "HH_DEMOGRAPHIC_RAW = cur.fetch_pandas_all()"
   ]
  },
  {
   "cell_type": "code",
   "execution_count": 10,
   "id": "376d035d",
   "metadata": {},
   "outputs": [],
   "source": [
    "cur.execute(sel_product)\n",
    "PRODUCT_RAW = cur.fetch_pandas_all()"
   ]
  },
  {
   "cell_type": "code",
   "execution_count": 11,
   "id": "38433d7c",
   "metadata": {},
   "outputs": [],
   "source": [
    "cur.execute(sel_transactions)\n",
    "TRANSACTIONS_RAW = cur.fetch_pandas_all()"
   ]
  },
  {
   "cell_type": "code",
   "execution_count": 12,
   "id": "ed1bcbb2",
   "metadata": {},
   "outputs": [],
   "source": [
    "cur.close()\n",
    "conn.close()"
   ]
  },
  {
   "cell_type": "code",
   "execution_count": 13,
   "id": "2a6acacc",
   "metadata": {},
   "outputs": [
    {
     "data": {
      "text/plain": [
       "(30, 4)"
      ]
     },
     "execution_count": 13,
     "metadata": {},
     "output_type": "execute_result"
    }
   ],
   "source": [
    "CAMPAIGN_DESC_RAW.shape ##checking the size of data for each table"
   ]
  },
  {
   "cell_type": "code",
   "execution_count": 14,
   "id": "eb9fd9d0",
   "metadata": {},
   "outputs": [
    {
     "data": {
      "text/plain": [
       "(450416, 12)"
      ]
     },
     "execution_count": 14,
     "metadata": {},
     "output_type": "execute_result"
    }
   ],
   "source": [
    "TRANSACTIONS_RAW.shape"
   ]
  },
  {
   "cell_type": "code",
   "execution_count": 15,
   "id": "2271cd6d",
   "metadata": {},
   "outputs": [
    {
     "data": {
      "text/plain": [
       "(92353, 7)"
      ]
     },
     "execution_count": 15,
     "metadata": {},
     "output_type": "execute_result"
    }
   ],
   "source": [
    "PRODUCT_RAW.shape"
   ]
  },
  {
   "cell_type": "code",
   "execution_count": 16,
   "id": "814b2e07",
   "metadata": {},
   "outputs": [
    {
     "data": {
      "text/plain": [
       "(2500, 8)"
      ]
     },
     "execution_count": 16,
     "metadata": {},
     "output_type": "execute_result"
    }
   ],
   "source": [
    "HH_DEMOGRAPHIC_RAW.shape"
   ]
  },
  {
   "cell_type": "code",
   "execution_count": 17,
   "id": "3e4a5960",
   "metadata": {},
   "outputs": [
    {
     "data": {
      "text/plain": [
       "(2318, 4)"
      ]
     },
     "execution_count": 17,
     "metadata": {},
     "output_type": "execute_result"
    }
   ],
   "source": [
    "COUPON_REDEMPT_RAW.shape"
   ]
  },
  {
   "cell_type": "code",
   "execution_count": 18,
   "id": "50850c81",
   "metadata": {},
   "outputs": [
    {
     "data": {
      "text/plain": [
       "(124548, 3)"
      ]
     },
     "execution_count": 18,
     "metadata": {},
     "output_type": "execute_result"
    }
   ],
   "source": [
    "COUPON_RAW.shape"
   ]
  },
  {
   "cell_type": "code",
   "execution_count": 19,
   "id": "86a88a9b",
   "metadata": {},
   "outputs": [
    {
     "data": {
      "text/plain": [
       "(7208, 3)"
      ]
     },
     "execution_count": 19,
     "metadata": {},
     "output_type": "execute_result"
    }
   ],
   "source": [
    "CAMPAIGN_RAW.shape"
   ]
  },
  {
   "cell_type": "code",
   "execution_count": 20,
   "id": "3d83a951",
   "metadata": {},
   "outputs": [
    {
     "data": {
      "text/plain": [
       "AGE_DESC               0\n",
       "MARITAL_STATUS_CODE    0\n",
       "INCOME_DESC            0\n",
       "HOMEOWNER_DESC         0\n",
       "HH_COMP_DESC           0\n",
       "HOUSEHOLD_SIZE_DESC    0\n",
       "KID_CATEGORY_DESC      0\n",
       "HOUSEHOLD_KEY          0\n",
       "dtype: int64"
      ]
     },
     "execution_count": 20,
     "metadata": {},
     "output_type": "execute_result"
    }
   ],
   "source": [
    "HH_DEMOGRAPHIC_RAW.isnull().sum()  ##checking for any null values is available in the table or not. Same we will repeat for every table"
   ]
  },
  {
   "cell_type": "code",
   "execution_count": 21,
   "id": "aa9e8d64",
   "metadata": {},
   "outputs": [
    {
     "data": {
      "text/plain": [
       "DESCRIPTION    0\n",
       "CAMPAIGN       0\n",
       "START_DAY      0\n",
       "END_DAY        0\n",
       "dtype: int64"
      ]
     },
     "execution_count": 21,
     "metadata": {},
     "output_type": "execute_result"
    }
   ],
   "source": [
    "CAMPAIGN_DESC_RAW.isnull().sum()"
   ]
  },
  {
   "cell_type": "code",
   "execution_count": 22,
   "id": "c4c2c26c",
   "metadata": {},
   "outputs": [
    {
     "data": {
      "text/plain": [
       "DESCRIPTION      0\n",
       "HOUSEHOLD_KEY    0\n",
       "CAMPAIGN         0\n",
       "dtype: int64"
      ]
     },
     "execution_count": 22,
     "metadata": {},
     "output_type": "execute_result"
    }
   ],
   "source": [
    "CAMPAIGN_RAW.isnull().sum()"
   ]
  },
  {
   "cell_type": "code",
   "execution_count": 23,
   "id": "3f583703",
   "metadata": {},
   "outputs": [
    {
     "data": {
      "text/plain": [
       "COUPON_UPC    0\n",
       "PRODUCT_ID    0\n",
       "CAMPAIGN      0\n",
       "dtype: int64"
      ]
     },
     "execution_count": 23,
     "metadata": {},
     "output_type": "execute_result"
    }
   ],
   "source": [
    "COUPON_RAW.isnull().sum()"
   ]
  },
  {
   "cell_type": "code",
   "execution_count": 24,
   "id": "5565a2fe",
   "metadata": {},
   "outputs": [
    {
     "data": {
      "text/plain": [
       "HOUSEHOLD_KEY    0\n",
       "DAY              0\n",
       "COUPON_UPC       0\n",
       "CAMPAIGN         0\n",
       "dtype: int64"
      ]
     },
     "execution_count": 24,
     "metadata": {},
     "output_type": "execute_result"
    }
   ],
   "source": [
    "COUPON_REDEMPT_RAW.isnull().sum()"
   ]
  },
  {
   "cell_type": "code",
   "execution_count": 25,
   "id": "634e6fa4",
   "metadata": {},
   "outputs": [
    {
     "data": {
      "text/plain": [
       "PRODUCT_ID              0\n",
       "MANUFACTURER            0\n",
       "DEPARTMENT              0\n",
       "BRAND                   0\n",
       "COMMODITY_DESC          0\n",
       "SUB_COMMODITY_DESC      0\n",
       "CURR_SIZE_OF_PRODUCT    0\n",
       "dtype: int64"
      ]
     },
     "execution_count": 25,
     "metadata": {},
     "output_type": "execute_result"
    }
   ],
   "source": [
    "PRODUCT_RAW.isnull().sum()"
   ]
  },
  {
   "cell_type": "code",
   "execution_count": 26,
   "id": "7d972e8c",
   "metadata": {},
   "outputs": [
    {
     "data": {
      "text/plain": [
       "HOUSEHOLD_KEY        0\n",
       "BASKET_ID            0\n",
       "DAY                  0\n",
       "PRODUCT_ID           0\n",
       "QUANTITY             0\n",
       "SALES_VALUE          0\n",
       "STORE_ID             0\n",
       "RETAIL_DISC          0\n",
       "TRANS_TIME           0\n",
       "WEEK_NO              0\n",
       "COUPON_DISC          0\n",
       "COUPON_MATCH_DISC    0\n",
       "dtype: int64"
      ]
     },
     "execution_count": 26,
     "metadata": {},
     "output_type": "execute_result"
    }
   ],
   "source": [
    "TRANSACTIONS_RAW.isnull().sum()"
   ]
  },
  {
   "cell_type": "code",
   "execution_count": 27,
   "id": "0e1b0ff3",
   "metadata": {},
   "outputs": [
    {
     "data": {
      "text/html": [
       "<div>\n",
       "<style scoped>\n",
       "    .dataframe tbody tr th:only-of-type {\n",
       "        vertical-align: middle;\n",
       "    }\n",
       "\n",
       "    .dataframe tbody tr th {\n",
       "        vertical-align: top;\n",
       "    }\n",
       "\n",
       "    .dataframe thead th {\n",
       "        text-align: right;\n",
       "    }\n",
       "</style>\n",
       "<table border=\"1\" class=\"dataframe\">\n",
       "  <thead>\n",
       "    <tr style=\"text-align: right;\">\n",
       "      <th></th>\n",
       "      <th>HOUSEHOLD_KEY</th>\n",
       "      <th>BASKET_ID</th>\n",
       "      <th>DAY</th>\n",
       "      <th>PRODUCT_ID</th>\n",
       "      <th>QUANTITY</th>\n",
       "      <th>SALES_VALUE</th>\n",
       "      <th>STORE_ID</th>\n",
       "      <th>RETAIL_DISC</th>\n",
       "      <th>TRANS_TIME</th>\n",
       "      <th>WEEK_NO</th>\n",
       "      <th>COUPON_DISC</th>\n",
       "      <th>COUPON_MATCH_DISC</th>\n",
       "    </tr>\n",
       "  </thead>\n",
       "  <tbody>\n",
       "    <tr>\n",
       "      <th>0</th>\n",
       "      <td>2375</td>\n",
       "      <td>26984851472</td>\n",
       "      <td>1</td>\n",
       "      <td>1004906</td>\n",
       "      <td>1</td>\n",
       "      <td>1.39</td>\n",
       "      <td>364</td>\n",
       "      <td>-0.60</td>\n",
       "      <td>1631</td>\n",
       "      <td>1</td>\n",
       "      <td>0</td>\n",
       "      <td>0</td>\n",
       "    </tr>\n",
       "    <tr>\n",
       "      <th>1</th>\n",
       "      <td>2375</td>\n",
       "      <td>26984851472</td>\n",
       "      <td>1</td>\n",
       "      <td>1033142</td>\n",
       "      <td>1</td>\n",
       "      <td>0.82</td>\n",
       "      <td>364</td>\n",
       "      <td>0.00</td>\n",
       "      <td>1631</td>\n",
       "      <td>1</td>\n",
       "      <td>0</td>\n",
       "      <td>0</td>\n",
       "    </tr>\n",
       "    <tr>\n",
       "      <th>2</th>\n",
       "      <td>2375</td>\n",
       "      <td>26984851472</td>\n",
       "      <td>1</td>\n",
       "      <td>1036325</td>\n",
       "      <td>1</td>\n",
       "      <td>0.99</td>\n",
       "      <td>364</td>\n",
       "      <td>-0.30</td>\n",
       "      <td>1631</td>\n",
       "      <td>1</td>\n",
       "      <td>0</td>\n",
       "      <td>0</td>\n",
       "    </tr>\n",
       "    <tr>\n",
       "      <th>3</th>\n",
       "      <td>2375</td>\n",
       "      <td>26984851472</td>\n",
       "      <td>1</td>\n",
       "      <td>1082185</td>\n",
       "      <td>1</td>\n",
       "      <td>1.21</td>\n",
       "      <td>364</td>\n",
       "      <td>0.00</td>\n",
       "      <td>1631</td>\n",
       "      <td>1</td>\n",
       "      <td>0</td>\n",
       "      <td>0</td>\n",
       "    </tr>\n",
       "    <tr>\n",
       "      <th>4</th>\n",
       "      <td>2375</td>\n",
       "      <td>26984851472</td>\n",
       "      <td>1</td>\n",
       "      <td>8160430</td>\n",
       "      <td>1</td>\n",
       "      <td>1.50</td>\n",
       "      <td>364</td>\n",
       "      <td>-0.39</td>\n",
       "      <td>1631</td>\n",
       "      <td>1</td>\n",
       "      <td>0</td>\n",
       "      <td>0</td>\n",
       "    </tr>\n",
       "  </tbody>\n",
       "</table>\n",
       "</div>"
      ],
      "text/plain": [
       "   HOUSEHOLD_KEY    BASKET_ID  DAY  PRODUCT_ID  QUANTITY  SALES_VALUE  \\\n",
       "0           2375  26984851472    1     1004906         1         1.39   \n",
       "1           2375  26984851472    1     1033142         1         0.82   \n",
       "2           2375  26984851472    1     1036325         1         0.99   \n",
       "3           2375  26984851472    1     1082185         1         1.21   \n",
       "4           2375  26984851472    1     8160430         1         1.50   \n",
       "\n",
       "   STORE_ID  RETAIL_DISC  TRANS_TIME  WEEK_NO  COUPON_DISC  COUPON_MATCH_DISC  \n",
       "0       364        -0.60        1631        1            0                  0  \n",
       "1       364         0.00        1631        1            0                  0  \n",
       "2       364        -0.30        1631        1            0                  0  \n",
       "3       364         0.00        1631        1            0                  0  \n",
       "4       364        -0.39        1631        1            0                  0  "
      ]
     },
     "execution_count": 27,
     "metadata": {},
     "output_type": "execute_result"
    }
   ],
   "source": [
    "TRANSACTIONS_RAW.head()"
   ]
  },
  {
   "cell_type": "code",
   "execution_count": 28,
   "id": "82d50748",
   "metadata": {},
   "outputs": [
    {
     "data": {
      "text/html": [
       "<div>\n",
       "<style scoped>\n",
       "    .dataframe tbody tr th:only-of-type {\n",
       "        vertical-align: middle;\n",
       "    }\n",
       "\n",
       "    .dataframe tbody tr th {\n",
       "        vertical-align: top;\n",
       "    }\n",
       "\n",
       "    .dataframe thead th {\n",
       "        text-align: right;\n",
       "    }\n",
       "</style>\n",
       "<table border=\"1\" class=\"dataframe\">\n",
       "  <thead>\n",
       "    <tr style=\"text-align: right;\">\n",
       "      <th></th>\n",
       "      <th>HOUSEHOLD_KEY</th>\n",
       "      <th>BASKET_ID</th>\n",
       "      <th>DAY</th>\n",
       "      <th>PRODUCT_ID</th>\n",
       "      <th>QUANTITY</th>\n",
       "      <th>SALES_VALUE</th>\n",
       "      <th>STORE_ID</th>\n",
       "      <th>RETAIL_DISC</th>\n",
       "      <th>TRANS_TIME</th>\n",
       "      <th>WEEK_NO</th>\n",
       "      <th>COUPON_DISC</th>\n",
       "      <th>COUPON_MATCH_DISC</th>\n",
       "    </tr>\n",
       "  </thead>\n",
       "  <tbody>\n",
       "    <tr>\n",
       "      <th>count</th>\n",
       "      <td>450416.00000</td>\n",
       "      <td>4.504160e+05</td>\n",
       "      <td>450416.000000</td>\n",
       "      <td>4.504160e+05</td>\n",
       "      <td>450416.000000</td>\n",
       "      <td>450416.000000</td>\n",
       "      <td>450416.000000</td>\n",
       "      <td>450416.000000</td>\n",
       "      <td>450416.000000</td>\n",
       "      <td>450416.000000</td>\n",
       "      <td>450416.000000</td>\n",
       "      <td>450416.000000</td>\n",
       "    </tr>\n",
       "    <tr>\n",
       "      <th>mean</th>\n",
       "      <td>1259.55822</td>\n",
       "      <td>2.840143e+10</td>\n",
       "      <td>112.470718</td>\n",
       "      <td>2.209464e+06</td>\n",
       "      <td>86.522561</td>\n",
       "      <td>3.018436</td>\n",
       "      <td>2586.661648</td>\n",
       "      <td>-0.552774</td>\n",
       "      <td>1583.582364</td>\n",
       "      <td>16.754487</td>\n",
       "      <td>-0.014860</td>\n",
       "      <td>-0.001920</td>\n",
       "    </tr>\n",
       "    <tr>\n",
       "      <th>std</th>\n",
       "      <td>728.10869</td>\n",
       "      <td>5.792110e+08</td>\n",
       "      <td>42.064258</td>\n",
       "      <td>2.726512e+06</td>\n",
       "      <td>1058.788785</td>\n",
       "      <td>3.860427</td>\n",
       "      <td>7996.435988</td>\n",
       "      <td>1.186736</td>\n",
       "      <td>415.130098</td>\n",
       "      <td>6.018864</td>\n",
       "      <td>0.195378</td>\n",
       "      <td>0.044335</td>\n",
       "    </tr>\n",
       "    <tr>\n",
       "      <th>min</th>\n",
       "      <td>1.00000</td>\n",
       "      <td>2.698485e+10</td>\n",
       "      <td>1.000000</td>\n",
       "      <td>2.567100e+04</td>\n",
       "      <td>0.000000</td>\n",
       "      <td>0.000000</td>\n",
       "      <td>1.000000</td>\n",
       "      <td>-75.000000</td>\n",
       "      <td>0.000000</td>\n",
       "      <td>1.000000</td>\n",
       "      <td>-17.000000</td>\n",
       "      <td>-3.000000</td>\n",
       "    </tr>\n",
       "    <tr>\n",
       "      <th>25%</th>\n",
       "      <td>641.00000</td>\n",
       "      <td>2.798531e+10</td>\n",
       "      <td>84.000000</td>\n",
       "      <td>9.118780e+05</td>\n",
       "      <td>1.000000</td>\n",
       "      <td>1.250000</td>\n",
       "      <td>330.000000</td>\n",
       "      <td>-0.740000</td>\n",
       "      <td>1317.000000</td>\n",
       "      <td>13.000000</td>\n",
       "      <td>0.000000</td>\n",
       "      <td>0.000000</td>\n",
       "    </tr>\n",
       "    <tr>\n",
       "      <th>50%</th>\n",
       "      <td>1234.00000</td>\n",
       "      <td>2.839168e+10</td>\n",
       "      <td>117.000000</td>\n",
       "      <td>1.016800e+06</td>\n",
       "      <td>1.000000</td>\n",
       "      <td>2.000000</td>\n",
       "      <td>369.000000</td>\n",
       "      <td>-0.090000</td>\n",
       "      <td>1630.000000</td>\n",
       "      <td>17.000000</td>\n",
       "      <td>0.000000</td>\n",
       "      <td>0.000000</td>\n",
       "    </tr>\n",
       "    <tr>\n",
       "      <th>75%</th>\n",
       "      <td>1914.00000</td>\n",
       "      <td>2.886773e+10</td>\n",
       "      <td>147.000000</td>\n",
       "      <td>1.115360e+06</td>\n",
       "      <td>1.000000</td>\n",
       "      <td>3.390000</td>\n",
       "      <td>421.000000</td>\n",
       "      <td>0.000000</td>\n",
       "      <td>1906.000000</td>\n",
       "      <td>22.000000</td>\n",
       "      <td>0.000000</td>\n",
       "      <td>0.000000</td>\n",
       "    </tr>\n",
       "    <tr>\n",
       "      <th>max</th>\n",
       "      <td>2500.00000</td>\n",
       "      <td>2.933965e+10</td>\n",
       "      <td>176.000000</td>\n",
       "      <td>1.260019e+07</td>\n",
       "      <td>51912.000000</td>\n",
       "      <td>400.000000</td>\n",
       "      <td>32124.000000</td>\n",
       "      <td>0.000000</td>\n",
       "      <td>2359.000000</td>\n",
       "      <td>26.000000</td>\n",
       "      <td>0.000000</td>\n",
       "      <td>0.000000</td>\n",
       "    </tr>\n",
       "  </tbody>\n",
       "</table>\n",
       "</div>"
      ],
      "text/plain": [
       "       HOUSEHOLD_KEY     BASKET_ID            DAY    PRODUCT_ID  \\\n",
       "count   450416.00000  4.504160e+05  450416.000000  4.504160e+05   \n",
       "mean      1259.55822  2.840143e+10     112.470718  2.209464e+06   \n",
       "std        728.10869  5.792110e+08      42.064258  2.726512e+06   \n",
       "min          1.00000  2.698485e+10       1.000000  2.567100e+04   \n",
       "25%        641.00000  2.798531e+10      84.000000  9.118780e+05   \n",
       "50%       1234.00000  2.839168e+10     117.000000  1.016800e+06   \n",
       "75%       1914.00000  2.886773e+10     147.000000  1.115360e+06   \n",
       "max       2500.00000  2.933965e+10     176.000000  1.260019e+07   \n",
       "\n",
       "            QUANTITY    SALES_VALUE       STORE_ID    RETAIL_DISC  \\\n",
       "count  450416.000000  450416.000000  450416.000000  450416.000000   \n",
       "mean       86.522561       3.018436    2586.661648      -0.552774   \n",
       "std      1058.788785       3.860427    7996.435988       1.186736   \n",
       "min         0.000000       0.000000       1.000000     -75.000000   \n",
       "25%         1.000000       1.250000     330.000000      -0.740000   \n",
       "50%         1.000000       2.000000     369.000000      -0.090000   \n",
       "75%         1.000000       3.390000     421.000000       0.000000   \n",
       "max     51912.000000     400.000000   32124.000000       0.000000   \n",
       "\n",
       "          TRANS_TIME        WEEK_NO    COUPON_DISC  COUPON_MATCH_DISC  \n",
       "count  450416.000000  450416.000000  450416.000000      450416.000000  \n",
       "mean     1583.582364      16.754487      -0.014860          -0.001920  \n",
       "std       415.130098       6.018864       0.195378           0.044335  \n",
       "min         0.000000       1.000000     -17.000000          -3.000000  \n",
       "25%      1317.000000      13.000000       0.000000           0.000000  \n",
       "50%      1630.000000      17.000000       0.000000           0.000000  \n",
       "75%      1906.000000      22.000000       0.000000           0.000000  \n",
       "max      2359.000000      26.000000       0.000000           0.000000  "
      ]
     },
     "execution_count": 28,
     "metadata": {},
     "output_type": "execute_result"
    }
   ],
   "source": [
    "TRANSACTIONS_RAW.describe()"
   ]
  },
  {
   "cell_type": "code",
   "execution_count": 29,
   "id": "72694246",
   "metadata": {},
   "outputs": [],
   "source": [
    "##here in the transactions data the date is not available in proper format, so now we will deal with that"
   ]
  },
  {
   "cell_type": "code",
   "execution_count": 30,
   "id": "db2f506f",
   "metadata": {},
   "outputs": [],
   "source": [
    " from datetime import datetime , timedelta"
   ]
  },
  {
   "cell_type": "code",
   "execution_count": 31,
   "id": "1a43dbd6",
   "metadata": {},
   "outputs": [],
   "source": [
    "start_date = pd.to_datetime('2020-01-01') ##this should be asked from the client in order to transform the data"
   ]
  },
  {
   "cell_type": "code",
   "execution_count": 32,
   "id": "c14f71e3",
   "metadata": {},
   "outputs": [
    {
     "data": {
      "text/plain": [
       "Timestamp('2020-01-01 00:00:00')"
      ]
     },
     "execution_count": 32,
     "metadata": {},
     "output_type": "execute_result"
    }
   ],
   "source": [
    "start_date"
   ]
  },
  {
   "cell_type": "code",
   "execution_count": 33,
   "id": "5f174fc1",
   "metadata": {},
   "outputs": [],
   "source": [
    "TRANSACTIONS_RAW['DATE'] = start_date + pd.to_timedelta(TRANSACTIONS_RAW['DAY'],unit= 'D')"
   ]
  },
  {
   "cell_type": "code",
   "execution_count": 34,
   "id": "240eafba",
   "metadata": {},
   "outputs": [
    {
     "data": {
      "text/html": [
       "<div>\n",
       "<style scoped>\n",
       "    .dataframe tbody tr th:only-of-type {\n",
       "        vertical-align: middle;\n",
       "    }\n",
       "\n",
       "    .dataframe tbody tr th {\n",
       "        vertical-align: top;\n",
       "    }\n",
       "\n",
       "    .dataframe thead th {\n",
       "        text-align: right;\n",
       "    }\n",
       "</style>\n",
       "<table border=\"1\" class=\"dataframe\">\n",
       "  <thead>\n",
       "    <tr style=\"text-align: right;\">\n",
       "      <th></th>\n",
       "      <th>HOUSEHOLD_KEY</th>\n",
       "      <th>BASKET_ID</th>\n",
       "      <th>DAY</th>\n",
       "      <th>PRODUCT_ID</th>\n",
       "      <th>QUANTITY</th>\n",
       "      <th>SALES_VALUE</th>\n",
       "      <th>STORE_ID</th>\n",
       "      <th>RETAIL_DISC</th>\n",
       "      <th>TRANS_TIME</th>\n",
       "      <th>WEEK_NO</th>\n",
       "      <th>COUPON_DISC</th>\n",
       "      <th>COUPON_MATCH_DISC</th>\n",
       "      <th>DATE</th>\n",
       "    </tr>\n",
       "  </thead>\n",
       "  <tbody>\n",
       "    <tr>\n",
       "      <th>0</th>\n",
       "      <td>2375</td>\n",
       "      <td>26984851472</td>\n",
       "      <td>1</td>\n",
       "      <td>1004906</td>\n",
       "      <td>1</td>\n",
       "      <td>1.39</td>\n",
       "      <td>364</td>\n",
       "      <td>-0.60</td>\n",
       "      <td>1631</td>\n",
       "      <td>1</td>\n",
       "      <td>0</td>\n",
       "      <td>0</td>\n",
       "      <td>2020-01-02</td>\n",
       "    </tr>\n",
       "    <tr>\n",
       "      <th>1</th>\n",
       "      <td>2375</td>\n",
       "      <td>26984851472</td>\n",
       "      <td>1</td>\n",
       "      <td>1033142</td>\n",
       "      <td>1</td>\n",
       "      <td>0.82</td>\n",
       "      <td>364</td>\n",
       "      <td>0.00</td>\n",
       "      <td>1631</td>\n",
       "      <td>1</td>\n",
       "      <td>0</td>\n",
       "      <td>0</td>\n",
       "      <td>2020-01-02</td>\n",
       "    </tr>\n",
       "    <tr>\n",
       "      <th>2</th>\n",
       "      <td>2375</td>\n",
       "      <td>26984851472</td>\n",
       "      <td>1</td>\n",
       "      <td>1036325</td>\n",
       "      <td>1</td>\n",
       "      <td>0.99</td>\n",
       "      <td>364</td>\n",
       "      <td>-0.30</td>\n",
       "      <td>1631</td>\n",
       "      <td>1</td>\n",
       "      <td>0</td>\n",
       "      <td>0</td>\n",
       "      <td>2020-01-02</td>\n",
       "    </tr>\n",
       "    <tr>\n",
       "      <th>3</th>\n",
       "      <td>2375</td>\n",
       "      <td>26984851472</td>\n",
       "      <td>1</td>\n",
       "      <td>1082185</td>\n",
       "      <td>1</td>\n",
       "      <td>1.21</td>\n",
       "      <td>364</td>\n",
       "      <td>0.00</td>\n",
       "      <td>1631</td>\n",
       "      <td>1</td>\n",
       "      <td>0</td>\n",
       "      <td>0</td>\n",
       "      <td>2020-01-02</td>\n",
       "    </tr>\n",
       "    <tr>\n",
       "      <th>4</th>\n",
       "      <td>2375</td>\n",
       "      <td>26984851472</td>\n",
       "      <td>1</td>\n",
       "      <td>8160430</td>\n",
       "      <td>1</td>\n",
       "      <td>1.50</td>\n",
       "      <td>364</td>\n",
       "      <td>-0.39</td>\n",
       "      <td>1631</td>\n",
       "      <td>1</td>\n",
       "      <td>0</td>\n",
       "      <td>0</td>\n",
       "      <td>2020-01-02</td>\n",
       "    </tr>\n",
       "  </tbody>\n",
       "</table>\n",
       "</div>"
      ],
      "text/plain": [
       "   HOUSEHOLD_KEY    BASKET_ID  DAY  PRODUCT_ID  QUANTITY  SALES_VALUE  \\\n",
       "0           2375  26984851472    1     1004906         1         1.39   \n",
       "1           2375  26984851472    1     1033142         1         0.82   \n",
       "2           2375  26984851472    1     1036325         1         0.99   \n",
       "3           2375  26984851472    1     1082185         1         1.21   \n",
       "4           2375  26984851472    1     8160430         1         1.50   \n",
       "\n",
       "   STORE_ID  RETAIL_DISC  TRANS_TIME  WEEK_NO  COUPON_DISC  COUPON_MATCH_DISC  \\\n",
       "0       364        -0.60        1631        1            0                  0   \n",
       "1       364         0.00        1631        1            0                  0   \n",
       "2       364        -0.30        1631        1            0                  0   \n",
       "3       364         0.00        1631        1            0                  0   \n",
       "4       364        -0.39        1631        1            0                  0   \n",
       "\n",
       "        DATE  \n",
       "0 2020-01-02  \n",
       "1 2020-01-02  \n",
       "2 2020-01-02  \n",
       "3 2020-01-02  \n",
       "4 2020-01-02  "
      ]
     },
     "execution_count": 34,
     "metadata": {},
     "output_type": "execute_result"
    }
   ],
   "source": [
    "TRANSACTIONS_RAW.head()"
   ]
  },
  {
   "cell_type": "code",
   "execution_count": 35,
   "id": "d87bb713",
   "metadata": {},
   "outputs": [
    {
     "data": {
      "text/html": [
       "<div>\n",
       "<style scoped>\n",
       "    .dataframe tbody tr th:only-of-type {\n",
       "        vertical-align: middle;\n",
       "    }\n",
       "\n",
       "    .dataframe tbody tr th {\n",
       "        vertical-align: top;\n",
       "    }\n",
       "\n",
       "    .dataframe thead th {\n",
       "        text-align: right;\n",
       "    }\n",
       "</style>\n",
       "<table border=\"1\" class=\"dataframe\">\n",
       "  <thead>\n",
       "    <tr style=\"text-align: right;\">\n",
       "      <th></th>\n",
       "      <th>DESCRIPTION</th>\n",
       "      <th>CAMPAIGN</th>\n",
       "      <th>START_DAY</th>\n",
       "      <th>END_DAY</th>\n",
       "    </tr>\n",
       "  </thead>\n",
       "  <tbody>\n",
       "    <tr>\n",
       "      <th>0</th>\n",
       "      <td>TypeB</td>\n",
       "      <td>24</td>\n",
       "      <td>659</td>\n",
       "      <td>719</td>\n",
       "    </tr>\n",
       "    <tr>\n",
       "      <th>1</th>\n",
       "      <td>TypeC</td>\n",
       "      <td>15</td>\n",
       "      <td>547</td>\n",
       "      <td>708</td>\n",
       "    </tr>\n",
       "    <tr>\n",
       "      <th>2</th>\n",
       "      <td>TypeB</td>\n",
       "      <td>25</td>\n",
       "      <td>659</td>\n",
       "      <td>691</td>\n",
       "    </tr>\n",
       "    <tr>\n",
       "      <th>3</th>\n",
       "      <td>TypeC</td>\n",
       "      <td>20</td>\n",
       "      <td>615</td>\n",
       "      <td>685</td>\n",
       "    </tr>\n",
       "    <tr>\n",
       "      <th>4</th>\n",
       "      <td>TypeB</td>\n",
       "      <td>23</td>\n",
       "      <td>646</td>\n",
       "      <td>684</td>\n",
       "    </tr>\n",
       "    <tr>\n",
       "      <th>5</th>\n",
       "      <td>TypeB</td>\n",
       "      <td>21</td>\n",
       "      <td>624</td>\n",
       "      <td>656</td>\n",
       "    </tr>\n",
       "  </tbody>\n",
       "</table>\n",
       "</div>"
      ],
      "text/plain": [
       "  DESCRIPTION  CAMPAIGN  START_DAY  END_DAY\n",
       "0       TypeB        24        659      719\n",
       "1       TypeC        15        547      708\n",
       "2       TypeB        25        659      691\n",
       "3       TypeC        20        615      685\n",
       "4       TypeB        23        646      684\n",
       "5       TypeB        21        624      656"
      ]
     },
     "execution_count": 35,
     "metadata": {},
     "output_type": "execute_result"
    }
   ],
   "source": [
    "CAMPAIGN_DESC_RAW.head(6)"
   ]
  },
  {
   "cell_type": "code",
   "execution_count": 36,
   "id": "0df55b78",
   "metadata": {},
   "outputs": [],
   "source": [
    "CAMPAIGN_DESC_RAW['START_DATE'] = start_date + pd.to_timedelta(CAMPAIGN_DESC_RAW['START_DAY'],'D')\n",
    "CAMPAIGN_DESC_RAW['END_DATE'] = start_date + pd.to_timedelta(CAMPAIGN_DESC_RAW['END_DAY'],'D')\n",
    "CAMPAIGN_DESC_RAW['CAMPAIGN_DURATION'] = CAMPAIGN_DESC_RAW['END_DAY'] - CAMPAIGN_DESC_RAW['START_DAY']"
   ]
  },
  {
   "cell_type": "code",
   "execution_count": 37,
   "id": "764b7d27",
   "metadata": {},
   "outputs": [
    {
     "data": {
      "text/html": [
       "<div>\n",
       "<style scoped>\n",
       "    .dataframe tbody tr th:only-of-type {\n",
       "        vertical-align: middle;\n",
       "    }\n",
       "\n",
       "    .dataframe tbody tr th {\n",
       "        vertical-align: top;\n",
       "    }\n",
       "\n",
       "    .dataframe thead th {\n",
       "        text-align: right;\n",
       "    }\n",
       "</style>\n",
       "<table border=\"1\" class=\"dataframe\">\n",
       "  <thead>\n",
       "    <tr style=\"text-align: right;\">\n",
       "      <th></th>\n",
       "      <th>START_DATE</th>\n",
       "      <th>END_DATE</th>\n",
       "      <th>CAMPAIGN_DURATION</th>\n",
       "    </tr>\n",
       "  </thead>\n",
       "  <tbody>\n",
       "    <tr>\n",
       "      <th>0</th>\n",
       "      <td>2021-10-21</td>\n",
       "      <td>2021-12-20</td>\n",
       "      <td>60</td>\n",
       "    </tr>\n",
       "    <tr>\n",
       "      <th>1</th>\n",
       "      <td>2021-07-01</td>\n",
       "      <td>2021-12-09</td>\n",
       "      <td>161</td>\n",
       "    </tr>\n",
       "    <tr>\n",
       "      <th>2</th>\n",
       "      <td>2021-10-21</td>\n",
       "      <td>2021-11-22</td>\n",
       "      <td>32</td>\n",
       "    </tr>\n",
       "    <tr>\n",
       "      <th>3</th>\n",
       "      <td>2021-09-07</td>\n",
       "      <td>2021-11-16</td>\n",
       "      <td>70</td>\n",
       "    </tr>\n",
       "    <tr>\n",
       "      <th>4</th>\n",
       "      <td>2021-10-08</td>\n",
       "      <td>2021-11-15</td>\n",
       "      <td>38</td>\n",
       "    </tr>\n",
       "  </tbody>\n",
       "</table>\n",
       "</div>"
      ],
      "text/plain": [
       "  START_DATE   END_DATE  CAMPAIGN_DURATION\n",
       "0 2021-10-21 2021-12-20                 60\n",
       "1 2021-07-01 2021-12-09                161\n",
       "2 2021-10-21 2021-11-22                 32\n",
       "3 2021-09-07 2021-11-16                 70\n",
       "4 2021-10-08 2021-11-15                 38"
      ]
     },
     "execution_count": 37,
     "metadata": {},
     "output_type": "execute_result"
    }
   ],
   "source": [
    "CAMPAIGN_DESC_RAW[['START_DATE','END_DATE','CAMPAIGN_DURATION']].head()"
   ]
  },
  {
   "cell_type": "code",
   "execution_count": 38,
   "id": "b9dbf410",
   "metadata": {},
   "outputs": [
    {
     "data": {
      "text/html": [
       "<div>\n",
       "<style scoped>\n",
       "    .dataframe tbody tr th:only-of-type {\n",
       "        vertical-align: middle;\n",
       "    }\n",
       "\n",
       "    .dataframe tbody tr th {\n",
       "        vertical-align: top;\n",
       "    }\n",
       "\n",
       "    .dataframe thead th {\n",
       "        text-align: right;\n",
       "    }\n",
       "</style>\n",
       "<table border=\"1\" class=\"dataframe\">\n",
       "  <thead>\n",
       "    <tr style=\"text-align: right;\">\n",
       "      <th></th>\n",
       "      <th>HOUSEHOLD_KEY</th>\n",
       "      <th>DAY</th>\n",
       "      <th>COUPON_UPC</th>\n",
       "      <th>CAMPAIGN</th>\n",
       "    </tr>\n",
       "  </thead>\n",
       "  <tbody>\n",
       "    <tr>\n",
       "      <th>0</th>\n",
       "      <td>1</td>\n",
       "      <td>421</td>\n",
       "      <td>10000085364</td>\n",
       "      <td>8</td>\n",
       "    </tr>\n",
       "    <tr>\n",
       "      <th>1</th>\n",
       "      <td>1</td>\n",
       "      <td>421</td>\n",
       "      <td>51700010076</td>\n",
       "      <td>8</td>\n",
       "    </tr>\n",
       "    <tr>\n",
       "      <th>2</th>\n",
       "      <td>1</td>\n",
       "      <td>427</td>\n",
       "      <td>54200000033</td>\n",
       "      <td>8</td>\n",
       "    </tr>\n",
       "    <tr>\n",
       "      <th>3</th>\n",
       "      <td>1</td>\n",
       "      <td>597</td>\n",
       "      <td>10000085476</td>\n",
       "      <td>18</td>\n",
       "    </tr>\n",
       "    <tr>\n",
       "      <th>4</th>\n",
       "      <td>1</td>\n",
       "      <td>597</td>\n",
       "      <td>54200029176</td>\n",
       "      <td>18</td>\n",
       "    </tr>\n",
       "  </tbody>\n",
       "</table>\n",
       "</div>"
      ],
      "text/plain": [
       "   HOUSEHOLD_KEY  DAY   COUPON_UPC  CAMPAIGN\n",
       "0              1  421  10000085364         8\n",
       "1              1  421  51700010076         8\n",
       "2              1  427  54200000033         8\n",
       "3              1  597  10000085476        18\n",
       "4              1  597  54200029176        18"
      ]
     },
     "execution_count": 38,
     "metadata": {},
     "output_type": "execute_result"
    }
   ],
   "source": [
    "COUPON_REDEMPT_RAW.head()"
   ]
  },
  {
   "cell_type": "code",
   "execution_count": 39,
   "id": "6fb53ffc",
   "metadata": {},
   "outputs": [],
   "source": [
    "COUPON_REDEMPT_RAW['DATE'] = start_date + pd.to_timedelta(COUPON_REDEMPT_RAW['DAY'],'D')"
   ]
  },
  {
   "cell_type": "code",
   "execution_count": 40,
   "id": "1011975d",
   "metadata": {},
   "outputs": [
    {
     "data": {
      "text/html": [
       "<div>\n",
       "<style scoped>\n",
       "    .dataframe tbody tr th:only-of-type {\n",
       "        vertical-align: middle;\n",
       "    }\n",
       "\n",
       "    .dataframe tbody tr th {\n",
       "        vertical-align: top;\n",
       "    }\n",
       "\n",
       "    .dataframe thead th {\n",
       "        text-align: right;\n",
       "    }\n",
       "</style>\n",
       "<table border=\"1\" class=\"dataframe\">\n",
       "  <thead>\n",
       "    <tr style=\"text-align: right;\">\n",
       "      <th></th>\n",
       "      <th>HOUSEHOLD_KEY</th>\n",
       "      <th>DAY</th>\n",
       "      <th>COUPON_UPC</th>\n",
       "      <th>CAMPAIGN</th>\n",
       "      <th>DATE</th>\n",
       "    </tr>\n",
       "  </thead>\n",
       "  <tbody>\n",
       "    <tr>\n",
       "      <th>0</th>\n",
       "      <td>1</td>\n",
       "      <td>421</td>\n",
       "      <td>10000085364</td>\n",
       "      <td>8</td>\n",
       "      <td>2021-02-25</td>\n",
       "    </tr>\n",
       "    <tr>\n",
       "      <th>1</th>\n",
       "      <td>1</td>\n",
       "      <td>421</td>\n",
       "      <td>51700010076</td>\n",
       "      <td>8</td>\n",
       "      <td>2021-02-25</td>\n",
       "    </tr>\n",
       "    <tr>\n",
       "      <th>2</th>\n",
       "      <td>1</td>\n",
       "      <td>427</td>\n",
       "      <td>54200000033</td>\n",
       "      <td>8</td>\n",
       "      <td>2021-03-03</td>\n",
       "    </tr>\n",
       "    <tr>\n",
       "      <th>3</th>\n",
       "      <td>1</td>\n",
       "      <td>597</td>\n",
       "      <td>10000085476</td>\n",
       "      <td>18</td>\n",
       "      <td>2021-08-20</td>\n",
       "    </tr>\n",
       "    <tr>\n",
       "      <th>4</th>\n",
       "      <td>1</td>\n",
       "      <td>597</td>\n",
       "      <td>54200029176</td>\n",
       "      <td>18</td>\n",
       "      <td>2021-08-20</td>\n",
       "    </tr>\n",
       "  </tbody>\n",
       "</table>\n",
       "</div>"
      ],
      "text/plain": [
       "   HOUSEHOLD_KEY  DAY   COUPON_UPC  CAMPAIGN       DATE\n",
       "0              1  421  10000085364         8 2021-02-25\n",
       "1              1  421  51700010076         8 2021-02-25\n",
       "2              1  427  54200000033         8 2021-03-03\n",
       "3              1  597  10000085476        18 2021-08-20\n",
       "4              1  597  54200029176        18 2021-08-20"
      ]
     },
     "execution_count": 40,
     "metadata": {},
     "output_type": "execute_result"
    }
   ],
   "source": [
    "COUPON_REDEMPT_RAW.head()"
   ]
  },
  {
   "cell_type": "code",
   "execution_count": 41,
   "id": "219234d0",
   "metadata": {},
   "outputs": [
    {
     "data": {
      "text/plain": [
       "Timestamp('2020-06-25 00:00:00')"
      ]
     },
     "execution_count": 41,
     "metadata": {},
     "output_type": "execute_result"
    }
   ],
   "source": [
    "TRANSACTIONS_RAW['DATE'].max() ##This will give date of last transaction"
   ]
  },
  {
   "cell_type": "code",
   "execution_count": 42,
   "id": "a22c63fc",
   "metadata": {},
   "outputs": [
    {
     "data": {
      "text/plain": [
       "Timestamp('2021-10-21 00:00:00')"
      ]
     },
     "execution_count": 42,
     "metadata": {},
     "output_type": "execute_result"
    }
   ],
   "source": [
    "CAMPAIGN_DESC_RAW['START_DATE'].max() ##Date on which last campaign was launched"
   ]
  },
  {
   "cell_type": "code",
   "execution_count": 43,
   "id": "d496e64e",
   "metadata": {},
   "outputs": [
    {
     "data": {
      "text/plain": [
       "Timestamp('2021-12-05 00:00:00')"
      ]
     },
     "execution_count": 43,
     "metadata": {},
     "output_type": "execute_result"
    }
   ],
   "source": [
    "COUPON_REDEMPT_RAW['DATE'].max() ##last coupon redemption date"
   ]
  },
  {
   "cell_type": "code",
   "execution_count": 44,
   "id": "8e33edab",
   "metadata": {},
   "outputs": [
    {
     "data": {
      "text/plain": [
       "46.6"
      ]
     },
     "execution_count": 44,
     "metadata": {},
     "output_type": "execute_result"
    }
   ],
   "source": [
    "CAMPAIGN_DESC_RAW['CAMPAIGN_DURATION'].mean() ## avg. duration of campaigns"
   ]
  },
  {
   "cell_type": "code",
   "execution_count": 45,
   "id": "efd1d43c",
   "metadata": {},
   "outputs": [
    {
     "data": {
      "text/html": [
       "<div>\n",
       "<style scoped>\n",
       "    .dataframe tbody tr th:only-of-type {\n",
       "        vertical-align: middle;\n",
       "    }\n",
       "\n",
       "    .dataframe tbody tr th {\n",
       "        vertical-align: top;\n",
       "    }\n",
       "\n",
       "    .dataframe thead th {\n",
       "        text-align: right;\n",
       "    }\n",
       "</style>\n",
       "<table border=\"1\" class=\"dataframe\">\n",
       "  <thead>\n",
       "    <tr style=\"text-align: right;\">\n",
       "      <th></th>\n",
       "      <th>AGE_DESC</th>\n",
       "      <th>MARITAL_STATUS_CODE</th>\n",
       "      <th>INCOME_DESC</th>\n",
       "      <th>HOMEOWNER_DESC</th>\n",
       "      <th>HH_COMP_DESC</th>\n",
       "      <th>HOUSEHOLD_SIZE_DESC</th>\n",
       "      <th>KID_CATEGORY_DESC</th>\n",
       "      <th>HOUSEHOLD_KEY</th>\n",
       "    </tr>\n",
       "  </thead>\n",
       "  <tbody>\n",
       "    <tr>\n",
       "      <th>0</th>\n",
       "      <td>65+</td>\n",
       "      <td>A</td>\n",
       "      <td>35-49K</td>\n",
       "      <td>Homeowner</td>\n",
       "      <td>2 Adults No Kids</td>\n",
       "      <td>2</td>\n",
       "      <td>None/Unknown</td>\n",
       "      <td>1</td>\n",
       "    </tr>\n",
       "    <tr>\n",
       "      <th>1</th>\n",
       "      <td>45-54</td>\n",
       "      <td>A</td>\n",
       "      <td>50-74K</td>\n",
       "      <td>Homeowner</td>\n",
       "      <td>2 Adults No Kids</td>\n",
       "      <td>2</td>\n",
       "      <td>None/Unknown</td>\n",
       "      <td>7</td>\n",
       "    </tr>\n",
       "    <tr>\n",
       "      <th>2</th>\n",
       "      <td>25-34</td>\n",
       "      <td>U</td>\n",
       "      <td>25-34K</td>\n",
       "      <td>Unknown</td>\n",
       "      <td>2 Adults Kids</td>\n",
       "      <td>3</td>\n",
       "      <td>1</td>\n",
       "      <td>8</td>\n",
       "    </tr>\n",
       "    <tr>\n",
       "      <th>3</th>\n",
       "      <td>25-34</td>\n",
       "      <td>U</td>\n",
       "      <td>75-99K</td>\n",
       "      <td>Homeowner</td>\n",
       "      <td>2 Adults Kids</td>\n",
       "      <td>4</td>\n",
       "      <td>2</td>\n",
       "      <td>13</td>\n",
       "    </tr>\n",
       "    <tr>\n",
       "      <th>4</th>\n",
       "      <td>45-54</td>\n",
       "      <td>B</td>\n",
       "      <td>50-74K</td>\n",
       "      <td>Homeowner</td>\n",
       "      <td>Single Female</td>\n",
       "      <td>1</td>\n",
       "      <td>None/Unknown</td>\n",
       "      <td>16</td>\n",
       "    </tr>\n",
       "  </tbody>\n",
       "</table>\n",
       "</div>"
      ],
      "text/plain": [
       "  AGE_DESC MARITAL_STATUS_CODE INCOME_DESC HOMEOWNER_DESC      HH_COMP_DESC  \\\n",
       "0      65+                   A      35-49K      Homeowner  2 Adults No Kids   \n",
       "1    45-54                   A      50-74K      Homeowner  2 Adults No Kids   \n",
       "2    25-34                   U      25-34K        Unknown     2 Adults Kids   \n",
       "3    25-34                   U      75-99K      Homeowner     2 Adults Kids   \n",
       "4    45-54                   B      50-74K      Homeowner     Single Female   \n",
       "\n",
       "  HOUSEHOLD_SIZE_DESC KID_CATEGORY_DESC  HOUSEHOLD_KEY  \n",
       "0                   2      None/Unknown              1  \n",
       "1                   2      None/Unknown              7  \n",
       "2                   3                 1              8  \n",
       "3                   4                 2             13  \n",
       "4                   1      None/Unknown             16  "
      ]
     },
     "execution_count": 45,
     "metadata": {},
     "output_type": "execute_result"
    }
   ],
   "source": [
    "HH_DEMOGRAPHIC_RAW.head()"
   ]
  },
  {
   "cell_type": "code",
   "execution_count": 46,
   "id": "972aced8",
   "metadata": {},
   "outputs": [
    {
     "data": {
      "text/plain": [
       "AGE_DESC\n",
       "45-54    901\n",
       "35-44    594\n",
       "25-34    445\n",
       "65+      230\n",
       "55-64    187\n",
       "19-24    143\n",
       "Name: count, dtype: int64"
      ]
     },
     "execution_count": 46,
     "metadata": {},
     "output_type": "execute_result"
    }
   ],
   "source": [
    "HH_DEMOGRAPHIC_RAW['AGE_DESC'].value_counts()"
   ]
  },
  {
   "cell_type": "code",
   "execution_count": 47,
   "id": "09dbb0b2",
   "metadata": {},
   "outputs": [
    {
     "data": {
      "text/plain": [
       "HOUSEHOLD_SIZE_DESC\n",
       "2     1004\n",
       "1      783\n",
       "3      338\n",
       "5+     206\n",
       "4      169\n",
       "Name: count, dtype: int64"
      ]
     },
     "execution_count": 47,
     "metadata": {},
     "output_type": "execute_result"
    }
   ],
   "source": [
    "HH_DEMOGRAPHIC_RAW['HOUSEHOLD_SIZE_DESC'].value_counts() ## This shows that most of the households have only 2 members in family"
   ]
  },
  {
   "cell_type": "code",
   "execution_count": 48,
   "id": "8b3fe084",
   "metadata": {
    "scrolled": true
   },
   "outputs": [
    {
     "data": {
      "text/html": [
       "<div>\n",
       "<style scoped>\n",
       "    .dataframe tbody tr th:only-of-type {\n",
       "        vertical-align: middle;\n",
       "    }\n",
       "\n",
       "    .dataframe tbody tr th {\n",
       "        vertical-align: top;\n",
       "    }\n",
       "\n",
       "    .dataframe thead th {\n",
       "        text-align: right;\n",
       "    }\n",
       "</style>\n",
       "<table border=\"1\" class=\"dataframe\">\n",
       "  <thead>\n",
       "    <tr style=\"text-align: right;\">\n",
       "      <th></th>\n",
       "      <th>DESCRIPTION</th>\n",
       "      <th>CAMPAIGN</th>\n",
       "      <th>START_DAY</th>\n",
       "      <th>END_DAY</th>\n",
       "      <th>START_DATE</th>\n",
       "      <th>END_DATE</th>\n",
       "      <th>CAMPAIGN_DURATION</th>\n",
       "    </tr>\n",
       "  </thead>\n",
       "  <tbody>\n",
       "    <tr>\n",
       "      <th>0</th>\n",
       "      <td>TypeB</td>\n",
       "      <td>24</td>\n",
       "      <td>659</td>\n",
       "      <td>719</td>\n",
       "      <td>2021-10-21</td>\n",
       "      <td>2021-12-20</td>\n",
       "      <td>60</td>\n",
       "    </tr>\n",
       "    <tr>\n",
       "      <th>1</th>\n",
       "      <td>TypeC</td>\n",
       "      <td>15</td>\n",
       "      <td>547</td>\n",
       "      <td>708</td>\n",
       "      <td>2021-07-01</td>\n",
       "      <td>2021-12-09</td>\n",
       "      <td>161</td>\n",
       "    </tr>\n",
       "    <tr>\n",
       "      <th>2</th>\n",
       "      <td>TypeB</td>\n",
       "      <td>25</td>\n",
       "      <td>659</td>\n",
       "      <td>691</td>\n",
       "      <td>2021-10-21</td>\n",
       "      <td>2021-11-22</td>\n",
       "      <td>32</td>\n",
       "    </tr>\n",
       "    <tr>\n",
       "      <th>3</th>\n",
       "      <td>TypeC</td>\n",
       "      <td>20</td>\n",
       "      <td>615</td>\n",
       "      <td>685</td>\n",
       "      <td>2021-09-07</td>\n",
       "      <td>2021-11-16</td>\n",
       "      <td>70</td>\n",
       "    </tr>\n",
       "    <tr>\n",
       "      <th>4</th>\n",
       "      <td>TypeB</td>\n",
       "      <td>23</td>\n",
       "      <td>646</td>\n",
       "      <td>684</td>\n",
       "      <td>2021-10-08</td>\n",
       "      <td>2021-11-15</td>\n",
       "      <td>38</td>\n",
       "    </tr>\n",
       "  </tbody>\n",
       "</table>\n",
       "</div>"
      ],
      "text/plain": [
       "  DESCRIPTION  CAMPAIGN  START_DAY  END_DAY START_DATE   END_DATE  \\\n",
       "0       TypeB        24        659      719 2021-10-21 2021-12-20   \n",
       "1       TypeC        15        547      708 2021-07-01 2021-12-09   \n",
       "2       TypeB        25        659      691 2021-10-21 2021-11-22   \n",
       "3       TypeC        20        615      685 2021-09-07 2021-11-16   \n",
       "4       TypeB        23        646      684 2021-10-08 2021-11-15   \n",
       "\n",
       "   CAMPAIGN_DURATION  \n",
       "0                 60  \n",
       "1                161  \n",
       "2                 32  \n",
       "3                 70  \n",
       "4                 38  "
      ]
     },
     "execution_count": 48,
     "metadata": {},
     "output_type": "execute_result"
    }
   ],
   "source": [
    "CAMPAIGN_DESC_RAW.head()\n"
   ]
  },
  {
   "cell_type": "code",
   "execution_count": 49,
   "id": "b17d05db",
   "metadata": {},
   "outputs": [
    {
     "data": {
      "text/plain": [
       "<Axes: xlabel='CAMPAIGN'>"
      ]
     },
     "execution_count": 49,
     "metadata": {},
     "output_type": "execute_result"
    },
    {
     "data": {
      "text/plain": [
       "<Figure size 1500x500 with 0 Axes>"
      ]
     },
     "metadata": {},
     "output_type": "display_data"
    },
    {
     "data": {
      "image/png": "[encoded data removed]",
      "text/plain": [
       "<Figure size 640x480 with 1 Axes>"
      ]
     },
     "metadata": {},
     "output_type": "display_data"
    }
   ],
   "source": [
    "plt.figure(figsize = (15,5))\n",
    "CAMPAIGN_DESC_RAW.plot(x = 'CAMPAIGN' , y = 'CAMPAIGN_DURATION' , kind = 'bar')"
   ]
  },
  {
   "cell_type": "markdown",
   "id": "62ad1851",
   "metadata": {},
   "source": [
    "#### From the above graph we can deduce that the campaign 15 ran for more than 160 days other than that all others are close to the avg."
   ]
  },
  {
   "cell_type": "code",
   "execution_count": 50,
   "id": "031e2db9",
   "metadata": {},
   "outputs": [
    {
     "data": {
      "text/html": [
       "<div>\n",
       "<style scoped>\n",
       "    .dataframe tbody tr th:only-of-type {\n",
       "        vertical-align: middle;\n",
       "    }\n",
       "\n",
       "    .dataframe tbody tr th {\n",
       "        vertical-align: top;\n",
       "    }\n",
       "\n",
       "    .dataframe thead th {\n",
       "        text-align: right;\n",
       "    }\n",
       "</style>\n",
       "<table border=\"1\" class=\"dataframe\">\n",
       "  <thead>\n",
       "    <tr style=\"text-align: right;\">\n",
       "      <th></th>\n",
       "      <th>CAMPAIGN</th>\n",
       "      <th>CAMPAIGN_DURATION</th>\n",
       "    </tr>\n",
       "    <tr>\n",
       "      <th>DESCRIPTION</th>\n",
       "      <th></th>\n",
       "      <th></th>\n",
       "    </tr>\n",
       "  </thead>\n",
       "  <tbody>\n",
       "    <tr>\n",
       "      <th>TypeA</th>\n",
       "      <td>5</td>\n",
       "      <td>47.200000</td>\n",
       "    </tr>\n",
       "    <tr>\n",
       "      <th>TypeB</th>\n",
       "      <td>19</td>\n",
       "      <td>37.631579</td>\n",
       "    </tr>\n",
       "    <tr>\n",
       "      <th>TypeC</th>\n",
       "      <td>6</td>\n",
       "      <td>74.500000</td>\n",
       "    </tr>\n",
       "  </tbody>\n",
       "</table>\n",
       "</div>"
      ],
      "text/plain": [
       "             CAMPAIGN  CAMPAIGN_DURATION\n",
       "DESCRIPTION                             \n",
       "TypeA               5          47.200000\n",
       "TypeB              19          37.631579\n",
       "TypeC               6          74.500000"
      ]
     },
     "execution_count": 50,
     "metadata": {},
     "output_type": "execute_result"
    }
   ],
   "source": [
    "CAMPAIGN_DESC_RAW.groupby('DESCRIPTION').aggregate({'CAMPAIGN':'count','CAMPAIGN_DURATION':'mean'})"
   ]
  },
  {
   "cell_type": "markdown",
   "id": "452c9210",
   "metadata": {},
   "source": [
    "##### There have been 19 type-B campaigns with avg. duration of 38 days. In comparison, there have been 6 type-A campaigns with avg duration of  75 days."
   ]
  },
  {
   "cell_type": "code",
   "execution_count": 51,
   "id": "99214507",
   "metadata": {},
   "outputs": [],
   "source": [
    "CAMPAIGN_DESC_RAW['START_MONTH'] = CAMPAIGN_DESC_RAW['START_DATE'].dt.month\n",
    "CAMPAIGN_DESC_RAW['END_MONTH'] = CAMPAIGN_DESC_RAW['END_DATE'].dt.month"
   ]
  },
  {
   "cell_type": "code",
   "execution_count": 52,
   "id": "588b8141",
   "metadata": {},
   "outputs": [
    {
     "data": {
      "text/html": [
       "<div>\n",
       "<style scoped>\n",
       "    .dataframe tbody tr th:only-of-type {\n",
       "        vertical-align: middle;\n",
       "    }\n",
       "\n",
       "    .dataframe tbody tr th {\n",
       "        vertical-align: top;\n",
       "    }\n",
       "\n",
       "    .dataframe thead th {\n",
       "        text-align: right;\n",
       "    }\n",
       "</style>\n",
       "<table border=\"1\" class=\"dataframe\">\n",
       "  <thead>\n",
       "    <tr style=\"text-align: right;\">\n",
       "      <th></th>\n",
       "      <th>DESCRIPTION</th>\n",
       "      <th>CAMPAIGN</th>\n",
       "      <th>START_DAY</th>\n",
       "      <th>END_DAY</th>\n",
       "      <th>START_DATE</th>\n",
       "      <th>END_DATE</th>\n",
       "      <th>CAMPAIGN_DURATION</th>\n",
       "      <th>START_MONTH</th>\n",
       "      <th>END_MONTH</th>\n",
       "    </tr>\n",
       "  </thead>\n",
       "  <tbody>\n",
       "    <tr>\n",
       "      <th>0</th>\n",
       "      <td>TypeB</td>\n",
       "      <td>24</td>\n",
       "      <td>659</td>\n",
       "      <td>719</td>\n",
       "      <td>2021-10-21</td>\n",
       "      <td>2021-12-20</td>\n",
       "      <td>60</td>\n",
       "      <td>10</td>\n",
       "      <td>12</td>\n",
       "    </tr>\n",
       "    <tr>\n",
       "      <th>1</th>\n",
       "      <td>TypeC</td>\n",
       "      <td>15</td>\n",
       "      <td>547</td>\n",
       "      <td>708</td>\n",
       "      <td>2021-07-01</td>\n",
       "      <td>2021-12-09</td>\n",
       "      <td>161</td>\n",
       "      <td>7</td>\n",
       "      <td>12</td>\n",
       "    </tr>\n",
       "    <tr>\n",
       "      <th>2</th>\n",
       "      <td>TypeB</td>\n",
       "      <td>25</td>\n",
       "      <td>659</td>\n",
       "      <td>691</td>\n",
       "      <td>2021-10-21</td>\n",
       "      <td>2021-11-22</td>\n",
       "      <td>32</td>\n",
       "      <td>10</td>\n",
       "      <td>11</td>\n",
       "    </tr>\n",
       "    <tr>\n",
       "      <th>3</th>\n",
       "      <td>TypeC</td>\n",
       "      <td>20</td>\n",
       "      <td>615</td>\n",
       "      <td>685</td>\n",
       "      <td>2021-09-07</td>\n",
       "      <td>2021-11-16</td>\n",
       "      <td>70</td>\n",
       "      <td>9</td>\n",
       "      <td>11</td>\n",
       "    </tr>\n",
       "    <tr>\n",
       "      <th>4</th>\n",
       "      <td>TypeB</td>\n",
       "      <td>23</td>\n",
       "      <td>646</td>\n",
       "      <td>684</td>\n",
       "      <td>2021-10-08</td>\n",
       "      <td>2021-11-15</td>\n",
       "      <td>38</td>\n",
       "      <td>10</td>\n",
       "      <td>11</td>\n",
       "    </tr>\n",
       "  </tbody>\n",
       "</table>\n",
       "</div>"
      ],
      "text/plain": [
       "  DESCRIPTION  CAMPAIGN  START_DAY  END_DAY START_DATE   END_DATE  \\\n",
       "0       TypeB        24        659      719 2021-10-21 2021-12-20   \n",
       "1       TypeC        15        547      708 2021-07-01 2021-12-09   \n",
       "2       TypeB        25        659      691 2021-10-21 2021-11-22   \n",
       "3       TypeC        20        615      685 2021-09-07 2021-11-16   \n",
       "4       TypeB        23        646      684 2021-10-08 2021-11-15   \n",
       "\n",
       "   CAMPAIGN_DURATION  START_MONTH  END_MONTH  \n",
       "0                 60           10         12  \n",
       "1                161            7         12  \n",
       "2                 32           10         11  \n",
       "3                 70            9         11  \n",
       "4                 38           10         11  "
      ]
     },
     "execution_count": 52,
     "metadata": {},
     "output_type": "execute_result"
    }
   ],
   "source": [
    "CAMPAIGN_DESC_RAW.head()"
   ]
  },
  {
   "cell_type": "code",
   "execution_count": 53,
   "id": "bd6406e4",
   "metadata": {},
   "outputs": [
    {
     "data": {
      "text/plain": [
       "(7208, 3)"
      ]
     },
     "execution_count": 53,
     "metadata": {},
     "output_type": "execute_result"
    }
   ],
   "source": [
    "CAMPAIGN_RAW.shape"
   ]
  },
  {
   "cell_type": "code",
   "execution_count": 54,
   "id": "e9b7cc6c",
   "metadata": {},
   "outputs": [
    {
     "data": {
      "text/plain": [
       "1584"
      ]
     },
     "execution_count": 54,
     "metadata": {},
     "output_type": "execute_result"
    }
   ],
   "source": [
    "CAMPAIGN_RAW['HOUSEHOLD_KEY'].nunique()"
   ]
  },
  {
   "cell_type": "code",
   "execution_count": 55,
   "id": "46e87031",
   "metadata": {},
   "outputs": [
    {
     "data": {
      "text/plain": [
       "2494"
      ]
     },
     "execution_count": 55,
     "metadata": {},
     "output_type": "execute_result"
    }
   ],
   "source": [
    "TRANSACTIONS_RAW['HOUSEHOLD_KEY'].nunique()"
   ]
  },
  {
   "cell_type": "markdown",
   "id": "3f0ffc78",
   "metadata": {},
   "source": [
    "#### There are in total 1584 unique households which participated in the campaigns, this leaves us with the otcome that out of 2500 total households, there are  916 households who never participated in campaigns."
   ]
  },
  {
   "cell_type": "code",
   "execution_count": 56,
   "id": "a5912e84",
   "metadata": {},
   "outputs": [
    {
     "data": {
      "text/plain": [
       "DESCRIPTION      object\n",
       "HOUSEHOLD_KEY     int16\n",
       "CAMPAIGN           int8\n",
       "dtype: object"
      ]
     },
     "execution_count": 56,
     "metadata": {},
     "output_type": "execute_result"
    }
   ],
   "source": [
    "CAMPAIGN_RAW.dtypes"
   ]
  },
  {
   "cell_type": "code",
   "execution_count": 57,
   "id": "e883e2f9",
   "metadata": {},
   "outputs": [
    {
     "data": {
      "text/plain": [
       "HOUSEHOLD_KEY\n",
       "1       8\n",
       "2       1\n",
       "3       3\n",
       "4       1\n",
       "6       4\n",
       "       ..\n",
       "2496    5\n",
       "2497    3\n",
       "2498    6\n",
       "2499    2\n",
       "2500    8\n",
       "Name: CAMPAIGN, Length: 1584, dtype: int64"
      ]
     },
     "execution_count": 57,
     "metadata": {},
     "output_type": "execute_result"
    }
   ],
   "source": [
    "CAMPAIGN_RAW.groupby('HOUSEHOLD_KEY')['CAMPAIGN'].count()"
   ]
  },
  {
   "cell_type": "code",
   "execution_count": 58,
   "id": "3c35de9d",
   "metadata": {},
   "outputs": [
    {
     "data": {
      "text/plain": [
       "(Text(0, 0.5, 'Number of household reached to'),)"
      ]
     },
     "execution_count": 58,
     "metadata": {},
     "output_type": "execute_result"
    },
    {
     "data": {
      "image/png": "[encoded data removed]",
      "text/plain": [
       "<Figure size 2000x1000 with 1 Axes>"
      ]
     },
     "metadata": {},
     "output_type": "display_data"
    }
   ],
   "source": [
    "plt.figure(figsize=(20,10))\n",
    "CAMPAIGN_RAW.groupby('CAMPAIGN')['HOUSEHOLD_KEY'].count().plot.bar() ,\n",
    "plt.ylabel('Number of household reached to') ,"
   ]
  },
  {
   "cell_type": "markdown",
   "id": "17ebf0dc",
   "metadata": {},
   "source": [
    "#### In campaign 18 most number of households participated"
   ]
  },
  {
   "cell_type": "code",
   "execution_count": 59,
   "id": "389c88c5",
   "metadata": {},
   "outputs": [
    {
     "data": {
      "text/html": [
       "<div>\n",
       "<style scoped>\n",
       "    .dataframe tbody tr th:only-of-type {\n",
       "        vertical-align: middle;\n",
       "    }\n",
       "\n",
       "    .dataframe tbody tr th {\n",
       "        vertical-align: top;\n",
       "    }\n",
       "\n",
       "    .dataframe thead th {\n",
       "        text-align: right;\n",
       "    }\n",
       "</style>\n",
       "<table border=\"1\" class=\"dataframe\">\n",
       "  <thead>\n",
       "    <tr style=\"text-align: right;\">\n",
       "      <th></th>\n",
       "      <th>COUPON_UPC</th>\n",
       "      <th>PRODUCT_ID</th>\n",
       "      <th>CAMPAIGN</th>\n",
       "    </tr>\n",
       "  </thead>\n",
       "  <tbody>\n",
       "    <tr>\n",
       "      <th>0</th>\n",
       "      <td>10000089061</td>\n",
       "      <td>27160</td>\n",
       "      <td>4</td>\n",
       "    </tr>\n",
       "    <tr>\n",
       "      <th>1</th>\n",
       "      <td>10000089064</td>\n",
       "      <td>27754</td>\n",
       "      <td>9</td>\n",
       "    </tr>\n",
       "    <tr>\n",
       "      <th>2</th>\n",
       "      <td>10000089073</td>\n",
       "      <td>28897</td>\n",
       "      <td>12</td>\n",
       "    </tr>\n",
       "    <tr>\n",
       "      <th>3</th>\n",
       "      <td>51800009050</td>\n",
       "      <td>28919</td>\n",
       "      <td>28</td>\n",
       "    </tr>\n",
       "    <tr>\n",
       "      <th>4</th>\n",
       "      <td>52100000076</td>\n",
       "      <td>28929</td>\n",
       "      <td>25</td>\n",
       "    </tr>\n",
       "  </tbody>\n",
       "</table>\n",
       "</div>"
      ],
      "text/plain": [
       "    COUPON_UPC  PRODUCT_ID  CAMPAIGN\n",
       "0  10000089061       27160         4\n",
       "1  10000089064       27754         9\n",
       "2  10000089073       28897        12\n",
       "3  51800009050       28919        28\n",
       "4  52100000076       28929        25"
      ]
     },
     "execution_count": 59,
     "metadata": {},
     "output_type": "execute_result"
    }
   ],
   "source": [
    "COUPON_RAW.head()"
   ]
  },
  {
   "cell_type": "code",
   "execution_count": 60,
   "id": "dac71aa7",
   "metadata": {},
   "outputs": [
    {
     "data": {
      "text/plain": [
       "1135"
      ]
     },
     "execution_count": 60,
     "metadata": {},
     "output_type": "execute_result"
    }
   ],
   "source": [
    "COUPON_RAW['COUPON_UPC'].nunique()  ##Total number of unique coupons created"
   ]
  },
  {
   "cell_type": "code",
   "execution_count": 61,
   "id": "8d32ecf5",
   "metadata": {},
   "outputs": [],
   "source": [
    "Coupon_given = COUPON_RAW.groupby('CAMPAIGN').aggregate(Total_products =('PRODUCT_ID','nunique') , Total_coupons_given = ('COUPON_UPC' , 'nunique') )"
   ]
  },
  {
   "cell_type": "code",
   "execution_count": 62,
   "id": "1c0184b1",
   "metadata": {},
   "outputs": [
    {
     "data": {
      "text/html": [
       "<div>\n",
       "<style scoped>\n",
       "    .dataframe tbody tr th:only-of-type {\n",
       "        vertical-align: middle;\n",
       "    }\n",
       "\n",
       "    .dataframe tbody tr th {\n",
       "        vertical-align: top;\n",
       "    }\n",
       "\n",
       "    .dataframe thead th {\n",
       "        text-align: right;\n",
       "    }\n",
       "</style>\n",
       "<table border=\"1\" class=\"dataframe\">\n",
       "  <thead>\n",
       "    <tr style=\"text-align: right;\">\n",
       "      <th></th>\n",
       "      <th>Total_products</th>\n",
       "      <th>Total_coupons_given</th>\n",
       "    </tr>\n",
       "    <tr>\n",
       "      <th>CAMPAIGN</th>\n",
       "      <th></th>\n",
       "      <th></th>\n",
       "    </tr>\n",
       "  </thead>\n",
       "  <tbody>\n",
       "    <tr>\n",
       "      <th>13</th>\n",
       "      <td>35616</td>\n",
       "      <td>207</td>\n",
       "    </tr>\n",
       "    <tr>\n",
       "      <th>18</th>\n",
       "      <td>35513</td>\n",
       "      <td>209</td>\n",
       "    </tr>\n",
       "    <tr>\n",
       "      <th>8</th>\n",
       "      <td>17178</td>\n",
       "      <td>209</td>\n",
       "    </tr>\n",
       "    <tr>\n",
       "      <th>26</th>\n",
       "      <td>3396</td>\n",
       "      <td>181</td>\n",
       "    </tr>\n",
       "    <tr>\n",
       "      <th>30</th>\n",
       "      <td>3205</td>\n",
       "      <td>181</td>\n",
       "    </tr>\n",
       "  </tbody>\n",
       "</table>\n",
       "</div>"
      ],
      "text/plain": [
       "          Total_products  Total_coupons_given\n",
       "CAMPAIGN                                     \n",
       "13                 35616                  207\n",
       "18                 35513                  209\n",
       "8                  17178                  209\n",
       "26                  3396                  181\n",
       "30                  3205                  181"
      ]
     },
     "execution_count": 62,
     "metadata": {},
     "output_type": "execute_result"
    }
   ],
   "source": [
    "Coupon_given.sort_values(by = 'Total_products' , ascending=False).head()"
   ]
  },
  {
   "cell_type": "code",
   "execution_count": 63,
   "id": "ce91e51f",
   "metadata": {},
   "outputs": [],
   "source": [
    "Coupon_given = Coupon_given.merge(right=CAMPAIGN_DESC_RAW , on='CAMPAIGN' ,how = 'left')"
   ]
  },
  {
   "cell_type": "code",
   "execution_count": 64,
   "id": "dd7f0a44",
   "metadata": {},
   "outputs": [
    {
     "data": {
      "text/html": [
       "<div>\n",
       "<style scoped>\n",
       "    .dataframe tbody tr th:only-of-type {\n",
       "        vertical-align: middle;\n",
       "    }\n",
       "\n",
       "    .dataframe tbody tr th {\n",
       "        vertical-align: top;\n",
       "    }\n",
       "\n",
       "    .dataframe thead th {\n",
       "        text-align: right;\n",
       "    }\n",
       "</style>\n",
       "<table border=\"1\" class=\"dataframe\">\n",
       "  <thead>\n",
       "    <tr style=\"text-align: right;\">\n",
       "      <th></th>\n",
       "      <th>CAMPAIGN</th>\n",
       "      <th>Total_products</th>\n",
       "      <th>Total_coupons_given</th>\n",
       "      <th>DESCRIPTION</th>\n",
       "      <th>START_DAY</th>\n",
       "      <th>END_DAY</th>\n",
       "      <th>START_DATE</th>\n",
       "      <th>END_DATE</th>\n",
       "      <th>CAMPAIGN_DURATION</th>\n",
       "      <th>START_MONTH</th>\n",
       "      <th>END_MONTH</th>\n",
       "    </tr>\n",
       "  </thead>\n",
       "  <tbody>\n",
       "    <tr>\n",
       "      <th>0</th>\n",
       "      <td>1</td>\n",
       "      <td>383</td>\n",
       "      <td>11</td>\n",
       "      <td>TypeB</td>\n",
       "      <td>346</td>\n",
       "      <td>383</td>\n",
       "      <td>2020-12-12</td>\n",
       "      <td>2021-01-18</td>\n",
       "      <td>37</td>\n",
       "      <td>12</td>\n",
       "      <td>1</td>\n",
       "    </tr>\n",
       "    <tr>\n",
       "      <th>1</th>\n",
       "      <td>2</td>\n",
       "      <td>301</td>\n",
       "      <td>16</td>\n",
       "      <td>TypeB</td>\n",
       "      <td>351</td>\n",
       "      <td>383</td>\n",
       "      <td>2020-12-17</td>\n",
       "      <td>2021-01-18</td>\n",
       "      <td>32</td>\n",
       "      <td>12</td>\n",
       "      <td>1</td>\n",
       "    </tr>\n",
       "    <tr>\n",
       "      <th>2</th>\n",
       "      <td>3</td>\n",
       "      <td>506</td>\n",
       "      <td>34</td>\n",
       "      <td>TypeC</td>\n",
       "      <td>356</td>\n",
       "      <td>412</td>\n",
       "      <td>2020-12-22</td>\n",
       "      <td>2021-02-16</td>\n",
       "      <td>56</td>\n",
       "      <td>12</td>\n",
       "      <td>2</td>\n",
       "    </tr>\n",
       "    <tr>\n",
       "      <th>3</th>\n",
       "      <td>4</td>\n",
       "      <td>200</td>\n",
       "      <td>12</td>\n",
       "      <td>TypeB</td>\n",
       "      <td>372</td>\n",
       "      <td>404</td>\n",
       "      <td>2021-01-07</td>\n",
       "      <td>2021-02-08</td>\n",
       "      <td>32</td>\n",
       "      <td>1</td>\n",
       "      <td>2</td>\n",
       "    </tr>\n",
       "    <tr>\n",
       "      <th>4</th>\n",
       "      <td>5</td>\n",
       "      <td>443</td>\n",
       "      <td>11</td>\n",
       "      <td>TypeB</td>\n",
       "      <td>377</td>\n",
       "      <td>411</td>\n",
       "      <td>2021-01-12</td>\n",
       "      <td>2021-02-15</td>\n",
       "      <td>34</td>\n",
       "      <td>1</td>\n",
       "      <td>2</td>\n",
       "    </tr>\n",
       "    <tr>\n",
       "      <th>5</th>\n",
       "      <td>6</td>\n",
       "      <td>18</td>\n",
       "      <td>1</td>\n",
       "      <td>TypeC</td>\n",
       "      <td>393</td>\n",
       "      <td>425</td>\n",
       "      <td>2021-01-28</td>\n",
       "      <td>2021-03-01</td>\n",
       "      <td>32</td>\n",
       "      <td>1</td>\n",
       "      <td>3</td>\n",
       "    </tr>\n",
       "    <tr>\n",
       "      <th>6</th>\n",
       "      <td>7</td>\n",
       "      <td>259</td>\n",
       "      <td>8</td>\n",
       "      <td>TypeB</td>\n",
       "      <td>398</td>\n",
       "      <td>432</td>\n",
       "      <td>2021-02-02</td>\n",
       "      <td>2021-03-08</td>\n",
       "      <td>34</td>\n",
       "      <td>2</td>\n",
       "      <td>3</td>\n",
       "    </tr>\n",
       "    <tr>\n",
       "      <th>7</th>\n",
       "      <td>8</td>\n",
       "      <td>17178</td>\n",
       "      <td>209</td>\n",
       "      <td>TypeA</td>\n",
       "      <td>412</td>\n",
       "      <td>460</td>\n",
       "      <td>2021-02-16</td>\n",
       "      <td>2021-04-05</td>\n",
       "      <td>48</td>\n",
       "      <td>2</td>\n",
       "      <td>4</td>\n",
       "    </tr>\n",
       "    <tr>\n",
       "      <th>8</th>\n",
       "      <td>9</td>\n",
       "      <td>825</td>\n",
       "      <td>18</td>\n",
       "      <td>TypeB</td>\n",
       "      <td>435</td>\n",
       "      <td>467</td>\n",
       "      <td>2021-03-11</td>\n",
       "      <td>2021-04-12</td>\n",
       "      <td>32</td>\n",
       "      <td>3</td>\n",
       "      <td>4</td>\n",
       "    </tr>\n",
       "    <tr>\n",
       "      <th>9</th>\n",
       "      <td>10</td>\n",
       "      <td>393</td>\n",
       "      <td>14</td>\n",
       "      <td>TypeB</td>\n",
       "      <td>463</td>\n",
       "      <td>495</td>\n",
       "      <td>2021-04-08</td>\n",
       "      <td>2021-05-10</td>\n",
       "      <td>32</td>\n",
       "      <td>4</td>\n",
       "      <td>5</td>\n",
       "    </tr>\n",
       "    <tr>\n",
       "      <th>10</th>\n",
       "      <td>11</td>\n",
       "      <td>278</td>\n",
       "      <td>13</td>\n",
       "      <td>TypeB</td>\n",
       "      <td>477</td>\n",
       "      <td>523</td>\n",
       "      <td>2021-04-22</td>\n",
       "      <td>2021-06-07</td>\n",
       "      <td>46</td>\n",
       "      <td>4</td>\n",
       "      <td>6</td>\n",
       "    </tr>\n",
       "    <tr>\n",
       "      <th>11</th>\n",
       "      <td>12</td>\n",
       "      <td>620</td>\n",
       "      <td>15</td>\n",
       "      <td>TypeB</td>\n",
       "      <td>477</td>\n",
       "      <td>509</td>\n",
       "      <td>2021-04-22</td>\n",
       "      <td>2021-05-24</td>\n",
       "      <td>32</td>\n",
       "      <td>4</td>\n",
       "      <td>5</td>\n",
       "    </tr>\n",
       "    <tr>\n",
       "      <th>12</th>\n",
       "      <td>13</td>\n",
       "      <td>35616</td>\n",
       "      <td>207</td>\n",
       "      <td>TypeA</td>\n",
       "      <td>504</td>\n",
       "      <td>551</td>\n",
       "      <td>2021-05-19</td>\n",
       "      <td>2021-07-05</td>\n",
       "      <td>47</td>\n",
       "      <td>5</td>\n",
       "      <td>7</td>\n",
       "    </tr>\n",
       "    <tr>\n",
       "      <th>13</th>\n",
       "      <td>14</td>\n",
       "      <td>714</td>\n",
       "      <td>26</td>\n",
       "      <td>TypeC</td>\n",
       "      <td>531</td>\n",
       "      <td>596</td>\n",
       "      <td>2021-06-15</td>\n",
       "      <td>2021-08-19</td>\n",
       "      <td>65</td>\n",
       "      <td>6</td>\n",
       "      <td>8</td>\n",
       "    </tr>\n",
       "    <tr>\n",
       "      <th>14</th>\n",
       "      <td>15</td>\n",
       "      <td>55</td>\n",
       "      <td>2</td>\n",
       "      <td>TypeC</td>\n",
       "      <td>547</td>\n",
       "      <td>708</td>\n",
       "      <td>2021-07-01</td>\n",
       "      <td>2021-12-09</td>\n",
       "      <td>161</td>\n",
       "      <td>7</td>\n",
       "      <td>12</td>\n",
       "    </tr>\n",
       "    <tr>\n",
       "      <th>15</th>\n",
       "      <td>16</td>\n",
       "      <td>1025</td>\n",
       "      <td>13</td>\n",
       "      <td>TypeB</td>\n",
       "      <td>561</td>\n",
       "      <td>593</td>\n",
       "      <td>2021-07-15</td>\n",
       "      <td>2021-08-16</td>\n",
       "      <td>32</td>\n",
       "      <td>7</td>\n",
       "      <td>8</td>\n",
       "    </tr>\n",
       "    <tr>\n",
       "      <th>16</th>\n",
       "      <td>17</td>\n",
       "      <td>713</td>\n",
       "      <td>19</td>\n",
       "      <td>TypeB</td>\n",
       "      <td>575</td>\n",
       "      <td>607</td>\n",
       "      <td>2021-07-29</td>\n",
       "      <td>2021-08-30</td>\n",
       "      <td>32</td>\n",
       "      <td>7</td>\n",
       "      <td>8</td>\n",
       "    </tr>\n",
       "    <tr>\n",
       "      <th>17</th>\n",
       "      <td>18</td>\n",
       "      <td>35513</td>\n",
       "      <td>209</td>\n",
       "      <td>TypeA</td>\n",
       "      <td>587</td>\n",
       "      <td>642</td>\n",
       "      <td>2021-08-10</td>\n",
       "      <td>2021-10-04</td>\n",
       "      <td>55</td>\n",
       "      <td>8</td>\n",
       "      <td>10</td>\n",
       "    </tr>\n",
       "    <tr>\n",
       "      <th>18</th>\n",
       "      <td>19</td>\n",
       "      <td>375</td>\n",
       "      <td>11</td>\n",
       "      <td>TypeB</td>\n",
       "      <td>603</td>\n",
       "      <td>635</td>\n",
       "      <td>2021-08-26</td>\n",
       "      <td>2021-09-27</td>\n",
       "      <td>32</td>\n",
       "      <td>8</td>\n",
       "      <td>9</td>\n",
       "    </tr>\n",
       "    <tr>\n",
       "      <th>19</th>\n",
       "      <td>20</td>\n",
       "      <td>609</td>\n",
       "      <td>24</td>\n",
       "      <td>TypeC</td>\n",
       "      <td>615</td>\n",
       "      <td>685</td>\n",
       "      <td>2021-09-07</td>\n",
       "      <td>2021-11-16</td>\n",
       "      <td>70</td>\n",
       "      <td>9</td>\n",
       "      <td>11</td>\n",
       "    </tr>\n",
       "    <tr>\n",
       "      <th>20</th>\n",
       "      <td>21</td>\n",
       "      <td>242</td>\n",
       "      <td>16</td>\n",
       "      <td>TypeB</td>\n",
       "      <td>624</td>\n",
       "      <td>656</td>\n",
       "      <td>2021-09-16</td>\n",
       "      <td>2021-10-18</td>\n",
       "      <td>32</td>\n",
       "      <td>9</td>\n",
       "      <td>10</td>\n",
       "    </tr>\n",
       "    <tr>\n",
       "      <th>21</th>\n",
       "      <td>22</td>\n",
       "      <td>1917</td>\n",
       "      <td>21</td>\n",
       "      <td>TypeB</td>\n",
       "      <td>624</td>\n",
       "      <td>656</td>\n",
       "      <td>2021-09-16</td>\n",
       "      <td>2021-10-18</td>\n",
       "      <td>32</td>\n",
       "      <td>9</td>\n",
       "      <td>10</td>\n",
       "    </tr>\n",
       "    <tr>\n",
       "      <th>22</th>\n",
       "      <td>23</td>\n",
       "      <td>767</td>\n",
       "      <td>18</td>\n",
       "      <td>TypeB</td>\n",
       "      <td>646</td>\n",
       "      <td>684</td>\n",
       "      <td>2021-10-08</td>\n",
       "      <td>2021-11-15</td>\n",
       "      <td>38</td>\n",
       "      <td>10</td>\n",
       "      <td>11</td>\n",
       "    </tr>\n",
       "    <tr>\n",
       "      <th>23</th>\n",
       "      <td>24</td>\n",
       "      <td>1887</td>\n",
       "      <td>2</td>\n",
       "      <td>TypeB</td>\n",
       "      <td>659</td>\n",
       "      <td>719</td>\n",
       "      <td>2021-10-21</td>\n",
       "      <td>2021-12-20</td>\n",
       "      <td>60</td>\n",
       "      <td>10</td>\n",
       "      <td>12</td>\n",
       "    </tr>\n",
       "    <tr>\n",
       "      <th>24</th>\n",
       "      <td>25</td>\n",
       "      <td>826</td>\n",
       "      <td>17</td>\n",
       "      <td>TypeB</td>\n",
       "      <td>659</td>\n",
       "      <td>691</td>\n",
       "      <td>2021-10-21</td>\n",
       "      <td>2021-11-22</td>\n",
       "      <td>32</td>\n",
       "      <td>10</td>\n",
       "      <td>11</td>\n",
       "    </tr>\n",
       "    <tr>\n",
       "      <th>25</th>\n",
       "      <td>26</td>\n",
       "      <td>3396</td>\n",
       "      <td>181</td>\n",
       "      <td>TypeA</td>\n",
       "      <td>224</td>\n",
       "      <td>264</td>\n",
       "      <td>2020-08-12</td>\n",
       "      <td>2020-09-21</td>\n",
       "      <td>40</td>\n",
       "      <td>8</td>\n",
       "      <td>9</td>\n",
       "    </tr>\n",
       "    <tr>\n",
       "      <th>26</th>\n",
       "      <td>27</td>\n",
       "      <td>632</td>\n",
       "      <td>27</td>\n",
       "      <td>TypeC</td>\n",
       "      <td>237</td>\n",
       "      <td>300</td>\n",
       "      <td>2020-08-25</td>\n",
       "      <td>2020-10-27</td>\n",
       "      <td>63</td>\n",
       "      <td>8</td>\n",
       "      <td>10</td>\n",
       "    </tr>\n",
       "    <tr>\n",
       "      <th>27</th>\n",
       "      <td>28</td>\n",
       "      <td>535</td>\n",
       "      <td>28</td>\n",
       "      <td>TypeB</td>\n",
       "      <td>259</td>\n",
       "      <td>320</td>\n",
       "      <td>2020-09-16</td>\n",
       "      <td>2020-11-16</td>\n",
       "      <td>61</td>\n",
       "      <td>9</td>\n",
       "      <td>11</td>\n",
       "    </tr>\n",
       "    <tr>\n",
       "      <th>28</th>\n",
       "      <td>29</td>\n",
       "      <td>689</td>\n",
       "      <td>33</td>\n",
       "      <td>TypeB</td>\n",
       "      <td>281</td>\n",
       "      <td>334</td>\n",
       "      <td>2020-10-08</td>\n",
       "      <td>2020-11-30</td>\n",
       "      <td>53</td>\n",
       "      <td>10</td>\n",
       "      <td>11</td>\n",
       "    </tr>\n",
       "    <tr>\n",
       "      <th>29</th>\n",
       "      <td>30</td>\n",
       "      <td>3205</td>\n",
       "      <td>181</td>\n",
       "      <td>TypeA</td>\n",
       "      <td>323</td>\n",
       "      <td>369</td>\n",
       "      <td>2020-11-19</td>\n",
       "      <td>2021-01-04</td>\n",
       "      <td>46</td>\n",
       "      <td>11</td>\n",
       "      <td>1</td>\n",
       "    </tr>\n",
       "  </tbody>\n",
       "</table>\n",
       "</div>"
      ],
      "text/plain": [
       "    CAMPAIGN  Total_products  Total_coupons_given DESCRIPTION  START_DAY  \\\n",
       "0          1             383                   11       TypeB        346   \n",
       "1          2             301                   16       TypeB        351   \n",
       "2          3             506                   34       TypeC        356   \n",
       "3          4             200                   12       TypeB        372   \n",
       "4          5             443                   11       TypeB        377   \n",
       "5          6              18                    1       TypeC        393   \n",
       "6          7             259                    8       TypeB        398   \n",
       "7          8           17178                  209       TypeA        412   \n",
       "8          9             825                   18       TypeB        435   \n",
       "9         10             393                   14       TypeB        463   \n",
       "10        11             278                   13       TypeB        477   \n",
       "11        12             620                   15       TypeB        477   \n",
       "12        13           35616                  207       TypeA        504   \n",
       "13        14             714                   26       TypeC        531   \n",
       "14        15              55                    2       TypeC        547   \n",
       "15        16            1025                   13       TypeB        561   \n",
       "16        17             713                   19       TypeB        575   \n",
       "17        18           35513                  209       TypeA        587   \n",
       "18        19             375                   11       TypeB        603   \n",
       "19        20             609                   24       TypeC        615   \n",
       "20        21             242                   16       TypeB        624   \n",
       "21        22            1917                   21       TypeB        624   \n",
       "22        23             767                   18       TypeB        646   \n",
       "23        24            1887                    2       TypeB        659   \n",
       "24        25             826                   17       TypeB        659   \n",
       "25        26            3396                  181       TypeA        224   \n",
       "26        27             632                   27       TypeC        237   \n",
       "27        28             535                   28       TypeB        259   \n",
       "28        29             689                   33       TypeB        281   \n",
       "29        30            3205                  181       TypeA        323   \n",
       "\n",
       "    END_DAY START_DATE   END_DATE  CAMPAIGN_DURATION  START_MONTH  END_MONTH  \n",
       "0       383 2020-12-12 2021-01-18                 37           12          1  \n",
       "1       383 2020-12-17 2021-01-18                 32           12          1  \n",
       "2       412 2020-12-22 2021-02-16                 56           12          2  \n",
       "3       404 2021-01-07 2021-02-08                 32            1          2  \n",
       "4       411 2021-01-12 2021-02-15                 34            1          2  \n",
       "5       425 2021-01-28 2021-03-01                 32            1          3  \n",
       "6       432 2021-02-02 2021-03-08                 34            2          3  \n",
       "7       460 2021-02-16 2021-04-05                 48            2          4  \n",
       "8       467 2021-03-11 2021-04-12                 32            3          4  \n",
       "9       495 2021-04-08 2021-05-10                 32            4          5  \n",
       "10      523 2021-04-22 2021-06-07                 46            4          6  \n",
       "11      509 2021-04-22 2021-05-24                 32            4          5  \n",
       "12      551 2021-05-19 2021-07-05                 47            5          7  \n",
       "13      596 2021-06-15 2021-08-19                 65            6          8  \n",
       "14      708 2021-07-01 2021-12-09                161            7         12  \n",
       "15      593 2021-07-15 2021-08-16                 32            7          8  \n",
       "16      607 2021-07-29 2021-08-30                 32            7          8  \n",
       "17      642 2021-08-10 2021-10-04                 55            8         10  \n",
       "18      635 2021-08-26 2021-09-27                 32            8          9  \n",
       "19      685 2021-09-07 2021-11-16                 70            9         11  \n",
       "20      656 2021-09-16 2021-10-18                 32            9         10  \n",
       "21      656 2021-09-16 2021-10-18                 32            9         10  \n",
       "22      684 2021-10-08 2021-11-15                 38           10         11  \n",
       "23      719 2021-10-21 2021-12-20                 60           10         12  \n",
       "24      691 2021-10-21 2021-11-22                 32           10         11  \n",
       "25      264 2020-08-12 2020-09-21                 40            8          9  \n",
       "26      300 2020-08-25 2020-10-27                 63            8         10  \n",
       "27      320 2020-09-16 2020-11-16                 61            9         11  \n",
       "28      334 2020-10-08 2020-11-30                 53           10         11  \n",
       "29      369 2020-11-19 2021-01-04                 46           11          1  "
      ]
     },
     "execution_count": 64,
     "metadata": {},
     "output_type": "execute_result"
    }
   ],
   "source": [
    "Coupon_given"
   ]
  },
  {
   "cell_type": "code",
   "execution_count": 65,
   "id": "f0fecc9b",
   "metadata": {},
   "outputs": [
    {
     "data": {
      "text/plain": [
       "Index(['CAMPAIGN', 'Total_products', 'Total_coupons_given', 'DESCRIPTION',\n",
       "       'START_DAY', 'END_DAY', 'START_DATE', 'END_DATE', 'CAMPAIGN_DURATION',\n",
       "       'START_MONTH', 'END_MONTH'],\n",
       "      dtype='object')"
      ]
     },
     "execution_count": 65,
     "metadata": {},
     "output_type": "execute_result"
    }
   ],
   "source": [
    "Coupon_given.columns\n",
    "\n"
   ]
  },
  {
   "cell_type": "code",
   "execution_count": 66,
   "id": "8b7a5b36",
   "metadata": {},
   "outputs": [
    {
     "data": {
      "text/plain": [
       "Index(['DESCRIPTION', 'CAMPAIGN', 'START_DAY', 'END_DAY', 'START_DATE',\n",
       "       'END_DATE', 'CAMPAIGN_DURATION', 'START_MONTH', 'END_MONTH'],\n",
       "      dtype='object')"
      ]
     },
     "execution_count": 66,
     "metadata": {},
     "output_type": "execute_result"
    }
   ],
   "source": [
    "CAMPAIGN_DESC_RAW.columns"
   ]
  },
  {
   "cell_type": "code",
   "execution_count": 67,
   "id": "c802001c",
   "metadata": {},
   "outputs": [
    {
     "data": {
      "text/html": [
       "<div>\n",
       "<style scoped>\n",
       "    .dataframe tbody tr th:only-of-type {\n",
       "        vertical-align: middle;\n",
       "    }\n",
       "\n",
       "    .dataframe tbody tr th {\n",
       "        vertical-align: top;\n",
       "    }\n",
       "\n",
       "    .dataframe thead th {\n",
       "        text-align: right;\n",
       "    }\n",
       "</style>\n",
       "<table border=\"1\" class=\"dataframe\">\n",
       "  <thead>\n",
       "    <tr style=\"text-align: right;\">\n",
       "      <th></th>\n",
       "      <th>CAMPAIGN</th>\n",
       "      <th>Total_products</th>\n",
       "      <th>Total_coupons_given</th>\n",
       "      <th>START_DATE</th>\n",
       "      <th>END_DATE</th>\n",
       "      <th>DESCRIPTION</th>\n",
       "    </tr>\n",
       "  </thead>\n",
       "  <tbody>\n",
       "    <tr>\n",
       "      <th>0</th>\n",
       "      <td>1</td>\n",
       "      <td>383</td>\n",
       "      <td>11</td>\n",
       "      <td>2020-12-12</td>\n",
       "      <td>2021-01-18</td>\n",
       "      <td>TypeB</td>\n",
       "    </tr>\n",
       "    <tr>\n",
       "      <th>1</th>\n",
       "      <td>2</td>\n",
       "      <td>301</td>\n",
       "      <td>16</td>\n",
       "      <td>2020-12-17</td>\n",
       "      <td>2021-01-18</td>\n",
       "      <td>TypeB</td>\n",
       "    </tr>\n",
       "    <tr>\n",
       "      <th>2</th>\n",
       "      <td>3</td>\n",
       "      <td>506</td>\n",
       "      <td>34</td>\n",
       "      <td>2020-12-22</td>\n",
       "      <td>2021-02-16</td>\n",
       "      <td>TypeC</td>\n",
       "    </tr>\n",
       "    <tr>\n",
       "      <th>3</th>\n",
       "      <td>4</td>\n",
       "      <td>200</td>\n",
       "      <td>12</td>\n",
       "      <td>2021-01-07</td>\n",
       "      <td>2021-02-08</td>\n",
       "      <td>TypeB</td>\n",
       "    </tr>\n",
       "    <tr>\n",
       "      <th>4</th>\n",
       "      <td>5</td>\n",
       "      <td>443</td>\n",
       "      <td>11</td>\n",
       "      <td>2021-01-12</td>\n",
       "      <td>2021-02-15</td>\n",
       "      <td>TypeB</td>\n",
       "    </tr>\n",
       "    <tr>\n",
       "      <th>5</th>\n",
       "      <td>6</td>\n",
       "      <td>18</td>\n",
       "      <td>1</td>\n",
       "      <td>2021-01-28</td>\n",
       "      <td>2021-03-01</td>\n",
       "      <td>TypeC</td>\n",
       "    </tr>\n",
       "    <tr>\n",
       "      <th>6</th>\n",
       "      <td>7</td>\n",
       "      <td>259</td>\n",
       "      <td>8</td>\n",
       "      <td>2021-02-02</td>\n",
       "      <td>2021-03-08</td>\n",
       "      <td>TypeB</td>\n",
       "    </tr>\n",
       "    <tr>\n",
       "      <th>7</th>\n",
       "      <td>8</td>\n",
       "      <td>17178</td>\n",
       "      <td>209</td>\n",
       "      <td>2021-02-16</td>\n",
       "      <td>2021-04-05</td>\n",
       "      <td>TypeA</td>\n",
       "    </tr>\n",
       "    <tr>\n",
       "      <th>8</th>\n",
       "      <td>9</td>\n",
       "      <td>825</td>\n",
       "      <td>18</td>\n",
       "      <td>2021-03-11</td>\n",
       "      <td>2021-04-12</td>\n",
       "      <td>TypeB</td>\n",
       "    </tr>\n",
       "    <tr>\n",
       "      <th>9</th>\n",
       "      <td>10</td>\n",
       "      <td>393</td>\n",
       "      <td>14</td>\n",
       "      <td>2021-04-08</td>\n",
       "      <td>2021-05-10</td>\n",
       "      <td>TypeB</td>\n",
       "    </tr>\n",
       "    <tr>\n",
       "      <th>10</th>\n",
       "      <td>11</td>\n",
       "      <td>278</td>\n",
       "      <td>13</td>\n",
       "      <td>2021-04-22</td>\n",
       "      <td>2021-06-07</td>\n",
       "      <td>TypeB</td>\n",
       "    </tr>\n",
       "    <tr>\n",
       "      <th>11</th>\n",
       "      <td>12</td>\n",
       "      <td>620</td>\n",
       "      <td>15</td>\n",
       "      <td>2021-04-22</td>\n",
       "      <td>2021-05-24</td>\n",
       "      <td>TypeB</td>\n",
       "    </tr>\n",
       "    <tr>\n",
       "      <th>12</th>\n",
       "      <td>13</td>\n",
       "      <td>35616</td>\n",
       "      <td>207</td>\n",
       "      <td>2021-05-19</td>\n",
       "      <td>2021-07-05</td>\n",
       "      <td>TypeA</td>\n",
       "    </tr>\n",
       "    <tr>\n",
       "      <th>13</th>\n",
       "      <td>14</td>\n",
       "      <td>714</td>\n",
       "      <td>26</td>\n",
       "      <td>2021-06-15</td>\n",
       "      <td>2021-08-19</td>\n",
       "      <td>TypeC</td>\n",
       "    </tr>\n",
       "    <tr>\n",
       "      <th>14</th>\n",
       "      <td>15</td>\n",
       "      <td>55</td>\n",
       "      <td>2</td>\n",
       "      <td>2021-07-01</td>\n",
       "      <td>2021-12-09</td>\n",
       "      <td>TypeC</td>\n",
       "    </tr>\n",
       "    <tr>\n",
       "      <th>15</th>\n",
       "      <td>16</td>\n",
       "      <td>1025</td>\n",
       "      <td>13</td>\n",
       "      <td>2021-07-15</td>\n",
       "      <td>2021-08-16</td>\n",
       "      <td>TypeB</td>\n",
       "    </tr>\n",
       "    <tr>\n",
       "      <th>16</th>\n",
       "      <td>17</td>\n",
       "      <td>713</td>\n",
       "      <td>19</td>\n",
       "      <td>2021-07-29</td>\n",
       "      <td>2021-08-30</td>\n",
       "      <td>TypeB</td>\n",
       "    </tr>\n",
       "    <tr>\n",
       "      <th>17</th>\n",
       "      <td>18</td>\n",
       "      <td>35513</td>\n",
       "      <td>209</td>\n",
       "      <td>2021-08-10</td>\n",
       "      <td>2021-10-04</td>\n",
       "      <td>TypeA</td>\n",
       "    </tr>\n",
       "    <tr>\n",
       "      <th>18</th>\n",
       "      <td>19</td>\n",
       "      <td>375</td>\n",
       "      <td>11</td>\n",
       "      <td>2021-08-26</td>\n",
       "      <td>2021-09-27</td>\n",
       "      <td>TypeB</td>\n",
       "    </tr>\n",
       "    <tr>\n",
       "      <th>19</th>\n",
       "      <td>20</td>\n",
       "      <td>609</td>\n",
       "      <td>24</td>\n",
       "      <td>2021-09-07</td>\n",
       "      <td>2021-11-16</td>\n",
       "      <td>TypeC</td>\n",
       "    </tr>\n",
       "    <tr>\n",
       "      <th>20</th>\n",
       "      <td>21</td>\n",
       "      <td>242</td>\n",
       "      <td>16</td>\n",
       "      <td>2021-09-16</td>\n",
       "      <td>2021-10-18</td>\n",
       "      <td>TypeB</td>\n",
       "    </tr>\n",
       "    <tr>\n",
       "      <th>21</th>\n",
       "      <td>22</td>\n",
       "      <td>1917</td>\n",
       "      <td>21</td>\n",
       "      <td>2021-09-16</td>\n",
       "      <td>2021-10-18</td>\n",
       "      <td>TypeB</td>\n",
       "    </tr>\n",
       "    <tr>\n",
       "      <th>22</th>\n",
       "      <td>23</td>\n",
       "      <td>767</td>\n",
       "      <td>18</td>\n",
       "      <td>2021-10-08</td>\n",
       "      <td>2021-11-15</td>\n",
       "      <td>TypeB</td>\n",
       "    </tr>\n",
       "    <tr>\n",
       "      <th>23</th>\n",
       "      <td>24</td>\n",
       "      <td>1887</td>\n",
       "      <td>2</td>\n",
       "      <td>2021-10-21</td>\n",
       "      <td>2021-12-20</td>\n",
       "      <td>TypeB</td>\n",
       "    </tr>\n",
       "    <tr>\n",
       "      <th>24</th>\n",
       "      <td>25</td>\n",
       "      <td>826</td>\n",
       "      <td>17</td>\n",
       "      <td>2021-10-21</td>\n",
       "      <td>2021-11-22</td>\n",
       "      <td>TypeB</td>\n",
       "    </tr>\n",
       "    <tr>\n",
       "      <th>25</th>\n",
       "      <td>26</td>\n",
       "      <td>3396</td>\n",
       "      <td>181</td>\n",
       "      <td>2020-08-12</td>\n",
       "      <td>2020-09-21</td>\n",
       "      <td>TypeA</td>\n",
       "    </tr>\n",
       "    <tr>\n",
       "      <th>26</th>\n",
       "      <td>27</td>\n",
       "      <td>632</td>\n",
       "      <td>27</td>\n",
       "      <td>2020-08-25</td>\n",
       "      <td>2020-10-27</td>\n",
       "      <td>TypeC</td>\n",
       "    </tr>\n",
       "    <tr>\n",
       "      <th>27</th>\n",
       "      <td>28</td>\n",
       "      <td>535</td>\n",
       "      <td>28</td>\n",
       "      <td>2020-09-16</td>\n",
       "      <td>2020-11-16</td>\n",
       "      <td>TypeB</td>\n",
       "    </tr>\n",
       "    <tr>\n",
       "      <th>28</th>\n",
       "      <td>29</td>\n",
       "      <td>689</td>\n",
       "      <td>33</td>\n",
       "      <td>2020-10-08</td>\n",
       "      <td>2020-11-30</td>\n",
       "      <td>TypeB</td>\n",
       "    </tr>\n",
       "    <tr>\n",
       "      <th>29</th>\n",
       "      <td>30</td>\n",
       "      <td>3205</td>\n",
       "      <td>181</td>\n",
       "      <td>2020-11-19</td>\n",
       "      <td>2021-01-04</td>\n",
       "      <td>TypeA</td>\n",
       "    </tr>\n",
       "  </tbody>\n",
       "</table>\n",
       "</div>"
      ],
      "text/plain": [
       "    CAMPAIGN  Total_products  Total_coupons_given START_DATE   END_DATE  \\\n",
       "0          1             383                   11 2020-12-12 2021-01-18   \n",
       "1          2             301                   16 2020-12-17 2021-01-18   \n",
       "2          3             506                   34 2020-12-22 2021-02-16   \n",
       "3          4             200                   12 2021-01-07 2021-02-08   \n",
       "4          5             443                   11 2021-01-12 2021-02-15   \n",
       "5          6              18                    1 2021-01-28 2021-03-01   \n",
       "6          7             259                    8 2021-02-02 2021-03-08   \n",
       "7          8           17178                  209 2021-02-16 2021-04-05   \n",
       "8          9             825                   18 2021-03-11 2021-04-12   \n",
       "9         10             393                   14 2021-04-08 2021-05-10   \n",
       "10        11             278                   13 2021-04-22 2021-06-07   \n",
       "11        12             620                   15 2021-04-22 2021-05-24   \n",
       "12        13           35616                  207 2021-05-19 2021-07-05   \n",
       "13        14             714                   26 2021-06-15 2021-08-19   \n",
       "14        15              55                    2 2021-07-01 2021-12-09   \n",
       "15        16            1025                   13 2021-07-15 2021-08-16   \n",
       "16        17             713                   19 2021-07-29 2021-08-30   \n",
       "17        18           35513                  209 2021-08-10 2021-10-04   \n",
       "18        19             375                   11 2021-08-26 2021-09-27   \n",
       "19        20             609                   24 2021-09-07 2021-11-16   \n",
       "20        21             242                   16 2021-09-16 2021-10-18   \n",
       "21        22            1917                   21 2021-09-16 2021-10-18   \n",
       "22        23             767                   18 2021-10-08 2021-11-15   \n",
       "23        24            1887                    2 2021-10-21 2021-12-20   \n",
       "24        25             826                   17 2021-10-21 2021-11-22   \n",
       "25        26            3396                  181 2020-08-12 2020-09-21   \n",
       "26        27             632                   27 2020-08-25 2020-10-27   \n",
       "27        28             535                   28 2020-09-16 2020-11-16   \n",
       "28        29             689                   33 2020-10-08 2020-11-30   \n",
       "29        30            3205                  181 2020-11-19 2021-01-04   \n",
       "\n",
       "   DESCRIPTION  \n",
       "0        TypeB  \n",
       "1        TypeB  \n",
       "2        TypeC  \n",
       "3        TypeB  \n",
       "4        TypeB  \n",
       "5        TypeC  \n",
       "6        TypeB  \n",
       "7        TypeA  \n",
       "8        TypeB  \n",
       "9        TypeB  \n",
       "10       TypeB  \n",
       "11       TypeB  \n",
       "12       TypeA  \n",
       "13       TypeC  \n",
       "14       TypeC  \n",
       "15       TypeB  \n",
       "16       TypeB  \n",
       "17       TypeA  \n",
       "18       TypeB  \n",
       "19       TypeC  \n",
       "20       TypeB  \n",
       "21       TypeB  \n",
       "22       TypeB  \n",
       "23       TypeB  \n",
       "24       TypeB  \n",
       "25       TypeA  \n",
       "26       TypeC  \n",
       "27       TypeB  \n",
       "28       TypeB  \n",
       "29       TypeA  "
      ]
     },
     "execution_count": 67,
     "metadata": {},
     "output_type": "execute_result"
    }
   ],
   "source": [
    "Coupon_given.loc[:,('CAMPAIGN','Total_products','Total_coupons_given','START_DATE','END_DATE', 'DESCRIPTION')]"
   ]
  },
  {
   "cell_type": "markdown",
   "id": "9b54e9f2",
   "metadata": {},
   "source": [
    "#### Campaign 13 , 18 and 8 are the one with most products in them"
   ]
  },
  {
   "cell_type": "code",
   "execution_count": 68,
   "id": "3bd25f24",
   "metadata": {},
   "outputs": [
    {
     "data": {
      "text/plain": [
       "Index(['COUPON_UPC', 'PRODUCT_ID', 'CAMPAIGN'], dtype='object')"
      ]
     },
     "execution_count": 68,
     "metadata": {},
     "output_type": "execute_result"
    }
   ],
   "source": [
    "COUPON_RAW.columns"
   ]
  },
  {
   "cell_type": "code",
   "execution_count": 69,
   "id": "5a563bfa",
   "metadata": {},
   "outputs": [
    {
     "data": {
      "text/plain": [
       "Index(['PRODUCT_ID', 'MANUFACTURER', 'DEPARTMENT', 'BRAND', 'COMMODITY_DESC',\n",
       "       'SUB_COMMODITY_DESC', 'CURR_SIZE_OF_PRODUCT'],\n",
       "      dtype='object')"
      ]
     },
     "execution_count": 69,
     "metadata": {},
     "output_type": "execute_result"
    }
   ],
   "source": [
    "PRODUCT_RAW.columns"
   ]
  },
  {
   "cell_type": "code",
   "execution_count": 70,
   "id": "0ff7decc",
   "metadata": {},
   "outputs": [],
   "source": [
    "coupon_product = COUPON_RAW.merge(right=PRODUCT_RAW , on= 'PRODUCT_ID' ,how = 'left')"
   ]
  },
  {
   "cell_type": "code",
   "execution_count": 71,
   "id": "7ffcdb9f",
   "metadata": {},
   "outputs": [
    {
     "data": {
      "text/html": [
       "<div>\n",
       "<style scoped>\n",
       "    .dataframe tbody tr th:only-of-type {\n",
       "        vertical-align: middle;\n",
       "    }\n",
       "\n",
       "    .dataframe tbody tr th {\n",
       "        vertical-align: top;\n",
       "    }\n",
       "\n",
       "    .dataframe thead th {\n",
       "        text-align: right;\n",
       "    }\n",
       "</style>\n",
       "<table border=\"1\" class=\"dataframe\">\n",
       "  <thead>\n",
       "    <tr style=\"text-align: right;\">\n",
       "      <th></th>\n",
       "      <th>COUPON_UPC</th>\n",
       "      <th>PRODUCT_ID</th>\n",
       "      <th>CAMPAIGN</th>\n",
       "      <th>MANUFACTURER</th>\n",
       "      <th>DEPARTMENT</th>\n",
       "      <th>BRAND</th>\n",
       "      <th>COMMODITY_DESC</th>\n",
       "      <th>SUB_COMMODITY_DESC</th>\n",
       "      <th>CURR_SIZE_OF_PRODUCT</th>\n",
       "    </tr>\n",
       "  </thead>\n",
       "  <tbody>\n",
       "    <tr>\n",
       "      <th>0</th>\n",
       "      <td>10000089061</td>\n",
       "      <td>27160</td>\n",
       "      <td>4</td>\n",
       "      <td>69</td>\n",
       "      <td>GROCERY</td>\n",
       "      <td>Private</td>\n",
       "      <td>SHORTENING/OIL</td>\n",
       "      <td>VEGETABLE/SALAD OIL</td>\n",
       "      <td>48 OZ</td>\n",
       "    </tr>\n",
       "    <tr>\n",
       "      <th>1</th>\n",
       "      <td>10000089064</td>\n",
       "      <td>27754</td>\n",
       "      <td>9</td>\n",
       "      <td>69</td>\n",
       "      <td>GROCERY</td>\n",
       "      <td>Private</td>\n",
       "      <td>FRZN VEGETABLE/VEG DSH</td>\n",
       "      <td>FRZN BAGGED VEGETABLES - PLAIN</td>\n",
       "      <td>16 OZ</td>\n",
       "    </tr>\n",
       "    <tr>\n",
       "      <th>2</th>\n",
       "      <td>10000089073</td>\n",
       "      <td>28897</td>\n",
       "      <td>12</td>\n",
       "      <td>69</td>\n",
       "      <td>GROCERY</td>\n",
       "      <td>Private</td>\n",
       "      <td>EGGS</td>\n",
       "      <td>EGGS - X-LARGE</td>\n",
       "      <td>A D   1 DZ</td>\n",
       "    </tr>\n",
       "    <tr>\n",
       "      <th>3</th>\n",
       "      <td>51800009050</td>\n",
       "      <td>28919</td>\n",
       "      <td>28</td>\n",
       "      <td>236</td>\n",
       "      <td>GROCERY</td>\n",
       "      <td>National</td>\n",
       "      <td>REFRGRATD DOUGH PRODUCTS</td>\n",
       "      <td>REFRIGERATED COOKIES-CHUB</td>\n",
       "      <td>16.5 OZ</td>\n",
       "    </tr>\n",
       "    <tr>\n",
       "      <th>4</th>\n",
       "      <td>52100000076</td>\n",
       "      <td>28929</td>\n",
       "      <td>25</td>\n",
       "      <td>317</td>\n",
       "      <td>GROCERY</td>\n",
       "      <td>National</td>\n",
       "      <td>CHEESE</td>\n",
       "      <td>STRING CHEESE</td>\n",
       "      <td>AB    8 OZ</td>\n",
       "    </tr>\n",
       "  </tbody>\n",
       "</table>\n",
       "</div>"
      ],
      "text/plain": [
       "    COUPON_UPC  PRODUCT_ID  CAMPAIGN  MANUFACTURER DEPARTMENT     BRAND  \\\n",
       "0  10000089061       27160         4            69    GROCERY   Private   \n",
       "1  10000089064       27754         9            69    GROCERY   Private   \n",
       "2  10000089073       28897        12            69    GROCERY   Private   \n",
       "3  51800009050       28919        28           236    GROCERY  National   \n",
       "4  52100000076       28929        25           317    GROCERY  National   \n",
       "\n",
       "             COMMODITY_DESC              SUB_COMMODITY_DESC  \\\n",
       "0            SHORTENING/OIL             VEGETABLE/SALAD OIL   \n",
       "1    FRZN VEGETABLE/VEG DSH  FRZN BAGGED VEGETABLES - PLAIN   \n",
       "2                      EGGS                  EGGS - X-LARGE   \n",
       "3  REFRGRATD DOUGH PRODUCTS       REFRIGERATED COOKIES-CHUB   \n",
       "4                    CHEESE                   STRING CHEESE   \n",
       "\n",
       "  CURR_SIZE_OF_PRODUCT  \n",
       "0                48 OZ  \n",
       "1                16 OZ  \n",
       "2           A D   1 DZ  \n",
       "3              16.5 OZ  \n",
       "4           AB    8 OZ  "
      ]
     },
     "execution_count": 71,
     "metadata": {},
     "output_type": "execute_result"
    }
   ],
   "source": [
    "coupon_product.head()"
   ]
  },
  {
   "cell_type": "code",
   "execution_count": 72,
   "id": "a23c4c3c",
   "metadata": {},
   "outputs": [
    {
     "data": {
      "text/plain": [
       "COMMODITY_DESC\n",
       "HAIR CARE PRODUCTS           6261\n",
       "MAKEUP AND TREATMENT         5585\n",
       "FRZN MEAT/MEAT DINNERS       4893\n",
       "FROZEN PIZZA                 3658\n",
       "BEEF                         3314\n",
       "ICE CREAM/MILK/SHERBTS       3257\n",
       "CHEESE                       3146\n",
       "YOGURT                       2460\n",
       "ORAL HYGIENE PRODUCTS        2437\n",
       "LUNCHMEAT                    2425\n",
       "FRZN VEGETABLE/VEG DSH       2051\n",
       "BABY FOODS                   2038\n",
       "HAND/BODY/FACIAL PRODUCTS    1984\n",
       "VITAMINS                     1880\n",
       "REFRGRATD JUICES/DRNKS       1856\n",
       "SOAP - LIQUID & BAR          1791\n",
       "PORK                         1783\n",
       "SEAFOOD - FROZEN             1705\n",
       "FLUID MILK PRODUCTS          1680\n",
       "DEODORANTS                   1666\n",
       "Name: count, dtype: int64"
      ]
     },
     "execution_count": 72,
     "metadata": {},
     "output_type": "execute_result"
    }
   ],
   "source": [
    "coupon_product['COMMODITY_DESC'].value_counts().sort_values(ascending=False).head(20)"
   ]
  },
  {
   "cell_type": "markdown",
   "id": "285b7a1b",
   "metadata": {},
   "source": [
    "#### Most prominent products amoung coupons are bathroom products such as hair care and makeup."
   ]
  },
  {
   "cell_type": "code",
   "execution_count": 73,
   "id": "cc26dff8",
   "metadata": {},
   "outputs": [
    {
     "data": {
      "text/plain": [
       "556"
      ]
     },
     "execution_count": 73,
     "metadata": {},
     "output_type": "execute_result"
    }
   ],
   "source": [
    "COUPON_REDEMPT_RAW['COUPON_UPC'].nunique()"
   ]
  },
  {
   "cell_type": "code",
   "execution_count": 74,
   "id": "fdfb8131",
   "metadata": {},
   "outputs": [
    {
     "data": {
      "text/plain": [
       "1135"
      ]
     },
     "execution_count": 74,
     "metadata": {},
     "output_type": "execute_result"
    }
   ],
   "source": [
    "COUPON_RAW['COUPON_UPC'].nunique()"
   ]
  },
  {
   "cell_type": "markdown",
   "id": "9dfa6477",
   "metadata": {},
   "source": [
    "#### This shows that only 556 coupons were used by customer out of 1135 distributed coupons."
   ]
  },
  {
   "cell_type": "code",
   "execution_count": 75,
   "id": "446f0efe",
   "metadata": {},
   "outputs": [
    {
     "data": {
      "text/plain": [
       "<Axes: xlabel='CAMPAIGN'>"
      ]
     },
     "execution_count": 75,
     "metadata": {},
     "output_type": "execute_result"
    },
    {
     "data": {
      "image/png": "[encoded data removed]",
      "text/plain": [
       "<Figure size 640x480 with 1 Axes>"
      ]
     },
     "metadata": {},
     "output_type": "display_data"
    }
   ],
   "source": [
    "COUPON_REDEMPT_RAW.groupby('CAMPAIGN').aggregate(total_coupon_redeem = ('COUPON_UPC' , 'nunique')).plot.bar()"
   ]
  },
  {
   "cell_type": "code",
   "execution_count": 76,
   "id": "cf9736a2",
   "metadata": {},
   "outputs": [],
   "source": [
    "coupon_redeem = COUPON_REDEMPT_RAW.groupby('CAMPAIGN').aggregate(total_coupon_redeem = ('COUPON_UPC','nunique'))"
   ]
  },
  {
   "cell_type": "code",
   "execution_count": 77,
   "id": "1ccd6685",
   "metadata": {},
   "outputs": [
    {
     "data": {
      "text/plain": [
       "Index(['total_coupon_redeem'], dtype='object')"
      ]
     },
     "execution_count": 77,
     "metadata": {},
     "output_type": "execute_result"
    }
   ],
   "source": [
    "coupon_redeem.columns"
   ]
  },
  {
   "cell_type": "code",
   "execution_count": 78,
   "id": "acc7aeba",
   "metadata": {},
   "outputs": [
    {
     "data": {
      "text/plain": [
       "Index(['CAMPAIGN', 'Total_products', 'Total_coupons_given', 'DESCRIPTION',\n",
       "       'START_DAY', 'END_DAY', 'START_DATE', 'END_DATE', 'CAMPAIGN_DURATION',\n",
       "       'START_MONTH', 'END_MONTH'],\n",
       "      dtype='object')"
      ]
     },
     "execution_count": 78,
     "metadata": {},
     "output_type": "execute_result"
    }
   ],
   "source": [
    "Coupon_given.columns"
   ]
  },
  {
   "cell_type": "code",
   "execution_count": 79,
   "id": "f45cdc27",
   "metadata": {},
   "outputs": [],
   "source": [
    "coupon_redeem = coupon_redeem.merge(right = Coupon_given , on='CAMPAIGN' , how = 'left')"
   ]
  },
  {
   "cell_type": "code",
   "execution_count": 80,
   "id": "8108c236",
   "metadata": {},
   "outputs": [
    {
     "data": {
      "text/html": [
       "<div>\n",
       "<style scoped>\n",
       "    .dataframe tbody tr th:only-of-type {\n",
       "        vertical-align: middle;\n",
       "    }\n",
       "\n",
       "    .dataframe tbody tr th {\n",
       "        vertical-align: top;\n",
       "    }\n",
       "\n",
       "    .dataframe thead th {\n",
       "        text-align: right;\n",
       "    }\n",
       "</style>\n",
       "<table border=\"1\" class=\"dataframe\">\n",
       "  <thead>\n",
       "    <tr style=\"text-align: right;\">\n",
       "      <th></th>\n",
       "      <th>CAMPAIGN</th>\n",
       "      <th>total_coupon_redeem</th>\n",
       "      <th>Total_products</th>\n",
       "      <th>Total_coupons_given</th>\n",
       "      <th>DESCRIPTION</th>\n",
       "      <th>START_DAY</th>\n",
       "      <th>END_DAY</th>\n",
       "      <th>START_DATE</th>\n",
       "      <th>END_DATE</th>\n",
       "      <th>CAMPAIGN_DURATION</th>\n",
       "      <th>START_MONTH</th>\n",
       "      <th>END_MONTH</th>\n",
       "    </tr>\n",
       "  </thead>\n",
       "  <tbody>\n",
       "    <tr>\n",
       "      <th>0</th>\n",
       "      <td>1</td>\n",
       "      <td>1</td>\n",
       "      <td>383</td>\n",
       "      <td>11</td>\n",
       "      <td>TypeB</td>\n",
       "      <td>346</td>\n",
       "      <td>383</td>\n",
       "      <td>2020-12-12</td>\n",
       "      <td>2021-01-18</td>\n",
       "      <td>37</td>\n",
       "      <td>12</td>\n",
       "      <td>1</td>\n",
       "    </tr>\n",
       "    <tr>\n",
       "      <th>1</th>\n",
       "      <td>2</td>\n",
       "      <td>4</td>\n",
       "      <td>301</td>\n",
       "      <td>16</td>\n",
       "      <td>TypeB</td>\n",
       "      <td>351</td>\n",
       "      <td>383</td>\n",
       "      <td>2020-12-17</td>\n",
       "      <td>2021-01-18</td>\n",
       "      <td>32</td>\n",
       "      <td>12</td>\n",
       "      <td>1</td>\n",
       "    </tr>\n",
       "    <tr>\n",
       "      <th>2</th>\n",
       "      <td>3</td>\n",
       "      <td>2</td>\n",
       "      <td>506</td>\n",
       "      <td>34</td>\n",
       "      <td>TypeC</td>\n",
       "      <td>356</td>\n",
       "      <td>412</td>\n",
       "      <td>2020-12-22</td>\n",
       "      <td>2021-02-16</td>\n",
       "      <td>56</td>\n",
       "      <td>12</td>\n",
       "      <td>2</td>\n",
       "    </tr>\n",
       "    <tr>\n",
       "      <th>3</th>\n",
       "      <td>4</td>\n",
       "      <td>6</td>\n",
       "      <td>200</td>\n",
       "      <td>12</td>\n",
       "      <td>TypeB</td>\n",
       "      <td>372</td>\n",
       "      <td>404</td>\n",
       "      <td>2021-01-07</td>\n",
       "      <td>2021-02-08</td>\n",
       "      <td>32</td>\n",
       "      <td>1</td>\n",
       "      <td>2</td>\n",
       "    </tr>\n",
       "    <tr>\n",
       "      <th>4</th>\n",
       "      <td>5</td>\n",
       "      <td>5</td>\n",
       "      <td>443</td>\n",
       "      <td>11</td>\n",
       "      <td>TypeB</td>\n",
       "      <td>377</td>\n",
       "      <td>411</td>\n",
       "      <td>2021-01-12</td>\n",
       "      <td>2021-02-15</td>\n",
       "      <td>34</td>\n",
       "      <td>1</td>\n",
       "      <td>2</td>\n",
       "    </tr>\n",
       "    <tr>\n",
       "      <th>5</th>\n",
       "      <td>6</td>\n",
       "      <td>1</td>\n",
       "      <td>18</td>\n",
       "      <td>1</td>\n",
       "      <td>TypeC</td>\n",
       "      <td>393</td>\n",
       "      <td>425</td>\n",
       "      <td>2021-01-28</td>\n",
       "      <td>2021-03-01</td>\n",
       "      <td>32</td>\n",
       "      <td>1</td>\n",
       "      <td>3</td>\n",
       "    </tr>\n",
       "    <tr>\n",
       "      <th>6</th>\n",
       "      <td>7</td>\n",
       "      <td>5</td>\n",
       "      <td>259</td>\n",
       "      <td>8</td>\n",
       "      <td>TypeB</td>\n",
       "      <td>398</td>\n",
       "      <td>432</td>\n",
       "      <td>2021-02-02</td>\n",
       "      <td>2021-03-08</td>\n",
       "      <td>34</td>\n",
       "      <td>2</td>\n",
       "      <td>3</td>\n",
       "    </tr>\n",
       "    <tr>\n",
       "      <th>7</th>\n",
       "      <td>8</td>\n",
       "      <td>105</td>\n",
       "      <td>17178</td>\n",
       "      <td>209</td>\n",
       "      <td>TypeA</td>\n",
       "      <td>412</td>\n",
       "      <td>460</td>\n",
       "      <td>2021-02-16</td>\n",
       "      <td>2021-04-05</td>\n",
       "      <td>48</td>\n",
       "      <td>2</td>\n",
       "      <td>4</td>\n",
       "    </tr>\n",
       "    <tr>\n",
       "      <th>8</th>\n",
       "      <td>9</td>\n",
       "      <td>14</td>\n",
       "      <td>825</td>\n",
       "      <td>18</td>\n",
       "      <td>TypeB</td>\n",
       "      <td>435</td>\n",
       "      <td>467</td>\n",
       "      <td>2021-03-11</td>\n",
       "      <td>2021-04-12</td>\n",
       "      <td>32</td>\n",
       "      <td>3</td>\n",
       "      <td>4</td>\n",
       "    </tr>\n",
       "    <tr>\n",
       "      <th>9</th>\n",
       "      <td>10</td>\n",
       "      <td>7</td>\n",
       "      <td>393</td>\n",
       "      <td>14</td>\n",
       "      <td>TypeB</td>\n",
       "      <td>463</td>\n",
       "      <td>495</td>\n",
       "      <td>2021-04-08</td>\n",
       "      <td>2021-05-10</td>\n",
       "      <td>32</td>\n",
       "      <td>4</td>\n",
       "      <td>5</td>\n",
       "    </tr>\n",
       "  </tbody>\n",
       "</table>\n",
       "</div>"
      ],
      "text/plain": [
       "   CAMPAIGN  total_coupon_redeem  Total_products  Total_coupons_given  \\\n",
       "0         1                    1             383                   11   \n",
       "1         2                    4             301                   16   \n",
       "2         3                    2             506                   34   \n",
       "3         4                    6             200                   12   \n",
       "4         5                    5             443                   11   \n",
       "5         6                    1              18                    1   \n",
       "6         7                    5             259                    8   \n",
       "7         8                  105           17178                  209   \n",
       "8         9                   14             825                   18   \n",
       "9        10                    7             393                   14   \n",
       "\n",
       "  DESCRIPTION  START_DAY  END_DAY START_DATE   END_DATE  CAMPAIGN_DURATION  \\\n",
       "0       TypeB        346      383 2020-12-12 2021-01-18                 37   \n",
       "1       TypeB        351      383 2020-12-17 2021-01-18                 32   \n",
       "2       TypeC        356      412 2020-12-22 2021-02-16                 56   \n",
       "3       TypeB        372      404 2021-01-07 2021-02-08                 32   \n",
       "4       TypeB        377      411 2021-01-12 2021-02-15                 34   \n",
       "5       TypeC        393      425 2021-01-28 2021-03-01                 32   \n",
       "6       TypeB        398      432 2021-02-02 2021-03-08                 34   \n",
       "7       TypeA        412      460 2021-02-16 2021-04-05                 48   \n",
       "8       TypeB        435      467 2021-03-11 2021-04-12                 32   \n",
       "9       TypeB        463      495 2021-04-08 2021-05-10                 32   \n",
       "\n",
       "   START_MONTH  END_MONTH  \n",
       "0           12          1  \n",
       "1           12          1  \n",
       "2           12          2  \n",
       "3            1          2  \n",
       "4            1          2  \n",
       "5            1          3  \n",
       "6            2          3  \n",
       "7            2          4  \n",
       "8            3          4  \n",
       "9            4          5  "
      ]
     },
     "execution_count": 80,
     "metadata": {},
     "output_type": "execute_result"
    }
   ],
   "source": [
    "coupon_redeem.head(10)"
   ]
  },
  {
   "cell_type": "code",
   "execution_count": 81,
   "id": "7567d04f",
   "metadata": {},
   "outputs": [],
   "source": [
    "coupon_redeem['coupon_redeem_rate'] = (coupon_redeem['total_coupon_redeem']/coupon_redeem['Total_coupons_given'])*100"
   ]
  },
  {
   "cell_type": "code",
   "execution_count": 82,
   "id": "a6ec5890",
   "metadata": {},
   "outputs": [
    {
     "data": {
      "text/html": [
       "<div>\n",
       "<style scoped>\n",
       "    .dataframe tbody tr th:only-of-type {\n",
       "        vertical-align: middle;\n",
       "    }\n",
       "\n",
       "    .dataframe tbody tr th {\n",
       "        vertical-align: top;\n",
       "    }\n",
       "\n",
       "    .dataframe thead th {\n",
       "        text-align: right;\n",
       "    }\n",
       "</style>\n",
       "<table border=\"1\" class=\"dataframe\">\n",
       "  <thead>\n",
       "    <tr style=\"text-align: right;\">\n",
       "      <th></th>\n",
       "      <th>CAMPAIGN</th>\n",
       "      <th>total_coupon_redeem</th>\n",
       "      <th>Total_products</th>\n",
       "      <th>Total_coupons_given</th>\n",
       "      <th>DESCRIPTION</th>\n",
       "      <th>START_DAY</th>\n",
       "      <th>END_DAY</th>\n",
       "      <th>START_DATE</th>\n",
       "      <th>END_DATE</th>\n",
       "      <th>CAMPAIGN_DURATION</th>\n",
       "      <th>START_MONTH</th>\n",
       "      <th>END_MONTH</th>\n",
       "      <th>coupon_redeem_rate</th>\n",
       "    </tr>\n",
       "  </thead>\n",
       "  <tbody>\n",
       "    <tr>\n",
       "      <th>0</th>\n",
       "      <td>1</td>\n",
       "      <td>1</td>\n",
       "      <td>383</td>\n",
       "      <td>11</td>\n",
       "      <td>TypeB</td>\n",
       "      <td>346</td>\n",
       "      <td>383</td>\n",
       "      <td>2020-12-12</td>\n",
       "      <td>2021-01-18</td>\n",
       "      <td>37</td>\n",
       "      <td>12</td>\n",
       "      <td>1</td>\n",
       "      <td>9.090909</td>\n",
       "    </tr>\n",
       "    <tr>\n",
       "      <th>1</th>\n",
       "      <td>2</td>\n",
       "      <td>4</td>\n",
       "      <td>301</td>\n",
       "      <td>16</td>\n",
       "      <td>TypeB</td>\n",
       "      <td>351</td>\n",
       "      <td>383</td>\n",
       "      <td>2020-12-17</td>\n",
       "      <td>2021-01-18</td>\n",
       "      <td>32</td>\n",
       "      <td>12</td>\n",
       "      <td>1</td>\n",
       "      <td>25.000000</td>\n",
       "    </tr>\n",
       "    <tr>\n",
       "      <th>2</th>\n",
       "      <td>3</td>\n",
       "      <td>2</td>\n",
       "      <td>506</td>\n",
       "      <td>34</td>\n",
       "      <td>TypeC</td>\n",
       "      <td>356</td>\n",
       "      <td>412</td>\n",
       "      <td>2020-12-22</td>\n",
       "      <td>2021-02-16</td>\n",
       "      <td>56</td>\n",
       "      <td>12</td>\n",
       "      <td>2</td>\n",
       "      <td>5.882353</td>\n",
       "    </tr>\n",
       "    <tr>\n",
       "      <th>3</th>\n",
       "      <td>4</td>\n",
       "      <td>6</td>\n",
       "      <td>200</td>\n",
       "      <td>12</td>\n",
       "      <td>TypeB</td>\n",
       "      <td>372</td>\n",
       "      <td>404</td>\n",
       "      <td>2021-01-07</td>\n",
       "      <td>2021-02-08</td>\n",
       "      <td>32</td>\n",
       "      <td>1</td>\n",
       "      <td>2</td>\n",
       "      <td>50.000000</td>\n",
       "    </tr>\n",
       "    <tr>\n",
       "      <th>4</th>\n",
       "      <td>5</td>\n",
       "      <td>5</td>\n",
       "      <td>443</td>\n",
       "      <td>11</td>\n",
       "      <td>TypeB</td>\n",
       "      <td>377</td>\n",
       "      <td>411</td>\n",
       "      <td>2021-01-12</td>\n",
       "      <td>2021-02-15</td>\n",
       "      <td>34</td>\n",
       "      <td>1</td>\n",
       "      <td>2</td>\n",
       "      <td>45.454545</td>\n",
       "    </tr>\n",
       "  </tbody>\n",
       "</table>\n",
       "</div>"
      ],
      "text/plain": [
       "   CAMPAIGN  total_coupon_redeem  Total_products  Total_coupons_given  \\\n",
       "0         1                    1             383                   11   \n",
       "1         2                    4             301                   16   \n",
       "2         3                    2             506                   34   \n",
       "3         4                    6             200                   12   \n",
       "4         5                    5             443                   11   \n",
       "\n",
       "  DESCRIPTION  START_DAY  END_DAY START_DATE   END_DATE  CAMPAIGN_DURATION  \\\n",
       "0       TypeB        346      383 2020-12-12 2021-01-18                 37   \n",
       "1       TypeB        351      383 2020-12-17 2021-01-18                 32   \n",
       "2       TypeC        356      412 2020-12-22 2021-02-16                 56   \n",
       "3       TypeB        372      404 2021-01-07 2021-02-08                 32   \n",
       "4       TypeB        377      411 2021-01-12 2021-02-15                 34   \n",
       "\n",
       "   START_MONTH  END_MONTH  coupon_redeem_rate  \n",
       "0           12          1            9.090909  \n",
       "1           12          1           25.000000  \n",
       "2           12          2            5.882353  \n",
       "3            1          2           50.000000  \n",
       "4            1          2           45.454545  "
      ]
     },
     "execution_count": 82,
     "metadata": {},
     "output_type": "execute_result"
    }
   ],
   "source": [
    "coupon_redeem.head()"
   ]
  },
  {
   "cell_type": "code",
   "execution_count": 83,
   "id": "b0845de3",
   "metadata": {},
   "outputs": [
    {
     "data": {
      "text/html": [
       "<div>\n",
       "<style scoped>\n",
       "    .dataframe tbody tr th:only-of-type {\n",
       "        vertical-align: middle;\n",
       "    }\n",
       "\n",
       "    .dataframe tbody tr th {\n",
       "        vertical-align: top;\n",
       "    }\n",
       "\n",
       "    .dataframe thead th {\n",
       "        text-align: right;\n",
       "    }\n",
       "</style>\n",
       "<table border=\"1\" class=\"dataframe\">\n",
       "  <thead>\n",
       "    <tr style=\"text-align: right;\">\n",
       "      <th></th>\n",
       "      <th>CAMPAIGN</th>\n",
       "      <th>Total_coupons_given</th>\n",
       "      <th>coupon_redeem_rate</th>\n",
       "    </tr>\n",
       "  </thead>\n",
       "  <tbody>\n",
       "    <tr>\n",
       "      <th>23</th>\n",
       "      <td>24</td>\n",
       "      <td>2</td>\n",
       "      <td>100.000000</td>\n",
       "    </tr>\n",
       "    <tr>\n",
       "      <th>5</th>\n",
       "      <td>6</td>\n",
       "      <td>1</td>\n",
       "      <td>100.000000</td>\n",
       "    </tr>\n",
       "    <tr>\n",
       "      <th>14</th>\n",
       "      <td>15</td>\n",
       "      <td>2</td>\n",
       "      <td>100.000000</td>\n",
       "    </tr>\n",
       "    <tr>\n",
       "      <th>22</th>\n",
       "      <td>23</td>\n",
       "      <td>18</td>\n",
       "      <td>88.888889</td>\n",
       "    </tr>\n",
       "    <tr>\n",
       "      <th>24</th>\n",
       "      <td>25</td>\n",
       "      <td>17</td>\n",
       "      <td>88.235294</td>\n",
       "    </tr>\n",
       "    <tr>\n",
       "      <th>18</th>\n",
       "      <td>19</td>\n",
       "      <td>11</td>\n",
       "      <td>81.818182</td>\n",
       "    </tr>\n",
       "    <tr>\n",
       "      <th>8</th>\n",
       "      <td>9</td>\n",
       "      <td>18</td>\n",
       "      <td>77.777778</td>\n",
       "    </tr>\n",
       "    <tr>\n",
       "      <th>15</th>\n",
       "      <td>16</td>\n",
       "      <td>13</td>\n",
       "      <td>76.923077</td>\n",
       "    </tr>\n",
       "    <tr>\n",
       "      <th>11</th>\n",
       "      <td>12</td>\n",
       "      <td>15</td>\n",
       "      <td>73.333333</td>\n",
       "    </tr>\n",
       "    <tr>\n",
       "      <th>16</th>\n",
       "      <td>17</td>\n",
       "      <td>19</td>\n",
       "      <td>68.421053</td>\n",
       "    </tr>\n",
       "    <tr>\n",
       "      <th>6</th>\n",
       "      <td>7</td>\n",
       "      <td>8</td>\n",
       "      <td>62.500000</td>\n",
       "    </tr>\n",
       "    <tr>\n",
       "      <th>19</th>\n",
       "      <td>20</td>\n",
       "      <td>24</td>\n",
       "      <td>62.500000</td>\n",
       "    </tr>\n",
       "    <tr>\n",
       "      <th>12</th>\n",
       "      <td>13</td>\n",
       "      <td>207</td>\n",
       "      <td>62.318841</td>\n",
       "    </tr>\n",
       "    <tr>\n",
       "      <th>17</th>\n",
       "      <td>18</td>\n",
       "      <td>209</td>\n",
       "      <td>57.894737</td>\n",
       "    </tr>\n",
       "    <tr>\n",
       "      <th>21</th>\n",
       "      <td>22</td>\n",
       "      <td>21</td>\n",
       "      <td>57.142857</td>\n",
       "    </tr>\n",
       "    <tr>\n",
       "      <th>13</th>\n",
       "      <td>14</td>\n",
       "      <td>26</td>\n",
       "      <td>53.846154</td>\n",
       "    </tr>\n",
       "    <tr>\n",
       "      <th>28</th>\n",
       "      <td>29</td>\n",
       "      <td>33</td>\n",
       "      <td>51.515152</td>\n",
       "    </tr>\n",
       "    <tr>\n",
       "      <th>7</th>\n",
       "      <td>8</td>\n",
       "      <td>209</td>\n",
       "      <td>50.239234</td>\n",
       "    </tr>\n",
       "    <tr>\n",
       "      <th>9</th>\n",
       "      <td>10</td>\n",
       "      <td>14</td>\n",
       "      <td>50.000000</td>\n",
       "    </tr>\n",
       "    <tr>\n",
       "      <th>3</th>\n",
       "      <td>4</td>\n",
       "      <td>12</td>\n",
       "      <td>50.000000</td>\n",
       "    </tr>\n",
       "    <tr>\n",
       "      <th>10</th>\n",
       "      <td>11</td>\n",
       "      <td>13</td>\n",
       "      <td>46.153846</td>\n",
       "    </tr>\n",
       "    <tr>\n",
       "      <th>4</th>\n",
       "      <td>5</td>\n",
       "      <td>11</td>\n",
       "      <td>45.454545</td>\n",
       "    </tr>\n",
       "    <tr>\n",
       "      <th>20</th>\n",
       "      <td>21</td>\n",
       "      <td>16</td>\n",
       "      <td>31.250000</td>\n",
       "    </tr>\n",
       "    <tr>\n",
       "      <th>25</th>\n",
       "      <td>26</td>\n",
       "      <td>181</td>\n",
       "      <td>29.281768</td>\n",
       "    </tr>\n",
       "    <tr>\n",
       "      <th>1</th>\n",
       "      <td>2</td>\n",
       "      <td>16</td>\n",
       "      <td>25.000000</td>\n",
       "    </tr>\n",
       "    <tr>\n",
       "      <th>29</th>\n",
       "      <td>30</td>\n",
       "      <td>181</td>\n",
       "      <td>22.651934</td>\n",
       "    </tr>\n",
       "    <tr>\n",
       "      <th>0</th>\n",
       "      <td>1</td>\n",
       "      <td>11</td>\n",
       "      <td>9.090909</td>\n",
       "    </tr>\n",
       "    <tr>\n",
       "      <th>2</th>\n",
       "      <td>3</td>\n",
       "      <td>34</td>\n",
       "      <td>5.882353</td>\n",
       "    </tr>\n",
       "    <tr>\n",
       "      <th>26</th>\n",
       "      <td>27</td>\n",
       "      <td>27</td>\n",
       "      <td>3.703704</td>\n",
       "    </tr>\n",
       "    <tr>\n",
       "      <th>27</th>\n",
       "      <td>28</td>\n",
       "      <td>28</td>\n",
       "      <td>3.571429</td>\n",
       "    </tr>\n",
       "  </tbody>\n",
       "</table>\n",
       "</div>"
      ],
      "text/plain": [
       "    CAMPAIGN  Total_coupons_given  coupon_redeem_rate\n",
       "23        24                    2          100.000000\n",
       "5          6                    1          100.000000\n",
       "14        15                    2          100.000000\n",
       "22        23                   18           88.888889\n",
       "24        25                   17           88.235294\n",
       "18        19                   11           81.818182\n",
       "8          9                   18           77.777778\n",
       "15        16                   13           76.923077\n",
       "11        12                   15           73.333333\n",
       "16        17                   19           68.421053\n",
       "6          7                    8           62.500000\n",
       "19        20                   24           62.500000\n",
       "12        13                  207           62.318841\n",
       "17        18                  209           57.894737\n",
       "21        22                   21           57.142857\n",
       "13        14                   26           53.846154\n",
       "28        29                   33           51.515152\n",
       "7          8                  209           50.239234\n",
       "9         10                   14           50.000000\n",
       "3          4                   12           50.000000\n",
       "10        11                   13           46.153846\n",
       "4          5                   11           45.454545\n",
       "20        21                   16           31.250000\n",
       "25        26                  181           29.281768\n",
       "1          2                   16           25.000000\n",
       "29        30                  181           22.651934\n",
       "0          1                   11            9.090909\n",
       "2          3                   34            5.882353\n",
       "26        27                   27            3.703704\n",
       "27        28                   28            3.571429"
      ]
     },
     "execution_count": 83,
     "metadata": {},
     "output_type": "execute_result"
    }
   ],
   "source": [
    "coupon_redeem.loc[:,('CAMPAIGN' , 'Total_coupons_given', 'coupon_redeem_rate')].sort_values('coupon_redeem_rate' , ascending = False)"
   ]
  },
  {
   "cell_type": "code",
   "execution_count": 84,
   "id": "74a687b6",
   "metadata": {},
   "outputs": [
    {
     "data": {
      "text/plain": [
       "<Axes: xlabel='CAMPAIGN', ylabel='coupon_redeem_rate'>"
      ]
     },
     "execution_count": 84,
     "metadata": {},
     "output_type": "execute_result"
    },
    {
     "data": {
      "image/png": "[encoded data removed]",
      "text/plain": [
       "<Figure size 1500x500 with 1 Axes>"
      ]
     },
     "metadata": {},
     "output_type": "display_data"
    }
   ],
   "source": [
    "plt.figure(figsize=(15,5))\n",
    "sns.barplot(x='CAMPAIGN' , y= 'coupon_redeem_rate' , data = coupon_redeem)"
   ]
  },
  {
   "cell_type": "code",
   "execution_count": 85,
   "id": "037a33c4",
   "metadata": {},
   "outputs": [
    {
     "data": {
      "text/plain": [
       "Index(['HOUSEHOLD_KEY', 'BASKET_ID', 'DAY', 'PRODUCT_ID', 'QUANTITY',\n",
       "       'SALES_VALUE', 'STORE_ID', 'RETAIL_DISC', 'TRANS_TIME', 'WEEK_NO',\n",
       "       'COUPON_DISC', 'COUPON_MATCH_DISC', 'DATE'],\n",
       "      dtype='object')"
      ]
     },
     "execution_count": 85,
     "metadata": {},
     "output_type": "execute_result"
    }
   ],
   "source": [
    "TRANSACTIONS_RAW.columns"
   ]
  },
  {
   "cell_type": "code",
   "execution_count": 86,
   "id": "66a2488d",
   "metadata": {},
   "outputs": [
    {
     "data": {
      "text/plain": [
       "50479"
      ]
     },
     "execution_count": 86,
     "metadata": {},
     "output_type": "execute_result"
    }
   ],
   "source": [
    "TRANSACTIONS_RAW['BASKET_ID'].nunique()"
   ]
  },
  {
   "cell_type": "code",
   "execution_count": 87,
   "id": "4a2557f6",
   "metadata": {},
   "outputs": [
    {
     "data": {
      "text/plain": [
       "450416"
      ]
     },
     "execution_count": 87,
     "metadata": {},
     "output_type": "execute_result"
    }
   ],
   "source": [
    "TRANSACTIONS_RAW['BASKET_ID'].count()"
   ]
  },
  {
   "cell_type": "code",
   "execution_count": 88,
   "id": "0cf06779",
   "metadata": {},
   "outputs": [],
   "source": [
    "tranx_bucket = TRANSACTIONS_RAW.groupby('BASKET_ID').aggregate({'SALES_VALUE': 'sum', 'COUPON_DISC':'sum' ,'COUPON_MATCH_DISC':'sum' })"
   ]
  },
  {
   "cell_type": "code",
   "execution_count": 89,
   "id": "7b22f767",
   "metadata": {},
   "outputs": [
    {
     "data": {
      "text/html": [
       "<div>\n",
       "<style scoped>\n",
       "    .dataframe tbody tr th:only-of-type {\n",
       "        vertical-align: middle;\n",
       "    }\n",
       "\n",
       "    .dataframe tbody tr th {\n",
       "        vertical-align: top;\n",
       "    }\n",
       "\n",
       "    .dataframe thead th {\n",
       "        text-align: right;\n",
       "    }\n",
       "</style>\n",
       "<table border=\"1\" class=\"dataframe\">\n",
       "  <thead>\n",
       "    <tr style=\"text-align: right;\">\n",
       "      <th></th>\n",
       "      <th>SALES_VALUE</th>\n",
       "      <th>COUPON_DISC</th>\n",
       "      <th>COUPON_MATCH_DISC</th>\n",
       "    </tr>\n",
       "    <tr>\n",
       "      <th>BASKET_ID</th>\n",
       "      <th></th>\n",
       "      <th></th>\n",
       "      <th></th>\n",
       "    </tr>\n",
       "  </thead>\n",
       "  <tbody>\n",
       "    <tr>\n",
       "      <th>26984851472</th>\n",
       "      <td>5.91</td>\n",
       "      <td>0</td>\n",
       "      <td>0</td>\n",
       "    </tr>\n",
       "    <tr>\n",
       "      <th>26984851516</th>\n",
       "      <td>12.43</td>\n",
       "      <td>0</td>\n",
       "      <td>0</td>\n",
       "    </tr>\n",
       "    <tr>\n",
       "      <th>26984896261</th>\n",
       "      <td>11.37</td>\n",
       "      <td>0</td>\n",
       "      <td>0</td>\n",
       "    </tr>\n",
       "    <tr>\n",
       "      <th>26984905972</th>\n",
       "      <td>2.55</td>\n",
       "      <td>0</td>\n",
       "      <td>0</td>\n",
       "    </tr>\n",
       "    <tr>\n",
       "      <th>26984945254</th>\n",
       "      <td>3.53</td>\n",
       "      <td>0</td>\n",
       "      <td>0</td>\n",
       "    </tr>\n",
       "    <tr>\n",
       "      <th>26984951769</th>\n",
       "      <td>5.79</td>\n",
       "      <td>0</td>\n",
       "      <td>0</td>\n",
       "    </tr>\n",
       "    <tr>\n",
       "      <th>26985025264</th>\n",
       "      <td>44.78</td>\n",
       "      <td>0</td>\n",
       "      <td>0</td>\n",
       "    </tr>\n",
       "    <tr>\n",
       "      <th>26985040735</th>\n",
       "      <td>139.22</td>\n",
       "      <td>0</td>\n",
       "      <td>0</td>\n",
       "    </tr>\n",
       "    <tr>\n",
       "      <th>26985052379</th>\n",
       "      <td>0.99</td>\n",
       "      <td>0</td>\n",
       "      <td>0</td>\n",
       "    </tr>\n",
       "    <tr>\n",
       "      <th>26985165432</th>\n",
       "      <td>0.00</td>\n",
       "      <td>0</td>\n",
       "      <td>0</td>\n",
       "    </tr>\n",
       "  </tbody>\n",
       "</table>\n",
       "</div>"
      ],
      "text/plain": [
       "             SALES_VALUE  COUPON_DISC  COUPON_MATCH_DISC\n",
       "BASKET_ID                                               \n",
       "26984851472         5.91            0                  0\n",
       "26984851516        12.43            0                  0\n",
       "26984896261        11.37            0                  0\n",
       "26984905972         2.55            0                  0\n",
       "26984945254         3.53            0                  0\n",
       "26984951769         5.79            0                  0\n",
       "26985025264        44.78            0                  0\n",
       "26985040735       139.22            0                  0\n",
       "26985052379         0.99            0                  0\n",
       "26985165432         0.00            0                  0"
      ]
     },
     "execution_count": 89,
     "metadata": {},
     "output_type": "execute_result"
    }
   ],
   "source": [
    "tranx_bucket.head(10)"
   ]
  },
  {
   "cell_type": "code",
   "execution_count": 90,
   "id": "a98f0907",
   "metadata": {},
   "outputs": [],
   "source": [
    "tranx_bucket['use_coupon'] = tranx_bucket['COUPON_DISC']!= 0 "
   ]
  },
  {
   "cell_type": "code",
   "execution_count": 91,
   "id": "57a82744",
   "metadata": {},
   "outputs": [
    {
     "data": {
      "text/html": [
       "<div>\n",
       "<style scoped>\n",
       "    .dataframe tbody tr th:only-of-type {\n",
       "        vertical-align: middle;\n",
       "    }\n",
       "\n",
       "    .dataframe tbody tr th {\n",
       "        vertical-align: top;\n",
       "    }\n",
       "\n",
       "    .dataframe thead th {\n",
       "        text-align: right;\n",
       "    }\n",
       "</style>\n",
       "<table border=\"1\" class=\"dataframe\">\n",
       "  <thead>\n",
       "    <tr style=\"text-align: right;\">\n",
       "      <th></th>\n",
       "      <th>SALES_VALUE</th>\n",
       "      <th>COUPON_DISC</th>\n",
       "      <th>COUPON_MATCH_DISC</th>\n",
       "      <th>use_coupon</th>\n",
       "    </tr>\n",
       "    <tr>\n",
       "      <th>BASKET_ID</th>\n",
       "      <th></th>\n",
       "      <th></th>\n",
       "      <th></th>\n",
       "      <th></th>\n",
       "    </tr>\n",
       "  </thead>\n",
       "  <tbody>\n",
       "    <tr>\n",
       "      <th>26984851472</th>\n",
       "      <td>5.91</td>\n",
       "      <td>0</td>\n",
       "      <td>0</td>\n",
       "      <td>False</td>\n",
       "    </tr>\n",
       "    <tr>\n",
       "      <th>26984851516</th>\n",
       "      <td>12.43</td>\n",
       "      <td>0</td>\n",
       "      <td>0</td>\n",
       "      <td>False</td>\n",
       "    </tr>\n",
       "    <tr>\n",
       "      <th>26984896261</th>\n",
       "      <td>11.37</td>\n",
       "      <td>0</td>\n",
       "      <td>0</td>\n",
       "      <td>False</td>\n",
       "    </tr>\n",
       "    <tr>\n",
       "      <th>26984905972</th>\n",
       "      <td>2.55</td>\n",
       "      <td>0</td>\n",
       "      <td>0</td>\n",
       "      <td>False</td>\n",
       "    </tr>\n",
       "    <tr>\n",
       "      <th>26984945254</th>\n",
       "      <td>3.53</td>\n",
       "      <td>0</td>\n",
       "      <td>0</td>\n",
       "      <td>False</td>\n",
       "    </tr>\n",
       "  </tbody>\n",
       "</table>\n",
       "</div>"
      ],
      "text/plain": [
       "             SALES_VALUE  COUPON_DISC  COUPON_MATCH_DISC  use_coupon\n",
       "BASKET_ID                                                           \n",
       "26984851472         5.91            0                  0       False\n",
       "26984851516        12.43            0                  0       False\n",
       "26984896261        11.37            0                  0       False\n",
       "26984905972         2.55            0                  0       False\n",
       "26984945254         3.53            0                  0       False"
      ]
     },
     "execution_count": 91,
     "metadata": {},
     "output_type": "execute_result"
    }
   ],
   "source": [
    "tranx_bucket.head()"
   ]
  },
  {
   "cell_type": "code",
   "execution_count": 92,
   "id": "901116a3",
   "metadata": {},
   "outputs": [
    {
     "data": {
      "text/plain": [
       "use_coupon\n",
       "False    47892\n",
       "True      2587\n",
       "Name: count, dtype: int64"
      ]
     },
     "execution_count": 92,
     "metadata": {},
     "output_type": "execute_result"
    }
   ],
   "source": [
    "tranx_bucket['use_coupon'].value_counts()"
   ]
  },
  {
   "cell_type": "code",
   "execution_count": 93,
   "id": "35dbd728",
   "metadata": {},
   "outputs": [
    {
     "data": {
      "text/plain": [
       "26.93"
      ]
     },
     "execution_count": 93,
     "metadata": {},
     "output_type": "execute_result"
    }
   ],
   "source": [
    "round(tranx_bucket['SALES_VALUE'].mean() , 2)"
   ]
  },
  {
   "cell_type": "markdown",
   "id": "e26ddf26",
   "metadata": {},
   "source": [
    "#### Avg. basket value is $26.93"
   ]
  },
  {
   "cell_type": "code",
   "execution_count": 94,
   "id": "00ffa70e",
   "metadata": {},
   "outputs": [
    {
     "data": {
      "text/plain": [
       "Text(0.5, 1.0, 'Basket Value Boxplot')"
      ]
     },
     "execution_count": 94,
     "metadata": {},
     "output_type": "execute_result"
    },
    {
     "data": {
      "image/png": "[encoded data removed]",
      "text/plain": [
       "<Figure size 2500x500 with 1 Axes>"
      ]
     },
     "metadata": {},
     "output_type": "display_data"
    }
   ],
   "source": [
    "plt.figure(figsize= (25,5))\n",
    "sns.boxplot(x=tranx_bucket['SALES_VALUE'])\n",
    "plt.title('Basket Value Boxplot')"
   ]
  },
  {
   "cell_type": "code",
   "execution_count": 95,
   "id": "aa79393c",
   "metadata": {},
   "outputs": [
    {
     "data": {
      "text/html": [
       "<div>\n",
       "<style scoped>\n",
       "    .dataframe tbody tr th:only-of-type {\n",
       "        vertical-align: middle;\n",
       "    }\n",
       "\n",
       "    .dataframe tbody tr th {\n",
       "        vertical-align: top;\n",
       "    }\n",
       "\n",
       "    .dataframe thead th {\n",
       "        text-align: right;\n",
       "    }\n",
       "</style>\n",
       "<table border=\"1\" class=\"dataframe\">\n",
       "  <thead>\n",
       "    <tr style=\"text-align: right;\">\n",
       "      <th></th>\n",
       "      <th>sales_value_mean</th>\n",
       "      <th>coupon_disc_mean</th>\n",
       "      <th>coupon_match_disc</th>\n",
       "      <th>no_coupon</th>\n",
       "    </tr>\n",
       "    <tr>\n",
       "      <th>use_coupon</th>\n",
       "      <th></th>\n",
       "      <th></th>\n",
       "      <th></th>\n",
       "      <th></th>\n",
       "    </tr>\n",
       "  </thead>\n",
       "  <tbody>\n",
       "    <tr>\n",
       "      <th>False</th>\n",
       "      <td>25.009980</td>\n",
       "      <td>0.000000</td>\n",
       "      <td>0.000000</td>\n",
       "      <td>47892</td>\n",
       "    </tr>\n",
       "    <tr>\n",
       "      <th>True</th>\n",
       "      <td>62.533348</td>\n",
       "      <td>-2.587167</td>\n",
       "      <td>-0.334364</td>\n",
       "      <td>2587</td>\n",
       "    </tr>\n",
       "  </tbody>\n",
       "</table>\n",
       "</div>"
      ],
      "text/plain": [
       "            sales_value_mean  coupon_disc_mean  coupon_match_disc  no_coupon\n",
       "use_coupon                                                                  \n",
       "False              25.009980          0.000000           0.000000      47892\n",
       "True               62.533348         -2.587167          -0.334364       2587"
      ]
     },
     "execution_count": 95,
     "metadata": {},
     "output_type": "execute_result"
    }
   ],
   "source": [
    "tranx_bucket.groupby('use_coupon').aggregate(sales_value_mean = ('SALES_VALUE','mean') ,\n",
    "                                            coupon_disc_mean = ('COUPON_DISC' , 'mean'),\n",
    "                                            coupon_match_disc = ('COUPON_MATCH_DISC' , 'mean'),\n",
    "                                            no_coupon = ('SALES_VALUE','count'))"
   ]
  },
  {
   "cell_type": "markdown",
   "id": "91b8bb2e",
   "metadata": {},
   "source": [
    "The avg. value without a coupon is $25.\n",
    "\n",
    "The avg. basket value with coupon is $62.53\n",
    "\n",
    "The avg. discount generated by coupon is $2.98\n"
   ]
  },
  {
   "cell_type": "markdown",
   "id": "99b40300",
   "metadata": {},
   "source": [
    "#### It shows that person purchases more if coupon is given to them."
   ]
  },
  {
   "cell_type": "code",
   "execution_count": 96,
   "id": "147e3976",
   "metadata": {},
   "outputs": [],
   "source": [
    "tranx_desc = TRANSACTIONS_RAW.merge(right = tranx_bucket , on= 'BASKET_ID' , how = 'left')"
   ]
  },
  {
   "cell_type": "code",
   "execution_count": 97,
   "id": "97866994",
   "metadata": {},
   "outputs": [],
   "source": [
    "tranx_desc = tranx_desc.merge(right = PRODUCT_RAW , on='PRODUCT_ID' , how = 'left')"
   ]
  },
  {
   "cell_type": "code",
   "execution_count": 98,
   "id": "b6b13056",
   "metadata": {},
   "outputs": [
    {
     "data": {
      "text/html": [
       "<div>\n",
       "<style scoped>\n",
       "    .dataframe tbody tr th:only-of-type {\n",
       "        vertical-align: middle;\n",
       "    }\n",
       "\n",
       "    .dataframe tbody tr th {\n",
       "        vertical-align: top;\n",
       "    }\n",
       "\n",
       "    .dataframe thead th {\n",
       "        text-align: right;\n",
       "    }\n",
       "</style>\n",
       "<table border=\"1\" class=\"dataframe\">\n",
       "  <thead>\n",
       "    <tr style=\"text-align: right;\">\n",
       "      <th></th>\n",
       "      <th>HOUSEHOLD_KEY</th>\n",
       "      <th>BASKET_ID</th>\n",
       "      <th>DAY</th>\n",
       "      <th>PRODUCT_ID</th>\n",
       "      <th>QUANTITY</th>\n",
       "      <th>SALES_VALUE_x</th>\n",
       "      <th>STORE_ID</th>\n",
       "      <th>RETAIL_DISC</th>\n",
       "      <th>TRANS_TIME</th>\n",
       "      <th>WEEK_NO</th>\n",
       "      <th>...</th>\n",
       "      <th>SALES_VALUE_y</th>\n",
       "      <th>COUPON_DISC_y</th>\n",
       "      <th>COUPON_MATCH_DISC_y</th>\n",
       "      <th>use_coupon</th>\n",
       "      <th>MANUFACTURER</th>\n",
       "      <th>DEPARTMENT</th>\n",
       "      <th>BRAND</th>\n",
       "      <th>COMMODITY_DESC</th>\n",
       "      <th>SUB_COMMODITY_DESC</th>\n",
       "      <th>CURR_SIZE_OF_PRODUCT</th>\n",
       "    </tr>\n",
       "  </thead>\n",
       "  <tbody>\n",
       "    <tr>\n",
       "      <th>0</th>\n",
       "      <td>2375</td>\n",
       "      <td>26984851472</td>\n",
       "      <td>1</td>\n",
       "      <td>1004906</td>\n",
       "      <td>1</td>\n",
       "      <td>1.39</td>\n",
       "      <td>364</td>\n",
       "      <td>-0.6</td>\n",
       "      <td>1631</td>\n",
       "      <td>1</td>\n",
       "      <td>...</td>\n",
       "      <td>5.91</td>\n",
       "      <td>0</td>\n",
       "      <td>0</td>\n",
       "      <td>False</td>\n",
       "      <td>69</td>\n",
       "      <td>PRODUCE</td>\n",
       "      <td>Private</td>\n",
       "      <td>POTATOES</td>\n",
       "      <td>POTATOES RUSSET (BULK&amp;BAG)</td>\n",
       "      <td>5 LB</td>\n",
       "    </tr>\n",
       "    <tr>\n",
       "      <th>1</th>\n",
       "      <td>2375</td>\n",
       "      <td>26984851472</td>\n",
       "      <td>1</td>\n",
       "      <td>1033142</td>\n",
       "      <td>1</td>\n",
       "      <td>0.82</td>\n",
       "      <td>364</td>\n",
       "      <td>0.0</td>\n",
       "      <td>1631</td>\n",
       "      <td>1</td>\n",
       "      <td>...</td>\n",
       "      <td>5.91</td>\n",
       "      <td>0</td>\n",
       "      <td>0</td>\n",
       "      <td>False</td>\n",
       "      <td>2</td>\n",
       "      <td>PRODUCE</td>\n",
       "      <td>National</td>\n",
       "      <td>ONIONS</td>\n",
       "      <td>ONIONS SWEET (BULK&amp;BAG)</td>\n",
       "      <td>40 LB</td>\n",
       "    </tr>\n",
       "    <tr>\n",
       "      <th>2</th>\n",
       "      <td>2375</td>\n",
       "      <td>26984851472</td>\n",
       "      <td>1</td>\n",
       "      <td>1036325</td>\n",
       "      <td>1</td>\n",
       "      <td>0.99</td>\n",
       "      <td>364</td>\n",
       "      <td>-0.3</td>\n",
       "      <td>1631</td>\n",
       "      <td>1</td>\n",
       "      <td>...</td>\n",
       "      <td>5.91</td>\n",
       "      <td>0</td>\n",
       "      <td>0</td>\n",
       "      <td>False</td>\n",
       "      <td>69</td>\n",
       "      <td>PRODUCE</td>\n",
       "      <td>Private</td>\n",
       "      <td>VEGETABLES - ALL OTHERS</td>\n",
       "      <td>CELERY</td>\n",
       "      <td></td>\n",
       "    </tr>\n",
       "  </tbody>\n",
       "</table>\n",
       "<p>3 rows × 23 columns</p>\n",
       "</div>"
      ],
      "text/plain": [
       "   HOUSEHOLD_KEY    BASKET_ID  DAY  PRODUCT_ID  QUANTITY  SALES_VALUE_x  \\\n",
       "0           2375  26984851472    1     1004906         1           1.39   \n",
       "1           2375  26984851472    1     1033142         1           0.82   \n",
       "2           2375  26984851472    1     1036325         1           0.99   \n",
       "\n",
       "   STORE_ID  RETAIL_DISC  TRANS_TIME  WEEK_NO  ...  SALES_VALUE_y  \\\n",
       "0       364         -0.6        1631        1  ...           5.91   \n",
       "1       364          0.0        1631        1  ...           5.91   \n",
       "2       364         -0.3        1631        1  ...           5.91   \n",
       "\n",
       "   COUPON_DISC_y COUPON_MATCH_DISC_y  use_coupon  MANUFACTURER  DEPARTMENT  \\\n",
       "0              0                   0       False            69     PRODUCE   \n",
       "1              0                   0       False             2     PRODUCE   \n",
       "2              0                   0       False            69     PRODUCE   \n",
       "\n",
       "      BRAND           COMMODITY_DESC          SUB_COMMODITY_DESC  \\\n",
       "0   Private                 POTATOES  POTATOES RUSSET (BULK&BAG)   \n",
       "1  National                   ONIONS     ONIONS SWEET (BULK&BAG)   \n",
       "2   Private  VEGETABLES - ALL OTHERS                      CELERY   \n",
       "\n",
       "  CURR_SIZE_OF_PRODUCT  \n",
       "0                 5 LB  \n",
       "1                40 LB  \n",
       "2                       \n",
       "\n",
       "[3 rows x 23 columns]"
      ]
     },
     "execution_count": 98,
     "metadata": {},
     "output_type": "execute_result"
    }
   ],
   "source": [
    "tranx_desc.head(3)"
   ]
  },
  {
   "cell_type": "code",
   "execution_count": 99,
   "id": "7fd49100",
   "metadata": {},
   "outputs": [],
   "source": [
    "tranx_desc.drop(['SALES_VALUE_y' , 'COUPON_DISC_y' , 'COUPON_MATCH_DISC_y'] , axis = 1 , inplace=True)"
   ]
  },
  {
   "cell_type": "code",
   "execution_count": 100,
   "id": "d01dba55",
   "metadata": {},
   "outputs": [
    {
     "data": {
      "text/html": [
       "<div>\n",
       "<style scoped>\n",
       "    .dataframe tbody tr th:only-of-type {\n",
       "        vertical-align: middle;\n",
       "    }\n",
       "\n",
       "    .dataframe tbody tr th {\n",
       "        vertical-align: top;\n",
       "    }\n",
       "\n",
       "    .dataframe thead th {\n",
       "        text-align: right;\n",
       "    }\n",
       "</style>\n",
       "<table border=\"1\" class=\"dataframe\">\n",
       "  <thead>\n",
       "    <tr style=\"text-align: right;\">\n",
       "      <th></th>\n",
       "      <th>HOUSEHOLD_KEY</th>\n",
       "      <th>BASKET_ID</th>\n",
       "      <th>DAY</th>\n",
       "      <th>PRODUCT_ID</th>\n",
       "      <th>QUANTITY</th>\n",
       "      <th>SALES_VALUE_x</th>\n",
       "      <th>STORE_ID</th>\n",
       "      <th>RETAIL_DISC</th>\n",
       "      <th>TRANS_TIME</th>\n",
       "      <th>WEEK_NO</th>\n",
       "      <th>COUPON_DISC_x</th>\n",
       "      <th>COUPON_MATCH_DISC_x</th>\n",
       "      <th>DATE</th>\n",
       "      <th>use_coupon</th>\n",
       "      <th>MANUFACTURER</th>\n",
       "      <th>DEPARTMENT</th>\n",
       "      <th>BRAND</th>\n",
       "      <th>COMMODITY_DESC</th>\n",
       "      <th>SUB_COMMODITY_DESC</th>\n",
       "      <th>CURR_SIZE_OF_PRODUCT</th>\n",
       "    </tr>\n",
       "  </thead>\n",
       "  <tbody>\n",
       "    <tr>\n",
       "      <th>0</th>\n",
       "      <td>2375</td>\n",
       "      <td>26984851472</td>\n",
       "      <td>1</td>\n",
       "      <td>1004906</td>\n",
       "      <td>1</td>\n",
       "      <td>1.39</td>\n",
       "      <td>364</td>\n",
       "      <td>-0.6</td>\n",
       "      <td>1631</td>\n",
       "      <td>1</td>\n",
       "      <td>0</td>\n",
       "      <td>0</td>\n",
       "      <td>2020-01-02</td>\n",
       "      <td>False</td>\n",
       "      <td>69</td>\n",
       "      <td>PRODUCE</td>\n",
       "      <td>Private</td>\n",
       "      <td>POTATOES</td>\n",
       "      <td>POTATOES RUSSET (BULK&amp;BAG)</td>\n",
       "      <td>5 LB</td>\n",
       "    </tr>\n",
       "  </tbody>\n",
       "</table>\n",
       "</div>"
      ],
      "text/plain": [
       "   HOUSEHOLD_KEY    BASKET_ID  DAY  PRODUCT_ID  QUANTITY  SALES_VALUE_x  \\\n",
       "0           2375  26984851472    1     1004906         1           1.39   \n",
       "\n",
       "   STORE_ID  RETAIL_DISC  TRANS_TIME  WEEK_NO  COUPON_DISC_x  \\\n",
       "0       364         -0.6        1631        1              0   \n",
       "\n",
       "   COUPON_MATCH_DISC_x       DATE  use_coupon  MANUFACTURER DEPARTMENT  \\\n",
       "0                    0 2020-01-02       False            69    PRODUCE   \n",
       "\n",
       "     BRAND COMMODITY_DESC          SUB_COMMODITY_DESC CURR_SIZE_OF_PRODUCT  \n",
       "0  Private       POTATOES  POTATOES RUSSET (BULK&BAG)                 5 LB  "
      ]
     },
     "execution_count": 100,
     "metadata": {},
     "output_type": "execute_result"
    }
   ],
   "source": [
    "tranx_desc.head(1)"
   ]
  },
  {
   "cell_type": "code",
   "execution_count": 101,
   "id": "4c5e7e1b",
   "metadata": {},
   "outputs": [],
   "source": [
    "commodity_coupon = tranx_desc.groupby('COMMODITY_DESC').aggregate(total_quantity = ('QUANTITY' , 'count'),use_coupon = ('use_coupon','sum'),coupon = ('COUPON_DISC_x','sum'))"
   ]
  },
  {
   "cell_type": "code",
   "execution_count": 102,
   "id": "197e7111",
   "metadata": {},
   "outputs": [
    {
     "data": {
      "text/html": [
       "<div>\n",
       "<style scoped>\n",
       "    .dataframe tbody tr th:only-of-type {\n",
       "        vertical-align: middle;\n",
       "    }\n",
       "\n",
       "    .dataframe tbody tr th {\n",
       "        vertical-align: top;\n",
       "    }\n",
       "\n",
       "    .dataframe thead th {\n",
       "        text-align: right;\n",
       "    }\n",
       "</style>\n",
       "<table border=\"1\" class=\"dataframe\">\n",
       "  <thead>\n",
       "    <tr style=\"text-align: right;\">\n",
       "      <th></th>\n",
       "      <th>total_quantity</th>\n",
       "      <th>use_coupon</th>\n",
       "      <th>coupon</th>\n",
       "    </tr>\n",
       "    <tr>\n",
       "      <th>COMMODITY_DESC</th>\n",
       "      <th></th>\n",
       "      <th></th>\n",
       "      <th></th>\n",
       "    </tr>\n",
       "  </thead>\n",
       "  <tbody>\n",
       "    <tr>\n",
       "      <th></th>\n",
       "      <td>1303</td>\n",
       "      <td>872</td>\n",
       "      <td>-1396</td>\n",
       "    </tr>\n",
       "    <tr>\n",
       "      <th>(CORP USE ONLY)</th>\n",
       "      <td>12</td>\n",
       "      <td>0</td>\n",
       "      <td>0</td>\n",
       "    </tr>\n",
       "    <tr>\n",
       "      <th>ADULT INCONTINENCE</th>\n",
       "      <td>74</td>\n",
       "      <td>3</td>\n",
       "      <td>-1</td>\n",
       "    </tr>\n",
       "    <tr>\n",
       "      <th>AIR CARE</th>\n",
       "      <td>928</td>\n",
       "      <td>193</td>\n",
       "      <td>-124</td>\n",
       "    </tr>\n",
       "    <tr>\n",
       "      <th>ANALGESICS</th>\n",
       "      <td>681</td>\n",
       "      <td>89</td>\n",
       "      <td>-3</td>\n",
       "    </tr>\n",
       "    <tr>\n",
       "      <th>ANTACIDS</th>\n",
       "      <td>307</td>\n",
       "      <td>36</td>\n",
       "      <td>-7</td>\n",
       "    </tr>\n",
       "    <tr>\n",
       "      <th>APPAREL</th>\n",
       "      <td>138</td>\n",
       "      <td>11</td>\n",
       "      <td>0</td>\n",
       "    </tr>\n",
       "    <tr>\n",
       "      <th>APPLES</th>\n",
       "      <td>2001</td>\n",
       "      <td>287</td>\n",
       "      <td>0</td>\n",
       "    </tr>\n",
       "    <tr>\n",
       "      <th>AUDIO/VIDEO PRODUCTS</th>\n",
       "      <td>149</td>\n",
       "      <td>16</td>\n",
       "      <td>-40</td>\n",
       "    </tr>\n",
       "    <tr>\n",
       "      <th>AUTOMOTIVE PRODUCTS</th>\n",
       "      <td>216</td>\n",
       "      <td>25</td>\n",
       "      <td>-6</td>\n",
       "    </tr>\n",
       "  </tbody>\n",
       "</table>\n",
       "</div>"
      ],
      "text/plain": [
       "                      total_quantity  use_coupon  coupon\n",
       "COMMODITY_DESC                                          \n",
       "                                1303         872   -1396\n",
       "(CORP USE ONLY)                   12           0       0\n",
       "ADULT INCONTINENCE                74           3      -1\n",
       "AIR CARE                         928         193    -124\n",
       "ANALGESICS                       681          89      -3\n",
       "ANTACIDS                         307          36      -7\n",
       "APPAREL                          138          11       0\n",
       "APPLES                          2001         287       0\n",
       "AUDIO/VIDEO PRODUCTS             149          16     -40\n",
       "AUTOMOTIVE PRODUCTS              216          25      -6"
      ]
     },
     "execution_count": 102,
     "metadata": {},
     "output_type": "execute_result"
    }
   ],
   "source": [
    "commodity_coupon.head(10)\n"
   ]
  },
  {
   "cell_type": "code",
   "execution_count": 103,
   "id": "91cea0e3",
   "metadata": {},
   "outputs": [],
   "source": [
    "commodity_coupon['coupon%']  = round((commodity_coupon['use_coupon']/commodity_coupon['total_quantity'])*100, 2)"
   ]
  },
  {
   "cell_type": "code",
   "execution_count": 104,
   "id": "b35a4c27",
   "metadata": {},
   "outputs": [
    {
     "data": {
      "text/html": [
       "<div>\n",
       "<style scoped>\n",
       "    .dataframe tbody tr th:only-of-type {\n",
       "        vertical-align: middle;\n",
       "    }\n",
       "\n",
       "    .dataframe tbody tr th {\n",
       "        vertical-align: top;\n",
       "    }\n",
       "\n",
       "    .dataframe thead th {\n",
       "        text-align: right;\n",
       "    }\n",
       "</style>\n",
       "<table border=\"1\" class=\"dataframe\">\n",
       "  <thead>\n",
       "    <tr style=\"text-align: right;\">\n",
       "      <th></th>\n",
       "      <th>total_quantity</th>\n",
       "      <th>use_coupon</th>\n",
       "      <th>coupon</th>\n",
       "      <th>coupon%</th>\n",
       "    </tr>\n",
       "    <tr>\n",
       "      <th>COMMODITY_DESC</th>\n",
       "      <th></th>\n",
       "      <th></th>\n",
       "      <th></th>\n",
       "      <th></th>\n",
       "    </tr>\n",
       "  </thead>\n",
       "  <tbody>\n",
       "    <tr>\n",
       "      <th></th>\n",
       "      <td>1303</td>\n",
       "      <td>872</td>\n",
       "      <td>-1396</td>\n",
       "      <td>66.92</td>\n",
       "    </tr>\n",
       "    <tr>\n",
       "      <th>(CORP USE ONLY)</th>\n",
       "      <td>12</td>\n",
       "      <td>0</td>\n",
       "      <td>0</td>\n",
       "      <td>0.00</td>\n",
       "    </tr>\n",
       "    <tr>\n",
       "      <th>ADULT INCONTINENCE</th>\n",
       "      <td>74</td>\n",
       "      <td>3</td>\n",
       "      <td>-1</td>\n",
       "      <td>4.05</td>\n",
       "    </tr>\n",
       "    <tr>\n",
       "      <th>AIR CARE</th>\n",
       "      <td>928</td>\n",
       "      <td>193</td>\n",
       "      <td>-124</td>\n",
       "      <td>20.80</td>\n",
       "    </tr>\n",
       "    <tr>\n",
       "      <th>ANALGESICS</th>\n",
       "      <td>681</td>\n",
       "      <td>89</td>\n",
       "      <td>-3</td>\n",
       "      <td>13.07</td>\n",
       "    </tr>\n",
       "  </tbody>\n",
       "</table>\n",
       "</div>"
      ],
      "text/plain": [
       "                    total_quantity  use_coupon  coupon  coupon%\n",
       "COMMODITY_DESC                                                 \n",
       "                              1303         872   -1396    66.92\n",
       "(CORP USE ONLY)                 12           0       0     0.00\n",
       "ADULT INCONTINENCE              74           3      -1     4.05\n",
       "AIR CARE                       928         193    -124    20.80\n",
       "ANALGESICS                     681          89      -3    13.07"
      ]
     },
     "execution_count": 104,
     "metadata": {},
     "output_type": "execute_result"
    }
   ],
   "source": [
    "commodity_coupon.head()"
   ]
  },
  {
   "cell_type": "code",
   "execution_count": 105,
   "id": "a6af09a5",
   "metadata": {},
   "outputs": [
    {
     "data": {
      "text/html": [
       "<div>\n",
       "<style scoped>\n",
       "    .dataframe tbody tr th:only-of-type {\n",
       "        vertical-align: middle;\n",
       "    }\n",
       "\n",
       "    .dataframe tbody tr th {\n",
       "        vertical-align: top;\n",
       "    }\n",
       "\n",
       "    .dataframe thead th {\n",
       "        text-align: right;\n",
       "    }\n",
       "</style>\n",
       "<table border=\"1\" class=\"dataframe\">\n",
       "  <thead>\n",
       "    <tr style=\"text-align: right;\">\n",
       "      <th></th>\n",
       "      <th>total_quantity</th>\n",
       "      <th>use_coupon</th>\n",
       "      <th>coupon</th>\n",
       "      <th>coupon%</th>\n",
       "    </tr>\n",
       "    <tr>\n",
       "      <th>COMMODITY_DESC</th>\n",
       "      <th></th>\n",
       "      <th></th>\n",
       "      <th></th>\n",
       "      <th></th>\n",
       "    </tr>\n",
       "  </thead>\n",
       "  <tbody>\n",
       "    <tr>\n",
       "      <th>NATURAL VITAMINS</th>\n",
       "      <td>1</td>\n",
       "      <td>1</td>\n",
       "      <td>-5</td>\n",
       "      <td>100.00</td>\n",
       "    </tr>\n",
       "    <tr>\n",
       "      <th></th>\n",
       "      <td>1303</td>\n",
       "      <td>872</td>\n",
       "      <td>-1396</td>\n",
       "      <td>66.92</td>\n",
       "    </tr>\n",
       "    <tr>\n",
       "      <th>VALENTINE</th>\n",
       "      <td>5</td>\n",
       "      <td>2</td>\n",
       "      <td>0</td>\n",
       "      <td>40.00</td>\n",
       "    </tr>\n",
       "    <tr>\n",
       "      <th>BABY FOODS</th>\n",
       "      <td>3664</td>\n",
       "      <td>1114</td>\n",
       "      <td>-38</td>\n",
       "      <td>30.40</td>\n",
       "    </tr>\n",
       "    <tr>\n",
       "      <th>RW FRESH PROCESSED MEAT</th>\n",
       "      <td>7</td>\n",
       "      <td>2</td>\n",
       "      <td>0</td>\n",
       "      <td>28.57</td>\n",
       "    </tr>\n",
       "    <tr>\n",
       "      <th>DIAPERS &amp; DISPOSABLES</th>\n",
       "      <td>864</td>\n",
       "      <td>231</td>\n",
       "      <td>-215</td>\n",
       "      <td>26.74</td>\n",
       "    </tr>\n",
       "    <tr>\n",
       "      <th>BABY HBC</th>\n",
       "      <td>817</td>\n",
       "      <td>181</td>\n",
       "      <td>-82</td>\n",
       "      <td>22.15</td>\n",
       "    </tr>\n",
       "    <tr>\n",
       "      <th>AIR CARE</th>\n",
       "      <td>928</td>\n",
       "      <td>193</td>\n",
       "      <td>-124</td>\n",
       "      <td>20.80</td>\n",
       "    </tr>\n",
       "    <tr>\n",
       "      <th>FRZN BREAKFAST FOODS</th>\n",
       "      <td>1743</td>\n",
       "      <td>347</td>\n",
       "      <td>-61</td>\n",
       "      <td>19.91</td>\n",
       "    </tr>\n",
       "    <tr>\n",
       "      <th>CAT LITTER</th>\n",
       "      <td>531</td>\n",
       "      <td>104</td>\n",
       "      <td>-11</td>\n",
       "      <td>19.59</td>\n",
       "    </tr>\n",
       "    <tr>\n",
       "      <th>FACIAL TISS/DNR NAPKIN</th>\n",
       "      <td>1237</td>\n",
       "      <td>242</td>\n",
       "      <td>-29</td>\n",
       "      <td>19.56</td>\n",
       "    </tr>\n",
       "    <tr>\n",
       "      <th>GLASSWARE &amp; DINNERWARE</th>\n",
       "      <td>36</td>\n",
       "      <td>7</td>\n",
       "      <td>0</td>\n",
       "      <td>19.44</td>\n",
       "    </tr>\n",
       "    <tr>\n",
       "      <th>LAUNDRY ADDITIVES</th>\n",
       "      <td>921</td>\n",
       "      <td>176</td>\n",
       "      <td>-25</td>\n",
       "      <td>19.11</td>\n",
       "    </tr>\n",
       "    <tr>\n",
       "      <th>FRUIT - SHELF STABLE</th>\n",
       "      <td>3267</td>\n",
       "      <td>611</td>\n",
       "      <td>-19</td>\n",
       "      <td>18.70</td>\n",
       "    </tr>\n",
       "    <tr>\n",
       "      <th>VITAMINS</th>\n",
       "      <td>334</td>\n",
       "      <td>61</td>\n",
       "      <td>-18</td>\n",
       "      <td>18.26</td>\n",
       "    </tr>\n",
       "    <tr>\n",
       "      <th>HOUSEHOLD CLEANG NEEDS</th>\n",
       "      <td>1962</td>\n",
       "      <td>355</td>\n",
       "      <td>-96</td>\n",
       "      <td>18.09</td>\n",
       "    </tr>\n",
       "    <tr>\n",
       "      <th>FD WRAPS/BAGS/TRSH BG</th>\n",
       "      <td>2358</td>\n",
       "      <td>416</td>\n",
       "      <td>-48</td>\n",
       "      <td>17.64</td>\n",
       "    </tr>\n",
       "    <tr>\n",
       "      <th>ORAL HYGIENE PRODUCTS</th>\n",
       "      <td>1715</td>\n",
       "      <td>302</td>\n",
       "      <td>-104</td>\n",
       "      <td>17.61</td>\n",
       "    </tr>\n",
       "    <tr>\n",
       "      <th>FROZEN - BOXED(GROCERY)</th>\n",
       "      <td>127</td>\n",
       "      <td>22</td>\n",
       "      <td>-14</td>\n",
       "      <td>17.32</td>\n",
       "    </tr>\n",
       "    <tr>\n",
       "      <th>FROZEN BREAD/DOUGH</th>\n",
       "      <td>1241</td>\n",
       "      <td>214</td>\n",
       "      <td>-62</td>\n",
       "      <td>17.24</td>\n",
       "    </tr>\n",
       "  </tbody>\n",
       "</table>\n",
       "</div>"
      ],
      "text/plain": [
       "                         total_quantity  use_coupon  coupon  coupon%\n",
       "COMMODITY_DESC                                                      \n",
       "NATURAL VITAMINS                      1           1      -5   100.00\n",
       "                                   1303         872   -1396    66.92\n",
       "VALENTINE                             5           2       0    40.00\n",
       "BABY FOODS                         3664        1114     -38    30.40\n",
       "RW FRESH PROCESSED MEAT               7           2       0    28.57\n",
       "DIAPERS & DISPOSABLES               864         231    -215    26.74\n",
       "BABY HBC                            817         181     -82    22.15\n",
       "AIR CARE                            928         193    -124    20.80\n",
       "FRZN BREAKFAST FOODS               1743         347     -61    19.91\n",
       "CAT LITTER                          531         104     -11    19.59\n",
       "FACIAL TISS/DNR NAPKIN             1237         242     -29    19.56\n",
       "GLASSWARE & DINNERWARE               36           7       0    19.44\n",
       "LAUNDRY ADDITIVES                   921         176     -25    19.11\n",
       "FRUIT - SHELF STABLE               3267         611     -19    18.70\n",
       "VITAMINS                            334          61     -18    18.26\n",
       "HOUSEHOLD CLEANG NEEDS             1962         355     -96    18.09\n",
       "FD WRAPS/BAGS/TRSH BG              2358         416     -48    17.64\n",
       "ORAL HYGIENE PRODUCTS              1715         302    -104    17.61\n",
       "FROZEN - BOXED(GROCERY)             127          22     -14    17.32\n",
       "FROZEN BREAD/DOUGH                 1241         214     -62    17.24"
      ]
     },
     "execution_count": 105,
     "metadata": {},
     "output_type": "execute_result"
    }
   ],
   "source": [
    "commodity_coupon.sort_values('coupon%',ascending=False).head(20)"
   ]
  },
  {
   "cell_type": "markdown",
   "id": "620b6245",
   "metadata": {},
   "source": [
    "#### While the most prominent product on which coupons are created are haircare and makeup products, coupons are mostly used on drinks, cigerette , diapers,etc . Bathroom products are not even amoung top 10."
   ]
  },
  {
   "cell_type": "code",
   "execution_count": 106,
   "id": "19bbbcbf",
   "metadata": {},
   "outputs": [
    {
     "data": {
      "text/html": [
       "<div>\n",
       "<style scoped>\n",
       "    .dataframe tbody tr th:only-of-type {\n",
       "        vertical-align: middle;\n",
       "    }\n",
       "\n",
       "    .dataframe tbody tr th {\n",
       "        vertical-align: top;\n",
       "    }\n",
       "\n",
       "    .dataframe thead th {\n",
       "        text-align: right;\n",
       "    }\n",
       "</style>\n",
       "<table border=\"1\" class=\"dataframe\">\n",
       "  <thead>\n",
       "    <tr style=\"text-align: right;\">\n",
       "      <th></th>\n",
       "      <th>HOUSEHOLD_KEY</th>\n",
       "      <th>BASKET_ID</th>\n",
       "      <th>DAY</th>\n",
       "      <th>PRODUCT_ID</th>\n",
       "      <th>QUANTITY</th>\n",
       "      <th>SALES_VALUE</th>\n",
       "      <th>STORE_ID</th>\n",
       "      <th>RETAIL_DISC</th>\n",
       "      <th>TRANS_TIME</th>\n",
       "      <th>WEEK_NO</th>\n",
       "      <th>COUPON_DISC</th>\n",
       "      <th>COUPON_MATCH_DISC</th>\n",
       "      <th>DATE</th>\n",
       "    </tr>\n",
       "  </thead>\n",
       "  <tbody>\n",
       "    <tr>\n",
       "      <th>0</th>\n",
       "      <td>2375</td>\n",
       "      <td>26984851472</td>\n",
       "      <td>1</td>\n",
       "      <td>1004906</td>\n",
       "      <td>1</td>\n",
       "      <td>1.39</td>\n",
       "      <td>364</td>\n",
       "      <td>-0.60</td>\n",
       "      <td>1631</td>\n",
       "      <td>1</td>\n",
       "      <td>0</td>\n",
       "      <td>0</td>\n",
       "      <td>2020-01-02</td>\n",
       "    </tr>\n",
       "    <tr>\n",
       "      <th>1</th>\n",
       "      <td>2375</td>\n",
       "      <td>26984851472</td>\n",
       "      <td>1</td>\n",
       "      <td>1033142</td>\n",
       "      <td>1</td>\n",
       "      <td>0.82</td>\n",
       "      <td>364</td>\n",
       "      <td>0.00</td>\n",
       "      <td>1631</td>\n",
       "      <td>1</td>\n",
       "      <td>0</td>\n",
       "      <td>0</td>\n",
       "      <td>2020-01-02</td>\n",
       "    </tr>\n",
       "    <tr>\n",
       "      <th>2</th>\n",
       "      <td>2375</td>\n",
       "      <td>26984851472</td>\n",
       "      <td>1</td>\n",
       "      <td>1036325</td>\n",
       "      <td>1</td>\n",
       "      <td>0.99</td>\n",
       "      <td>364</td>\n",
       "      <td>-0.30</td>\n",
       "      <td>1631</td>\n",
       "      <td>1</td>\n",
       "      <td>0</td>\n",
       "      <td>0</td>\n",
       "      <td>2020-01-02</td>\n",
       "    </tr>\n",
       "    <tr>\n",
       "      <th>3</th>\n",
       "      <td>2375</td>\n",
       "      <td>26984851472</td>\n",
       "      <td>1</td>\n",
       "      <td>1082185</td>\n",
       "      <td>1</td>\n",
       "      <td>1.21</td>\n",
       "      <td>364</td>\n",
       "      <td>0.00</td>\n",
       "      <td>1631</td>\n",
       "      <td>1</td>\n",
       "      <td>0</td>\n",
       "      <td>0</td>\n",
       "      <td>2020-01-02</td>\n",
       "    </tr>\n",
       "    <tr>\n",
       "      <th>4</th>\n",
       "      <td>2375</td>\n",
       "      <td>26984851472</td>\n",
       "      <td>1</td>\n",
       "      <td>8160430</td>\n",
       "      <td>1</td>\n",
       "      <td>1.50</td>\n",
       "      <td>364</td>\n",
       "      <td>-0.39</td>\n",
       "      <td>1631</td>\n",
       "      <td>1</td>\n",
       "      <td>0</td>\n",
       "      <td>0</td>\n",
       "      <td>2020-01-02</td>\n",
       "    </tr>\n",
       "  </tbody>\n",
       "</table>\n",
       "</div>"
      ],
      "text/plain": [
       "   HOUSEHOLD_KEY    BASKET_ID  DAY  PRODUCT_ID  QUANTITY  SALES_VALUE  \\\n",
       "0           2375  26984851472    1     1004906         1         1.39   \n",
       "1           2375  26984851472    1     1033142         1         0.82   \n",
       "2           2375  26984851472    1     1036325         1         0.99   \n",
       "3           2375  26984851472    1     1082185         1         1.21   \n",
       "4           2375  26984851472    1     8160430         1         1.50   \n",
       "\n",
       "   STORE_ID  RETAIL_DISC  TRANS_TIME  WEEK_NO  COUPON_DISC  COUPON_MATCH_DISC  \\\n",
       "0       364        -0.60        1631        1            0                  0   \n",
       "1       364         0.00        1631        1            0                  0   \n",
       "2       364        -0.30        1631        1            0                  0   \n",
       "3       364         0.00        1631        1            0                  0   \n",
       "4       364        -0.39        1631        1            0                  0   \n",
       "\n",
       "        DATE  \n",
       "0 2020-01-02  \n",
       "1 2020-01-02  \n",
       "2 2020-01-02  \n",
       "3 2020-01-02  \n",
       "4 2020-01-02  "
      ]
     },
     "execution_count": 106,
     "metadata": {},
     "output_type": "execute_result"
    }
   ],
   "source": [
    "TRANSACTIONS_RAW.head()"
   ]
  },
  {
   "cell_type": "code",
   "execution_count": 107,
   "id": "ccf92d61",
   "metadata": {},
   "outputs": [
    {
     "data": {
      "text/html": [
       "<div>\n",
       "<style scoped>\n",
       "    .dataframe tbody tr th:only-of-type {\n",
       "        vertical-align: middle;\n",
       "    }\n",
       "\n",
       "    .dataframe tbody tr th {\n",
       "        vertical-align: top;\n",
       "    }\n",
       "\n",
       "    .dataframe thead th {\n",
       "        text-align: right;\n",
       "    }\n",
       "</style>\n",
       "<table border=\"1\" class=\"dataframe\">\n",
       "  <thead>\n",
       "    <tr style=\"text-align: right;\">\n",
       "      <th></th>\n",
       "      <th></th>\n",
       "      <th></th>\n",
       "      <th>SALES_VALUE</th>\n",
       "      <th>RETAIL_DISC</th>\n",
       "      <th>COUPON_DISC</th>\n",
       "      <th>COUPON_MATCH_DISC</th>\n",
       "    </tr>\n",
       "    <tr>\n",
       "      <th>HOUSEHOLD_KEY</th>\n",
       "      <th>DAY</th>\n",
       "      <th>WEEK_NO</th>\n",
       "      <th></th>\n",
       "      <th></th>\n",
       "      <th></th>\n",
       "      <th></th>\n",
       "    </tr>\n",
       "  </thead>\n",
       "  <tbody>\n",
       "    <tr>\n",
       "      <th rowspan=\"5\" valign=\"top\">1</th>\n",
       "      <th>51</th>\n",
       "      <th>8</th>\n",
       "      <td>78.66</td>\n",
       "      <td>-16.54</td>\n",
       "      <td>-1</td>\n",
       "      <td>0</td>\n",
       "    </tr>\n",
       "    <tr>\n",
       "      <th>67</th>\n",
       "      <th>10</th>\n",
       "      <td>41.10</td>\n",
       "      <td>-8.59</td>\n",
       "      <td>0</td>\n",
       "      <td>0</td>\n",
       "    </tr>\n",
       "    <tr>\n",
       "      <th>88</th>\n",
       "      <th>13</th>\n",
       "      <td>26.90</td>\n",
       "      <td>-6.72</td>\n",
       "      <td>0</td>\n",
       "      <td>0</td>\n",
       "    </tr>\n",
       "    <tr>\n",
       "      <th>94</th>\n",
       "      <th>14</th>\n",
       "      <td>63.43</td>\n",
       "      <td>-11.08</td>\n",
       "      <td>-2</td>\n",
       "      <td>-1</td>\n",
       "    </tr>\n",
       "    <tr>\n",
       "      <th>101</th>\n",
       "      <th>15</th>\n",
       "      <td>53.45</td>\n",
       "      <td>-16.42</td>\n",
       "      <td>0</td>\n",
       "      <td>0</td>\n",
       "    </tr>\n",
       "    <tr>\n",
       "      <th>...</th>\n",
       "      <th>...</th>\n",
       "      <th>...</th>\n",
       "      <td>...</td>\n",
       "      <td>...</td>\n",
       "      <td>...</td>\n",
       "      <td>...</td>\n",
       "    </tr>\n",
       "    <tr>\n",
       "      <th rowspan=\"5\" valign=\"top\">2500</th>\n",
       "      <th>145</th>\n",
       "      <th>21</th>\n",
       "      <td>50.23</td>\n",
       "      <td>-2.02</td>\n",
       "      <td>-3</td>\n",
       "      <td>0</td>\n",
       "    </tr>\n",
       "    <tr>\n",
       "      <th>150</th>\n",
       "      <th>22</th>\n",
       "      <td>55.03</td>\n",
       "      <td>-2.17</td>\n",
       "      <td>0</td>\n",
       "      <td>0</td>\n",
       "    </tr>\n",
       "    <tr>\n",
       "      <th>174</th>\n",
       "      <th>26</th>\n",
       "      <td>110.30</td>\n",
       "      <td>-49.05</td>\n",
       "      <td>-1</td>\n",
       "      <td>0</td>\n",
       "    </tr>\n",
       "    <tr>\n",
       "      <th>175</th>\n",
       "      <th>26</th>\n",
       "      <td>10.59</td>\n",
       "      <td>0.00</td>\n",
       "      <td>-2</td>\n",
       "      <td>0</td>\n",
       "    </tr>\n",
       "    <tr>\n",
       "      <th>176</th>\n",
       "      <th>26</th>\n",
       "      <td>20.26</td>\n",
       "      <td>-2.51</td>\n",
       "      <td>0</td>\n",
       "      <td>0</td>\n",
       "    </tr>\n",
       "  </tbody>\n",
       "</table>\n",
       "<p>40506 rows × 4 columns</p>\n",
       "</div>"
      ],
      "text/plain": [
       "                           SALES_VALUE  RETAIL_DISC  COUPON_DISC  \\\n",
       "HOUSEHOLD_KEY DAY WEEK_NO                                          \n",
       "1             51  8              78.66       -16.54           -1   \n",
       "              67  10             41.10        -8.59            0   \n",
       "              88  13             26.90        -6.72            0   \n",
       "              94  14             63.43       -11.08           -2   \n",
       "              101 15             53.45       -16.42            0   \n",
       "...                                ...          ...          ...   \n",
       "2500          145 21             50.23        -2.02           -3   \n",
       "              150 22             55.03        -2.17            0   \n",
       "              174 26            110.30       -49.05           -1   \n",
       "              175 26             10.59         0.00           -2   \n",
       "              176 26             20.26        -2.51            0   \n",
       "\n",
       "                           COUPON_MATCH_DISC  \n",
       "HOUSEHOLD_KEY DAY WEEK_NO                     \n",
       "1             51  8                        0  \n",
       "              67  10                       0  \n",
       "              88  13                       0  \n",
       "              94  14                      -1  \n",
       "              101 15                       0  \n",
       "...                                      ...  \n",
       "2500          145 21                       0  \n",
       "              150 22                       0  \n",
       "              174 26                       0  \n",
       "              175 26                       0  \n",
       "              176 26                       0  \n",
       "\n",
       "[40506 rows x 4 columns]"
      ]
     },
     "execution_count": 107,
     "metadata": {},
     "output_type": "execute_result"
    }
   ],
   "source": [
    "TRANSACTIONS_RAW.groupby(['HOUSEHOLD_KEY','DAY','WEEK_NO']).aggregate({'SALES_VALUE':'sum' ,'RETAIL_DISC': 'sum','COUPON_DISC':'sum',\n",
    "                                                                      'COUPON_MATCH_DISC':'sum'})"
   ]
  },
  {
   "cell_type": "code",
   "execution_count": 108,
   "id": "d7095d1a",
   "metadata": {},
   "outputs": [
    {
     "data": {
      "text/html": [
       "<div>\n",
       "<style scoped>\n",
       "    .dataframe tbody tr th:only-of-type {\n",
       "        vertical-align: middle;\n",
       "    }\n",
       "\n",
       "    .dataframe tbody tr th {\n",
       "        vertical-align: top;\n",
       "    }\n",
       "\n",
       "    .dataframe thead th {\n",
       "        text-align: right;\n",
       "    }\n",
       "</style>\n",
       "<table border=\"1\" class=\"dataframe\">\n",
       "  <thead>\n",
       "    <tr style=\"text-align: right;\">\n",
       "      <th></th>\n",
       "      <th>SALES_VALUE</th>\n",
       "      <th>RETAIL_DISC</th>\n",
       "      <th>COUPON_DISC</th>\n",
       "    </tr>\n",
       "    <tr>\n",
       "      <th>DATE</th>\n",
       "      <th></th>\n",
       "      <th></th>\n",
       "      <th></th>\n",
       "    </tr>\n",
       "  </thead>\n",
       "  <tbody>\n",
       "    <tr>\n",
       "      <th>2020</th>\n",
       "      <td>1359551.73</td>\n",
       "      <td>-248978.11</td>\n",
       "      <td>-6693</td>\n",
       "    </tr>\n",
       "  </tbody>\n",
       "</table>\n",
       "</div>"
      ],
      "text/plain": [
       "      SALES_VALUE  RETAIL_DISC  COUPON_DISC\n",
       "DATE                                       \n",
       "2020   1359551.73   -248978.11        -6693"
      ]
     },
     "execution_count": 108,
     "metadata": {},
     "output_type": "execute_result"
    }
   ],
   "source": [
    "TRANSACTIONS_RAW.groupby(TRANSACTIONS_RAW['DATE'].dt.year).aggregate({'SALES_VALUE':'sum','RETAIL_DISC':'sum','COUPON_DISC':'sum'})"
   ]
  },
  {
   "cell_type": "markdown",
   "id": "da5ed742",
   "metadata": {},
   "source": [
    "#### Sales Value increases as Retail Discount and Coupon Discount increases."
   ]
  },
  {
   "cell_type": "markdown",
   "id": "afabb7b5",
   "metadata": {},
   "source": [
    "### Dropping  the columns -"
   ]
  },
  {
   "cell_type": "code",
   "execution_count": 109,
   "id": "e45ed6fc",
   "metadata": {},
   "outputs": [],
   "source": [
    "CAMPAIGN_DESC_RAW.drop(['START_DAY' , \"END_DAY\"],axis = 1 , inplace = True)"
   ]
  },
  {
   "cell_type": "code",
   "execution_count": 110,
   "id": "d0a2697a",
   "metadata": {},
   "outputs": [
    {
     "data": {
      "text/html": [
       "<div>\n",
       "<style scoped>\n",
       "    .dataframe tbody tr th:only-of-type {\n",
       "        vertical-align: middle;\n",
       "    }\n",
       "\n",
       "    .dataframe tbody tr th {\n",
       "        vertical-align: top;\n",
       "    }\n",
       "\n",
       "    .dataframe thead th {\n",
       "        text-align: right;\n",
       "    }\n",
       "</style>\n",
       "<table border=\"1\" class=\"dataframe\">\n",
       "  <thead>\n",
       "    <tr style=\"text-align: right;\">\n",
       "      <th></th>\n",
       "      <th>DESCRIPTION</th>\n",
       "      <th>CAMPAIGN</th>\n",
       "      <th>START_DATE</th>\n",
       "      <th>END_DATE</th>\n",
       "      <th>CAMPAIGN_DURATION</th>\n",
       "      <th>START_MONTH</th>\n",
       "      <th>END_MONTH</th>\n",
       "    </tr>\n",
       "  </thead>\n",
       "  <tbody>\n",
       "    <tr>\n",
       "      <th>0</th>\n",
       "      <td>TypeB</td>\n",
       "      <td>24</td>\n",
       "      <td>2021-10-21</td>\n",
       "      <td>2021-12-20</td>\n",
       "      <td>60</td>\n",
       "      <td>10</td>\n",
       "      <td>12</td>\n",
       "    </tr>\n",
       "    <tr>\n",
       "      <th>1</th>\n",
       "      <td>TypeC</td>\n",
       "      <td>15</td>\n",
       "      <td>2021-07-01</td>\n",
       "      <td>2021-12-09</td>\n",
       "      <td>161</td>\n",
       "      <td>7</td>\n",
       "      <td>12</td>\n",
       "    </tr>\n",
       "    <tr>\n",
       "      <th>2</th>\n",
       "      <td>TypeB</td>\n",
       "      <td>25</td>\n",
       "      <td>2021-10-21</td>\n",
       "      <td>2021-11-22</td>\n",
       "      <td>32</td>\n",
       "      <td>10</td>\n",
       "      <td>11</td>\n",
       "    </tr>\n",
       "    <tr>\n",
       "      <th>3</th>\n",
       "      <td>TypeC</td>\n",
       "      <td>20</td>\n",
       "      <td>2021-09-07</td>\n",
       "      <td>2021-11-16</td>\n",
       "      <td>70</td>\n",
       "      <td>9</td>\n",
       "      <td>11</td>\n",
       "    </tr>\n",
       "    <tr>\n",
       "      <th>4</th>\n",
       "      <td>TypeB</td>\n",
       "      <td>23</td>\n",
       "      <td>2021-10-08</td>\n",
       "      <td>2021-11-15</td>\n",
       "      <td>38</td>\n",
       "      <td>10</td>\n",
       "      <td>11</td>\n",
       "    </tr>\n",
       "  </tbody>\n",
       "</table>\n",
       "</div>"
      ],
      "text/plain": [
       "  DESCRIPTION  CAMPAIGN START_DATE   END_DATE  CAMPAIGN_DURATION  START_MONTH  \\\n",
       "0       TypeB        24 2021-10-21 2021-12-20                 60           10   \n",
       "1       TypeC        15 2021-07-01 2021-12-09                161            7   \n",
       "2       TypeB        25 2021-10-21 2021-11-22                 32           10   \n",
       "3       TypeC        20 2021-09-07 2021-11-16                 70            9   \n",
       "4       TypeB        23 2021-10-08 2021-11-15                 38           10   \n",
       "\n",
       "   END_MONTH  \n",
       "0         12  \n",
       "1         12  \n",
       "2         11  \n",
       "3         11  \n",
       "4         11  "
      ]
     },
     "execution_count": 110,
     "metadata": {},
     "output_type": "execute_result"
    }
   ],
   "source": [
    "CAMPAIGN_DESC_RAW.head()"
   ]
  },
  {
   "cell_type": "code",
   "execution_count": 111,
   "id": "aa1a16aa",
   "metadata": {},
   "outputs": [],
   "source": [
    "CAMPAIGN_DESC_RAW['START_DATE'] = pd.to_datetime(CAMPAIGN_DESC_RAW['START_DATE']).apply(lambda x : x.date())"
   ]
  },
  {
   "cell_type": "code",
   "execution_count": 112,
   "id": "42d8d0dd",
   "metadata": {},
   "outputs": [],
   "source": [
    "CAMPAIGN_DESC_RAW['END_DATE'] = pd.to_datetime(CAMPAIGN_DESC_RAW['END_DATE']).apply(lambda x : x.date())\n",
    "\n",
    "## the above two steps are done in order to change the data type of the date column so that we can push the data easily back to snowflake."
   ]
  },
  {
   "cell_type": "code",
   "execution_count": 113,
   "id": "b183c3a8",
   "metadata": {},
   "outputs": [],
   "source": [
    "COUPON_REDEMPT_RAW.drop(['DAY'],axis = 1 , inplace = True)"
   ]
  },
  {
   "cell_type": "code",
   "execution_count": 114,
   "id": "f55684ff",
   "metadata": {},
   "outputs": [
    {
     "data": {
      "text/plain": [
       "HOUSEHOLD_KEY             int16\n",
       "COUPON_UPC                int64\n",
       "CAMPAIGN                   int8\n",
       "DATE             datetime64[ns]\n",
       "dtype: object"
      ]
     },
     "execution_count": 114,
     "metadata": {},
     "output_type": "execute_result"
    }
   ],
   "source": [
    "COUPON_REDEMPT_RAW.dtypes"
   ]
  },
  {
   "cell_type": "code",
   "execution_count": 115,
   "id": "17ae63dc",
   "metadata": {},
   "outputs": [],
   "source": [
    "COUPON_REDEMPT_RAW['DATE'] = pd.to_datetime(COUPON_REDEMPT_RAW['DATE']).apply(lambda x : x.date())"
   ]
  },
  {
   "cell_type": "code",
   "execution_count": 116,
   "id": "29b235ab",
   "metadata": {},
   "outputs": [
    {
     "data": {
      "text/plain": [
       "HOUSEHOLD_KEY     int16\n",
       "COUPON_UPC        int64\n",
       "CAMPAIGN           int8\n",
       "DATE             object\n",
       "dtype: object"
      ]
     },
     "execution_count": 116,
     "metadata": {},
     "output_type": "execute_result"
    }
   ],
   "source": [
    "COUPON_REDEMPT_RAW.dtypes"
   ]
  },
  {
   "cell_type": "code",
   "execution_count": 117,
   "id": "959c00da",
   "metadata": {},
   "outputs": [],
   "source": [
    "TRANSACTIONS_RAW.drop(['DAY' , 'WEEK_NO'] , axis=1 , inplace=True)"
   ]
  },
  {
   "cell_type": "code",
   "execution_count": 118,
   "id": "1bb4af58",
   "metadata": {},
   "outputs": [
    {
     "data": {
      "text/plain": [
       "HOUSEHOLD_KEY                 int16\n",
       "BASKET_ID                     int64\n",
       "PRODUCT_ID                    int32\n",
       "QUANTITY                      int32\n",
       "SALES_VALUE                 float64\n",
       "STORE_ID                      int16\n",
       "RETAIL_DISC                 float64\n",
       "TRANS_TIME                    int16\n",
       "COUPON_DISC                    int8\n",
       "COUPON_MATCH_DISC              int8\n",
       "DATE                 datetime64[ns]\n",
       "dtype: object"
      ]
     },
     "execution_count": 118,
     "metadata": {},
     "output_type": "execute_result"
    }
   ],
   "source": [
    "TRANSACTIONS_RAW.dtypes"
   ]
  },
  {
   "cell_type": "code",
   "execution_count": 119,
   "id": "6974ab58",
   "metadata": {},
   "outputs": [],
   "source": [
    "TRANSACTIONS_RAW['DATE'] = pd.to_datetime(TRANSACTIONS_RAW['DATE']).apply(lambda x : x.date())"
   ]
  },
  {
   "cell_type": "code",
   "execution_count": 120,
   "id": "3a4308f5",
   "metadata": {},
   "outputs": [
    {
     "data": {
      "text/plain": [
       "HOUSEHOLD_KEY          int16\n",
       "BASKET_ID              int64\n",
       "PRODUCT_ID             int32\n",
       "QUANTITY               int32\n",
       "SALES_VALUE          float64\n",
       "STORE_ID               int16\n",
       "RETAIL_DISC          float64\n",
       "TRANS_TIME             int16\n",
       "COUPON_DISC             int8\n",
       "COUPON_MATCH_DISC       int8\n",
       "DATE                  object\n",
       "dtype: object"
      ]
     },
     "execution_count": 120,
     "metadata": {},
     "output_type": "execute_result"
    }
   ],
   "source": [
    "TRANSACTIONS_RAW.dtypes"
   ]
  },
  {
   "cell_type": "markdown",
   "id": "f7d59185",
   "metadata": {},
   "source": [
    "### Now Loading Data to DB"
   ]
  },
  {
   "cell_type": "code",
   "execution_count": 121,
   "id": "4843ad4c",
   "metadata": {},
   "outputs": [],
   "source": [
    "from sqlalchemy import create_engine\n",
    "from sqlalchemy.engine import URL\n",
    "import snowflake.connector\n",
    "from snowflake.connector.pandas_tools import write_pandas\n",
    "import pandas as pd\n",
    "import getpass"
   ]
  },
  {
   "cell_type": "code",
   "execution_count": 122,
   "id": "6b86dd0d",
   "metadata": {},
   "outputs": [],
   "source": [
    "conn = snowflake.connector.connect(\n",
    "    user = 'GAURAVMISHRAGM14',\n",
    "    password = getpass.getpass(\"Your Snowflake password: \\n\"),\n",
    "    account = 'ITBLSIZ-DM68127',\n",
    "    warehouse = 'GAURAV',\n",
    "    database = 'RETAIL_PROJECT',\n",
    "    schema = 'PUBLIC'\n",
    ")\n"
   ]
  },
  {
   "cell_type": "code",
   "execution_count": 123,
   "id": "fc51d4c2",
   "metadata": {},
   "outputs": [],
   "source": [
    "cur = conn.cursor()"
   ]
  },
  {
   "cell_type": "code",
   "execution_count": 124,
   "id": "09147c16",
   "metadata": {},
   "outputs": [
    {
     "data": {
      "text/html": [
       "<div>\n",
       "<style scoped>\n",
       "    .dataframe tbody tr th:only-of-type {\n",
       "        vertical-align: middle;\n",
       "    }\n",
       "\n",
       "    .dataframe tbody tr th {\n",
       "        vertical-align: top;\n",
       "    }\n",
       "\n",
       "    .dataframe thead th {\n",
       "        text-align: right;\n",
       "    }\n",
       "</style>\n",
       "<table border=\"1\" class=\"dataframe\">\n",
       "  <thead>\n",
       "    <tr style=\"text-align: right;\">\n",
       "      <th></th>\n",
       "      <th>DESCRIPTION</th>\n",
       "      <th>CAMPAIGN</th>\n",
       "      <th>START_DATE</th>\n",
       "      <th>END_DATE</th>\n",
       "      <th>CAMPAIGN_DURATION</th>\n",
       "      <th>START_MONTH</th>\n",
       "      <th>END_MONTH</th>\n",
       "    </tr>\n",
       "  </thead>\n",
       "  <tbody>\n",
       "    <tr>\n",
       "      <th>0</th>\n",
       "      <td>TypeB</td>\n",
       "      <td>24</td>\n",
       "      <td>2021-10-21</td>\n",
       "      <td>2021-12-20</td>\n",
       "      <td>60</td>\n",
       "      <td>10</td>\n",
       "      <td>12</td>\n",
       "    </tr>\n",
       "    <tr>\n",
       "      <th>1</th>\n",
       "      <td>TypeC</td>\n",
       "      <td>15</td>\n",
       "      <td>2021-07-01</td>\n",
       "      <td>2021-12-09</td>\n",
       "      <td>161</td>\n",
       "      <td>7</td>\n",
       "      <td>12</td>\n",
       "    </tr>\n",
       "    <tr>\n",
       "      <th>2</th>\n",
       "      <td>TypeB</td>\n",
       "      <td>25</td>\n",
       "      <td>2021-10-21</td>\n",
       "      <td>2021-11-22</td>\n",
       "      <td>32</td>\n",
       "      <td>10</td>\n",
       "      <td>11</td>\n",
       "    </tr>\n",
       "    <tr>\n",
       "      <th>3</th>\n",
       "      <td>TypeC</td>\n",
       "      <td>20</td>\n",
       "      <td>2021-09-07</td>\n",
       "      <td>2021-11-16</td>\n",
       "      <td>70</td>\n",
       "      <td>9</td>\n",
       "      <td>11</td>\n",
       "    </tr>\n",
       "    <tr>\n",
       "      <th>4</th>\n",
       "      <td>TypeB</td>\n",
       "      <td>23</td>\n",
       "      <td>2021-10-08</td>\n",
       "      <td>2021-11-15</td>\n",
       "      <td>38</td>\n",
       "      <td>10</td>\n",
       "      <td>11</td>\n",
       "    </tr>\n",
       "  </tbody>\n",
       "</table>\n",
       "</div>"
      ],
      "text/plain": [
       "  DESCRIPTION  CAMPAIGN  START_DATE    END_DATE  CAMPAIGN_DURATION  \\\n",
       "0       TypeB        24  2021-10-21  2021-12-20                 60   \n",
       "1       TypeC        15  2021-07-01  2021-12-09                161   \n",
       "2       TypeB        25  2021-10-21  2021-11-22                 32   \n",
       "3       TypeC        20  2021-09-07  2021-11-16                 70   \n",
       "4       TypeB        23  2021-10-08  2021-11-15                 38   \n",
       "\n",
       "   START_MONTH  END_MONTH  \n",
       "0           10         12  \n",
       "1            7         12  \n",
       "2           10         11  \n",
       "3            9         11  \n",
       "4           10         11  "
      ]
     },
     "execution_count": 124,
     "metadata": {},
     "output_type": "execute_result"
    }
   ],
   "source": [
    "CAMPAIGN_DESC_RAW.head()"
   ]
  },
  {
   "cell_type": "code",
   "execution_count": 125,
   "id": "b5edde9d",
   "metadata": {},
   "outputs": [
    {
     "data": {
      "text/plain": [
       "<snowflake.connector.cursor.SnowflakeCursor at 0x1fcec1c0950>"
      ]
     },
     "execution_count": 125,
     "metadata": {},
     "output_type": "execute_result"
    }
   ],
   "source": [
    "cur.execute(\n",
    "''' create or replace table CAMPAIGN_DESC_NEW(\n",
    "DESCRIPTION varchar(10),\n",
    "CAMPAIGN int,\n",
    "START_DATE date,\n",
    "END_DATE date,\n",
    "CAMPAIGN_DURATION int,\n",
    "START_MONTH int,\n",
    "END_MONTH int\n",
    ")''')"
   ]
  },
  {
   "cell_type": "code",
   "execution_count": 126,
   "id": "fd5ab564",
   "metadata": {},
   "outputs": [
    {
     "name": "stdout",
     "output_type": "stream",
     "text": [
      "True,1,30\n"
     ]
    }
   ],
   "source": [
    "success , nchunks , nrows , _ = write_pandas( conn , CAMPAIGN_DESC_RAW , 'CAMPAIGN_DESC_NEW' , quote_identifiers=False)\n",
    "print(str(success)+','+str(nchunks)+','+str(nrows))"
   ]
  },
  {
   "cell_type": "code",
   "execution_count": 127,
   "id": "9c4bb102",
   "metadata": {},
   "outputs": [
    {
     "data": {
      "text/html": [
       "<div>\n",
       "<style scoped>\n",
       "    .dataframe tbody tr th:only-of-type {\n",
       "        vertical-align: middle;\n",
       "    }\n",
       "\n",
       "    .dataframe tbody tr th {\n",
       "        vertical-align: top;\n",
       "    }\n",
       "\n",
       "    .dataframe thead th {\n",
       "        text-align: right;\n",
       "    }\n",
       "</style>\n",
       "<table border=\"1\" class=\"dataframe\">\n",
       "  <thead>\n",
       "    <tr style=\"text-align: right;\">\n",
       "      <th></th>\n",
       "      <th>HOUSEHOLD_KEY</th>\n",
       "      <th>COUPON_UPC</th>\n",
       "      <th>CAMPAIGN</th>\n",
       "      <th>DATE</th>\n",
       "    </tr>\n",
       "  </thead>\n",
       "  <tbody>\n",
       "    <tr>\n",
       "      <th>0</th>\n",
       "      <td>1</td>\n",
       "      <td>10000085364</td>\n",
       "      <td>8</td>\n",
       "      <td>2021-02-25</td>\n",
       "    </tr>\n",
       "  </tbody>\n",
       "</table>\n",
       "</div>"
      ],
      "text/plain": [
       "   HOUSEHOLD_KEY   COUPON_UPC  CAMPAIGN        DATE\n",
       "0              1  10000085364         8  2021-02-25"
      ]
     },
     "execution_count": 127,
     "metadata": {},
     "output_type": "execute_result"
    }
   ],
   "source": [
    "COUPON_REDEMPT_RAW.head(1)"
   ]
  },
  {
   "cell_type": "code",
   "execution_count": 128,
   "id": "0b787d5d",
   "metadata": {},
   "outputs": [
    {
     "data": {
      "text/plain": [
       "<snowflake.connector.cursor.SnowflakeCursor at 0x1fcec1c0950>"
      ]
     },
     "execution_count": 128,
     "metadata": {},
     "output_type": "execute_result"
    }
   ],
   "source": [
    "cur.execute(\n",
    "''' create or replace table COUPON_REDEMPT_NEW(\n",
    "HOUSEHOLD_KEY int,\n",
    "COUPON_UPC int,\n",
    "CAMPAIGN int,\n",
    "DATE date\n",
    ")''')"
   ]
  },
  {
   "cell_type": "code",
   "execution_count": 129,
   "id": "a6e1fdd4",
   "metadata": {},
   "outputs": [
    {
     "name": "stdout",
     "output_type": "stream",
     "text": [
      "True,1,2318\n"
     ]
    }
   ],
   "source": [
    "success , nchunks , nrows , _ = write_pandas( conn , COUPON_REDEMPT_RAW , 'COUPON_REDEMPT_NEW' , quote_identifiers=False)\n",
    "print(str(success)+','+str(nchunks)+','+str(nrows))"
   ]
  },
  {
   "cell_type": "code",
   "execution_count": 130,
   "id": "7f8b97bc",
   "metadata": {},
   "outputs": [
    {
     "data": {
      "text/html": [
       "<div>\n",
       "<style scoped>\n",
       "    .dataframe tbody tr th:only-of-type {\n",
       "        vertical-align: middle;\n",
       "    }\n",
       "\n",
       "    .dataframe tbody tr th {\n",
       "        vertical-align: top;\n",
       "    }\n",
       "\n",
       "    .dataframe thead th {\n",
       "        text-align: right;\n",
       "    }\n",
       "</style>\n",
       "<table border=\"1\" class=\"dataframe\">\n",
       "  <thead>\n",
       "    <tr style=\"text-align: right;\">\n",
       "      <th></th>\n",
       "      <th>HOUSEHOLD_KEY</th>\n",
       "      <th>BASKET_ID</th>\n",
       "      <th>PRODUCT_ID</th>\n",
       "      <th>QUANTITY</th>\n",
       "      <th>SALES_VALUE</th>\n",
       "      <th>STORE_ID</th>\n",
       "      <th>RETAIL_DISC</th>\n",
       "      <th>TRANS_TIME</th>\n",
       "      <th>COUPON_DISC</th>\n",
       "      <th>COUPON_MATCH_DISC</th>\n",
       "      <th>DATE</th>\n",
       "    </tr>\n",
       "  </thead>\n",
       "  <tbody>\n",
       "    <tr>\n",
       "      <th>0</th>\n",
       "      <td>2375</td>\n",
       "      <td>26984851472</td>\n",
       "      <td>1004906</td>\n",
       "      <td>1</td>\n",
       "      <td>1.39</td>\n",
       "      <td>364</td>\n",
       "      <td>-0.6</td>\n",
       "      <td>1631</td>\n",
       "      <td>0</td>\n",
       "      <td>0</td>\n",
       "      <td>2020-01-02</td>\n",
       "    </tr>\n",
       "    <tr>\n",
       "      <th>1</th>\n",
       "      <td>2375</td>\n",
       "      <td>26984851472</td>\n",
       "      <td>1033142</td>\n",
       "      <td>1</td>\n",
       "      <td>0.82</td>\n",
       "      <td>364</td>\n",
       "      <td>0.0</td>\n",
       "      <td>1631</td>\n",
       "      <td>0</td>\n",
       "      <td>0</td>\n",
       "      <td>2020-01-02</td>\n",
       "    </tr>\n",
       "    <tr>\n",
       "      <th>2</th>\n",
       "      <td>2375</td>\n",
       "      <td>26984851472</td>\n",
       "      <td>1036325</td>\n",
       "      <td>1</td>\n",
       "      <td>0.99</td>\n",
       "      <td>364</td>\n",
       "      <td>-0.3</td>\n",
       "      <td>1631</td>\n",
       "      <td>0</td>\n",
       "      <td>0</td>\n",
       "      <td>2020-01-02</td>\n",
       "    </tr>\n",
       "  </tbody>\n",
       "</table>\n",
       "</div>"
      ],
      "text/plain": [
       "   HOUSEHOLD_KEY    BASKET_ID  PRODUCT_ID  QUANTITY  SALES_VALUE  STORE_ID  \\\n",
       "0           2375  26984851472     1004906         1         1.39       364   \n",
       "1           2375  26984851472     1033142         1         0.82       364   \n",
       "2           2375  26984851472     1036325         1         0.99       364   \n",
       "\n",
       "   RETAIL_DISC  TRANS_TIME  COUPON_DISC  COUPON_MATCH_DISC        DATE  \n",
       "0         -0.6        1631            0                  0  2020-01-02  \n",
       "1          0.0        1631            0                  0  2020-01-02  \n",
       "2         -0.3        1631            0                  0  2020-01-02  "
      ]
     },
     "execution_count": 130,
     "metadata": {},
     "output_type": "execute_result"
    }
   ],
   "source": [
    "TRANSACTIONS_RAW.head(3)"
   ]
  },
  {
   "cell_type": "code",
   "execution_count": 131,
   "id": "8bc070ba",
   "metadata": {},
   "outputs": [
    {
     "data": {
      "text/plain": [
       "<snowflake.connector.cursor.SnowflakeCursor at 0x1fcec1c0950>"
      ]
     },
     "execution_count": 131,
     "metadata": {},
     "output_type": "execute_result"
    }
   ],
   "source": [
    "cur.execute(\n",
    "''' create or replace table TRANSACTIONS_NEW(\n",
    "HOUSEHOLD_KEY int,\n",
    "BASKET_ID int,\n",
    "PRODUCT_ID int,\n",
    "QUANTITY int,\n",
    "SALES_VALUE float,\n",
    "STORE_ID int,\n",
    "RETAIL_DISC float,\n",
    "TRANS_TIME int,\n",
    "COUPON_DISC int,\n",
    "COUPON_MATCH_DISC int,\n",
    "DATE date\n",
    ")''')"
   ]
  },
  {
   "cell_type": "code",
   "execution_count": 132,
   "id": "4cc4c2c8",
   "metadata": {},
   "outputs": [
    {
     "name": "stdout",
     "output_type": "stream",
     "text": [
      "True,1,450416\n"
     ]
    }
   ],
   "source": [
    "success , nchunks , nrows , _ = write_pandas( conn , TRANSACTIONS_RAW , 'TRANSACTIONS_NEW' , quote_identifiers=False)\n",
    "print(str(success)+','+str(nchunks)+','+str(nrows))"
   ]
  },
  {
   "cell_type": "code",
   "execution_count": 133,
   "id": "04095c45",
   "metadata": {},
   "outputs": [],
   "source": [
    "cur.close()\n",
    "conn.close()"
   ]
  },
  {
   "cell_type": "code",
   "execution_count": null,
   "id": "c6bdb22b",
   "metadata": {},
   "outputs": [],
   "source": []
  }
 ],
 "metadata": {
  "kernelspec": {
   "display_name": "Python 3 (ipykernel)",
   "language": "python",
   "name": "python3"
  },
  "language_info": {
   "codemirror_mode": {
    "name": "ipython",
    "version": 3
   },
   "file_extension": ".py",
   "mimetype": "text/x-python",
   "name": "python",
   "nbconvert_exporter": "python",
   "pygments_lexer": "ipython3",
   "version": "3.11.7"
  }
 },
 "nbformat": 4,
 "nbformat_minor": 5
}
